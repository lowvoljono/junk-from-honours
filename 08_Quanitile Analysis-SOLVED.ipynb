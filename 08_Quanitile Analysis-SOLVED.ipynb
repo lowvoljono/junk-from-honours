{
 "cells": [
  {
   "cell_type": "code",
   "execution_count": 1,
   "id": "interior-garbage",
   "metadata": {},
   "outputs": [],
   "source": [
    "import numpy as np\n",
    "import pandas as pd\n",
    "import matplotlib.pyplot as plt\n",
    "plt.style.use('seaborn')\n",
    "%matplotlib inline"
   ]
  },
  {
   "cell_type": "markdown",
   "id": "smooth-biotechnology",
   "metadata": {},
   "source": [
    "# Quantile Analysis\n",
    "Another form of non-linear analysis is the analysis of the simulated **performance of stocks grouped** based on the information signal.\n",
    "\n",
    "Alpha models based on factors (value, momentum, profitability, low-risk) normally have a **relative bet structure**: based on the signal we divide stocks into groups (good vs bad, or good vs meh vs bad, or very good vs good vs meh vs...). We are not forecasting that stock ABC will go up, but that will perform better than stock XYZ. \n",
    "\n",
    "A natural way to test the quality of an information signal is simply to:\n",
    "1. **Rank** stocks based on the signal.\n",
    "1. **Divide** them into groups.\n",
    "1. **Measure** the future return of said groups."
   ]
  },
  {
   "cell_type": "markdown",
   "id": "confident-architect",
   "metadata": {},
   "source": [
    "___\n",
    "## 1. Data\n",
    "Let's start by loading our data on returns and an information signal."
   ]
  },
  {
   "cell_type": "code",
   "execution_count": 2,
   "id": "genuine-documentation",
   "metadata": {},
   "outputs": [
    {
     "data": {
      "text/html": [
       "<div>\n",
       "<style scoped>\n",
       "    .dataframe tbody tr th:only-of-type {\n",
       "        vertical-align: middle;\n",
       "    }\n",
       "\n",
       "    .dataframe tbody tr th {\n",
       "        vertical-align: top;\n",
       "    }\n",
       "\n",
       "    .dataframe thead th {\n",
       "        text-align: right;\n",
       "    }\n",
       "</style>\n",
       "<table border=\"1\" class=\"dataframe\">\n",
       "  <thead>\n",
       "    <tr style=\"text-align: right;\">\n",
       "      <th></th>\n",
       "      <th></th>\n",
       "      <th>epq</th>\n",
       "      <th>fut_ret</th>\n",
       "    </tr>\n",
       "    <tr>\n",
       "      <th>id</th>\n",
       "      <th>date</th>\n",
       "      <th></th>\n",
       "      <th></th>\n",
       "    </tr>\n",
       "  </thead>\n",
       "  <tbody>\n",
       "    <tr>\n",
       "      <th rowspan=\"5\" valign=\"top\">10001</th>\n",
       "      <th>1986-11-28</th>\n",
       "      <td>-0.346658</td>\n",
       "      <td>0.014889</td>\n",
       "    </tr>\n",
       "    <tr>\n",
       "      <th>1986-12-31</th>\n",
       "      <td>-0.246254</td>\n",
       "      <td>-0.036368</td>\n",
       "    </tr>\n",
       "    <tr>\n",
       "      <th>1987-01-30</th>\n",
       "      <td>-0.326536</td>\n",
       "      <td>-0.076961</td>\n",
       "    </tr>\n",
       "    <tr>\n",
       "      <th>1987-02-27</th>\n",
       "      <td>0.418686</td>\n",
       "      <td>0.036139</td>\n",
       "    </tr>\n",
       "    <tr>\n",
       "      <th>1987-03-31</th>\n",
       "      <td>0.410622</td>\n",
       "      <td>-0.040005</td>\n",
       "    </tr>\n",
       "  </tbody>\n",
       "</table>\n",
       "</div>"
      ],
      "text/plain": [
       "                       epq   fut_ret\n",
       "id    date                          \n",
       "10001 1986-11-28 -0.346658  0.014889\n",
       "      1986-12-31 -0.246254 -0.036368\n",
       "      1987-01-30 -0.326536 -0.076961\n",
       "      1987-02-27  0.418686  0.036139\n",
       "      1987-03-31  0.410622 -0.040005"
      ]
     },
     "execution_count": 2,
     "metadata": {},
     "output_type": "execute_result"
    }
   ],
   "source": [
    "# we load the returns and produce the future monthly returns\n",
    "returns = pd.read_csv('Returns.zip', parse_dates=['date']).set_index(['id', 'date'])\n",
    "future_returns = returns.groupby('id')['return'].shift(-1).rename('fut_ret')\n",
    "\n",
    "# we load the information signal. To make our code more general we are going to rename the information signal\n",
    "signal = pd.read_csv('EPQ.zip', parse_dates=['date']).set_index(['id', 'date'])\n",
    "\n",
    "# we merge signal and future returns in the same DataFrame\n",
    "data = signal.join(future_returns).dropna()\n",
    "data.head()"
   ]
  },
  {
   "cell_type": "markdown",
   "id": "broke-theme",
   "metadata": {},
   "source": [
    "___\n",
    "## 2. Forming the Groups\n",
    "We can now start our quantile analysis by grouping the stocks based on the information signal. To achieve this we can use the pandas function [**`pandas.qcut()`**](https://pandas.pydata.org/pandas-docs/stable/reference/api/pandas.qcut.html)."
   ]
  },
  {
   "cell_type": "code",
   "execution_count": 3,
   "id": "growing-dublin",
   "metadata": {},
   "outputs": [
    {
     "data": {
      "text/html": [
       "<div>\n",
       "<style scoped>\n",
       "    .dataframe tbody tr th:only-of-type {\n",
       "        vertical-align: middle;\n",
       "    }\n",
       "\n",
       "    .dataframe tbody tr th {\n",
       "        vertical-align: top;\n",
       "    }\n",
       "\n",
       "    .dataframe thead th {\n",
       "        text-align: right;\n",
       "    }\n",
       "</style>\n",
       "<table border=\"1\" class=\"dataframe\">\n",
       "  <thead>\n",
       "    <tr style=\"text-align: right;\">\n",
       "      <th></th>\n",
       "      <th></th>\n",
       "      <th>epq</th>\n",
       "      <th>fut_ret</th>\n",
       "      <th>group</th>\n",
       "    </tr>\n",
       "    <tr>\n",
       "      <th>id</th>\n",
       "      <th>date</th>\n",
       "      <th></th>\n",
       "      <th></th>\n",
       "      <th></th>\n",
       "    </tr>\n",
       "  </thead>\n",
       "  <tbody>\n",
       "    <tr>\n",
       "      <th rowspan=\"5\" valign=\"top\">10001</th>\n",
       "      <th>1986-11-28</th>\n",
       "      <td>-0.346658</td>\n",
       "      <td>0.014889</td>\n",
       "      <td>0</td>\n",
       "    </tr>\n",
       "    <tr>\n",
       "      <th>1986-12-31</th>\n",
       "      <td>-0.246254</td>\n",
       "      <td>-0.036368</td>\n",
       "      <td>0</td>\n",
       "    </tr>\n",
       "    <tr>\n",
       "      <th>1987-01-30</th>\n",
       "      <td>-0.326536</td>\n",
       "      <td>-0.076961</td>\n",
       "      <td>0</td>\n",
       "    </tr>\n",
       "    <tr>\n",
       "      <th>1987-02-27</th>\n",
       "      <td>0.418686</td>\n",
       "      <td>0.036139</td>\n",
       "      <td>3</td>\n",
       "    </tr>\n",
       "    <tr>\n",
       "      <th>1987-03-31</th>\n",
       "      <td>0.410622</td>\n",
       "      <td>-0.040005</td>\n",
       "      <td>3</td>\n",
       "    </tr>\n",
       "  </tbody>\n",
       "</table>\n",
       "</div>"
      ],
      "text/plain": [
       "                       epq   fut_ret  group\n",
       "id    date                                 \n",
       "10001 1986-11-28 -0.346658  0.014889      0\n",
       "      1986-12-31 -0.246254 -0.036368      0\n",
       "      1987-01-30 -0.326536 -0.076961      0\n",
       "      1987-02-27  0.418686  0.036139      3\n",
       "      1987-03-31  0.410622 -0.040005      3"
      ]
     },
     "execution_count": 3,
     "metadata": {},
     "output_type": "execute_result"
    }
   ],
   "source": [
    "# We start by choosing the number of bins\n",
    "N = 4\n",
    "\n",
    "# We apply the pandas.qcut() function using a lambda function\n",
    "data['group'] = data.groupby('date')['epq'].apply(lambda x: pd.qcut(x,N, labels=False))\n",
    "\n",
    "data.head()"
   ]
  },
  {
   "cell_type": "markdown",
   "id": "rural-directive",
   "metadata": {},
   "source": [
    "___\n",
    "### 2.1 An intermission on Lambda Functions\n",
    "This is the first time we encounter a [**lambda function**](https://realpython.com/python-lambda/). This is a construct common to a number of programming languages. It is technically known as an **anonymous function**. The idea is that you build and run a function in the same line. For example if we want to create a function to add 1 to a number we can write:"
   ]
  },
  {
   "cell_type": "code",
   "execution_count": 4,
   "id": "known-dealer",
   "metadata": {},
   "outputs": [
    {
     "data": {
      "text/plain": [
       "3"
      ]
     },
     "execution_count": 4,
     "metadata": {},
     "output_type": "execute_result"
    }
   ],
   "source": [
    "def add_one(x):\n",
    "    return x + 1\n",
    "\n",
    "#let's test\n",
    "add_one(2)"
   ]
  },
  {
   "cell_type": "markdown",
   "id": "italian-payday",
   "metadata": {},
   "source": [
    "The following lambda function performs the same task:"
   ]
  },
  {
   "cell_type": "code",
   "execution_count": 5,
   "id": "alone-safety",
   "metadata": {},
   "outputs": [
    {
     "data": {
      "text/plain": [
       "3"
      ]
     },
     "execution_count": 5,
     "metadata": {},
     "output_type": "execute_result"
    }
   ],
   "source": [
    "lambda x: x + 1\n",
    "\n",
    "#we can apply the function surrounding the function and its argument in parenthesis\n",
    "(lambda x: x + 1)(2)"
   ]
  },
  {
   "cell_type": "markdown",
   "id": "detected-suspect",
   "metadata": {},
   "source": [
    "A way to understand lambda functions is to read them aloud in this way: the function\n",
    "```python\n",
    "lambda x: x + 1\n",
    "```\n",
    "becomes \"When I give you `x` you give me back `x+1`\". \n",
    "___\n",
    "In our code above the function looks like \n",
    "```python\n",
    "lambda x: pd.qcut(x,N, labels=False)\n",
    "```\n",
    "and we can read \"When I give you `x` give me the group (quantile) to which it belongs after cutting the sample in `N` groups. But what is `x`? Well we use the [**`DataFrame.apply()`**](https://pandas.pydata.org/pandas-docs/stable/reference/api/pandas.DataFrame.apply.html) method to \"apply\" this function to our signal after grouping the sample by date. \n",
    "\n",
    "Has the function worked? Let's count how many observations we have in any bin. We can easily do this with the method [**`Series.value_counts()`**](https://pandas.pydata.org/docs/reference/api/pandas.Series.value_counts.html) that simply counts the values of a variable. If we look at the values of the new coulmn we see..."
   ]
  },
  {
   "cell_type": "code",
   "execution_count": 6,
   "id": "thirty-holocaust",
   "metadata": {},
   "outputs": [
    {
     "data": {
      "text/plain": [
       "0    514840\n",
       "1    510269\n",
       "2    512223\n",
       "3    512038\n",
       "Name: group, dtype: int64"
      ]
     },
     "execution_count": 6,
     "metadata": {},
     "output_type": "execute_result"
    }
   ],
   "source": [
    "data['group'].value_counts().sort_index() #The sort index is to have the value ranked based on the bin number, the index."
   ]
  },
  {
   "cell_type": "markdown",
   "id": "aerial-polymer",
   "metadata": {},
   "source": [
    "...that, in fact, the sample is more or less **equally split between the different groups**. If you are ocd like me and hate to see the group numbering starting from zero, you can apply **add 1 at the end**."
   ]
  },
  {
   "cell_type": "code",
   "execution_count": 7,
   "id": "dressed-storage",
   "metadata": {},
   "outputs": [
    {
     "data": {
      "text/plain": [
       "1    514840\n",
       "2    510269\n",
       "3    512223\n",
       "4    512038\n",
       "Name: group, dtype: int64"
      ]
     },
     "execution_count": 7,
     "metadata": {},
     "output_type": "execute_result"
    }
   ],
   "source": [
    "data['group'] = data.groupby('date')['epq'].apply(lambda x: pd.qcut(x,N, labels=False))+1\n",
    "data['group'].value_counts().sort_index()"
   ]
  },
  {
   "cell_type": "markdown",
   "id": "equipped-evanescence",
   "metadata": {},
   "source": [
    "We can now calculate the average signal, and the **average future return** for the stocks in each group:"
   ]
  },
  {
   "cell_type": "code",
   "execution_count": 8,
   "id": "secure-conjunction",
   "metadata": {},
   "outputs": [
    {
     "data": {
      "text/html": [
       "<div>\n",
       "<style scoped>\n",
       "    .dataframe tbody tr th:only-of-type {\n",
       "        vertical-align: middle;\n",
       "    }\n",
       "\n",
       "    .dataframe tbody tr th {\n",
       "        vertical-align: top;\n",
       "    }\n",
       "\n",
       "    .dataframe thead th {\n",
       "        text-align: right;\n",
       "    }\n",
       "</style>\n",
       "<table border=\"1\" class=\"dataframe\">\n",
       "  <thead>\n",
       "    <tr style=\"text-align: right;\">\n",
       "      <th></th>\n",
       "      <th></th>\n",
       "      <th>epq</th>\n",
       "      <th>fut_ret</th>\n",
       "    </tr>\n",
       "    <tr>\n",
       "      <th>date</th>\n",
       "      <th>group</th>\n",
       "      <th></th>\n",
       "      <th></th>\n",
       "    </tr>\n",
       "  </thead>\n",
       "  <tbody>\n",
       "    <tr>\n",
       "      <th rowspan=\"4\" valign=\"top\">1980-01-31</th>\n",
       "      <th>1</th>\n",
       "      <td>-1.031313</td>\n",
       "      <td>-0.022276</td>\n",
       "    </tr>\n",
       "    <tr>\n",
       "      <th>2</th>\n",
       "      <td>-0.109783</td>\n",
       "      <td>-0.029643</td>\n",
       "    </tr>\n",
       "    <tr>\n",
       "      <th>3</th>\n",
       "      <td>0.231804</td>\n",
       "      <td>-0.042486</td>\n",
       "    </tr>\n",
       "    <tr>\n",
       "      <th>4</th>\n",
       "      <td>0.943896</td>\n",
       "      <td>-0.034873</td>\n",
       "    </tr>\n",
       "    <tr>\n",
       "      <th rowspan=\"4\" valign=\"top\">1980-02-29</th>\n",
       "      <th>1</th>\n",
       "      <td>-1.057291</td>\n",
       "      <td>-0.223656</td>\n",
       "    </tr>\n",
       "    <tr>\n",
       "      <th>2</th>\n",
       "      <td>-0.112860</td>\n",
       "      <td>-0.163428</td>\n",
       "    </tr>\n",
       "    <tr>\n",
       "      <th>3</th>\n",
       "      <td>0.225932</td>\n",
       "      <td>-0.154802</td>\n",
       "    </tr>\n",
       "    <tr>\n",
       "      <th>4</th>\n",
       "      <td>0.937386</td>\n",
       "      <td>-0.152080</td>\n",
       "    </tr>\n",
       "    <tr>\n",
       "      <th rowspan=\"2\" valign=\"top\">1980-03-31</th>\n",
       "      <th>1</th>\n",
       "      <td>-0.956143</td>\n",
       "      <td>0.036317</td>\n",
       "    </tr>\n",
       "    <tr>\n",
       "      <th>2</th>\n",
       "      <td>-0.089798</td>\n",
       "      <td>0.055503</td>\n",
       "    </tr>\n",
       "  </tbody>\n",
       "</table>\n",
       "</div>"
      ],
      "text/plain": [
       "                       epq   fut_ret\n",
       "date       group                    \n",
       "1980-01-31 1     -1.031313 -0.022276\n",
       "           2     -0.109783 -0.029643\n",
       "           3      0.231804 -0.042486\n",
       "           4      0.943896 -0.034873\n",
       "1980-02-29 1     -1.057291 -0.223656\n",
       "           2     -0.112860 -0.163428\n",
       "           3      0.225932 -0.154802\n",
       "           4      0.937386 -0.152080\n",
       "1980-03-31 1     -0.956143  0.036317\n",
       "           2     -0.089798  0.055503"
      ]
     },
     "execution_count": 8,
     "metadata": {},
     "output_type": "execute_result"
    }
   ],
   "source": [
    "portfolios = data.groupby(['date','group']).mean()\n",
    "portfolios.head(10)"
   ]
  },
  {
   "cell_type": "markdown",
   "id": "opposite-committee",
   "metadata": {},
   "source": [
    "Since we have grouped by 2 variables (`date` and `group`) the output is a DateFrame with a double index: each individual observation is identified by a combination of a specific date and a specific group. This is called a [MultiIndex](https://pandas.pydata.org/pandas-docs/stable/user_guide/advanced.html) and it's a very powerful tool in Pandas. A tool that we have avoided up to this point because it is quite complicated. So, for now, let's keep avoiding it. We can [**`DataFrame.unstack()`**](https://pandas.pydata.org/pandas-docs/stable/reference/api/pandas.DataFrame.unstack.html) the groups to have the return of each group in a different column:"
   ]
  },
  {
   "cell_type": "code",
   "execution_count": 9,
   "id": "liked-omaha",
   "metadata": {},
   "outputs": [
    {
     "data": {
      "text/html": [
       "<div>\n",
       "<style scoped>\n",
       "    .dataframe tbody tr th:only-of-type {\n",
       "        vertical-align: middle;\n",
       "    }\n",
       "\n",
       "    .dataframe tbody tr th {\n",
       "        vertical-align: top;\n",
       "    }\n",
       "\n",
       "    .dataframe thead th {\n",
       "        text-align: right;\n",
       "    }\n",
       "</style>\n",
       "<table border=\"1\" class=\"dataframe\">\n",
       "  <thead>\n",
       "    <tr style=\"text-align: right;\">\n",
       "      <th>group</th>\n",
       "      <th>1</th>\n",
       "      <th>2</th>\n",
       "      <th>3</th>\n",
       "      <th>4</th>\n",
       "    </tr>\n",
       "    <tr>\n",
       "      <th>date</th>\n",
       "      <th></th>\n",
       "      <th></th>\n",
       "      <th></th>\n",
       "      <th></th>\n",
       "    </tr>\n",
       "  </thead>\n",
       "  <tbody>\n",
       "    <tr>\n",
       "      <th>1980-01-31</th>\n",
       "      <td>-0.022276</td>\n",
       "      <td>-0.029643</td>\n",
       "      <td>-0.042486</td>\n",
       "      <td>-0.034873</td>\n",
       "    </tr>\n",
       "    <tr>\n",
       "      <th>1980-02-29</th>\n",
       "      <td>-0.223656</td>\n",
       "      <td>-0.163428</td>\n",
       "      <td>-0.154802</td>\n",
       "      <td>-0.152080</td>\n",
       "    </tr>\n",
       "    <tr>\n",
       "      <th>1980-03-31</th>\n",
       "      <td>0.036317</td>\n",
       "      <td>0.055503</td>\n",
       "      <td>0.057437</td>\n",
       "      <td>0.055318</td>\n",
       "    </tr>\n",
       "    <tr>\n",
       "      <th>1980-04-30</th>\n",
       "      <td>0.061919</td>\n",
       "      <td>0.064600</td>\n",
       "      <td>0.075952</td>\n",
       "      <td>0.077991</td>\n",
       "    </tr>\n",
       "    <tr>\n",
       "      <th>1980-05-30</th>\n",
       "      <td>0.028787</td>\n",
       "      <td>0.031867</td>\n",
       "      <td>0.028916</td>\n",
       "      <td>0.047009</td>\n",
       "    </tr>\n",
       "  </tbody>\n",
       "</table>\n",
       "</div>"
      ],
      "text/plain": [
       "group              1         2         3         4\n",
       "date                                              \n",
       "1980-01-31 -0.022276 -0.029643 -0.042486 -0.034873\n",
       "1980-02-29 -0.223656 -0.163428 -0.154802 -0.152080\n",
       "1980-03-31  0.036317  0.055503  0.057437  0.055318\n",
       "1980-04-30  0.061919  0.064600  0.075952  0.077991\n",
       "1980-05-30  0.028787  0.031867  0.028916  0.047009"
      ]
     },
     "execution_count": 9,
     "metadata": {},
     "output_type": "execute_result"
    }
   ],
   "source": [
    "port_returns = portfolios['fut_ret'].unstack(level=1) #level 0 is the first index (date), level 1 is the second (group).\n",
    "port_returns.head()"
   ]
  },
  {
   "cell_type": "markdown",
   "id": "regulated-language",
   "metadata": {},
   "source": [
    "___\n",
    "## 3. Measuring the Performance\n",
    "Now we have easy to use time series for the monthly return of each portfolio. At this point we can start measuring their performance:"
   ]
  },
  {
   "cell_type": "code",
   "execution_count": 10,
   "id": "senior-accent",
   "metadata": {},
   "outputs": [
    {
     "data": {
      "text/plain": [
       "group\n",
       "1   -0.215281\n",
       "2   -0.024975\n",
       "3    0.072524\n",
       "4    0.120883\n",
       "dtype: float64"
      ]
     },
     "execution_count": 10,
     "metadata": {},
     "output_type": "execute_result"
    }
   ],
   "source": [
    "# annualized mean return\n",
    "port_returns.mean()*12"
   ]
  },
  {
   "cell_type": "code",
   "execution_count": 11,
   "id": "undefined-community",
   "metadata": {},
   "outputs": [
    {
     "data": {
      "text/plain": [
       "group\n",
       "1    0.290740\n",
       "2    0.209381\n",
       "3    0.168941\n",
       "4    0.189058\n",
       "dtype: float64"
      ]
     },
     "execution_count": 11,
     "metadata": {},
     "output_type": "execute_result"
    }
   ],
   "source": [
    "# annualized volatility\n",
    "port_returns.std()*np.sqrt(12)"
   ]
  },
  {
   "cell_type": "code",
   "execution_count": 12,
   "id": "welsh-marsh",
   "metadata": {},
   "outputs": [
    {
     "data": {
      "text/plain": [
       "group\n",
       "1   -9.298258\n",
       "2   -2.004467\n",
       "3    4.441129\n",
       "4    7.038019\n",
       "dtype: float64"
      ]
     },
     "execution_count": 12,
     "metadata": {},
     "output_type": "execute_result"
    }
   ],
   "source": [
    "# annualized Sharpe Ratio assuming a risk free rate of 1%\n",
    "(port_returns.mean()*12 - 0.01) / port_returns.std()*np.sqrt(12)"
   ]
  },
  {
   "cell_type": "markdown",
   "id": "continued-timeline",
   "metadata": {},
   "source": [
    "We can see that the information signal performs well: **higher groups have higher average return**. Instead of printing these performance measures on screen, we can **store them in a DataFrame.**"
   ]
  },
  {
   "cell_type": "code",
   "execution_count": 13,
   "id": "surrounded-trading",
   "metadata": {},
   "outputs": [
    {
     "data": {
      "text/html": [
       "<div>\n",
       "<style scoped>\n",
       "    .dataframe tbody tr th:only-of-type {\n",
       "        vertical-align: middle;\n",
       "    }\n",
       "\n",
       "    .dataframe tbody tr th {\n",
       "        vertical-align: top;\n",
       "    }\n",
       "\n",
       "    .dataframe thead th {\n",
       "        text-align: right;\n",
       "    }\n",
       "</style>\n",
       "<table border=\"1\" class=\"dataframe\">\n",
       "  <thead>\n",
       "    <tr style=\"text-align: right;\">\n",
       "      <th></th>\n",
       "      <th>Mean Ret</th>\n",
       "      <th>Std Dev</th>\n",
       "      <th>Sharpe Ratio</th>\n",
       "    </tr>\n",
       "    <tr>\n",
       "      <th>group</th>\n",
       "      <th></th>\n",
       "      <th></th>\n",
       "      <th></th>\n",
       "    </tr>\n",
       "  </thead>\n",
       "  <tbody>\n",
       "    <tr>\n",
       "      <th>1</th>\n",
       "      <td>-0.215281</td>\n",
       "      <td>0.290740</td>\n",
       "      <td>-9.298258</td>\n",
       "    </tr>\n",
       "    <tr>\n",
       "      <th>2</th>\n",
       "      <td>-0.024975</td>\n",
       "      <td>0.209381</td>\n",
       "      <td>-2.004467</td>\n",
       "    </tr>\n",
       "    <tr>\n",
       "      <th>3</th>\n",
       "      <td>0.072524</td>\n",
       "      <td>0.168941</td>\n",
       "      <td>4.441129</td>\n",
       "    </tr>\n",
       "    <tr>\n",
       "      <th>4</th>\n",
       "      <td>0.120883</td>\n",
       "      <td>0.189058</td>\n",
       "      <td>7.038019</td>\n",
       "    </tr>\n",
       "  </tbody>\n",
       "</table>\n",
       "</div>"
      ],
      "text/plain": [
       "       Mean Ret   Std Dev  Sharpe Ratio\n",
       "group                                  \n",
       "1     -0.215281  0.290740     -9.298258\n",
       "2     -0.024975  0.209381     -2.004467\n",
       "3      0.072524  0.168941      4.441129\n",
       "4      0.120883  0.189058      7.038019"
      ]
     },
     "execution_count": 13,
     "metadata": {},
     "output_type": "execute_result"
    }
   ],
   "source": [
    "mean_return = port_returns.mean()*12\n",
    "volatility = port_returns.std()*np.sqrt(12)\n",
    "sharpe = (port_returns.mean()*12 - 0.01) / port_returns.std()*np.sqrt(12)\n",
    "\n",
    "performance = pd.DataFrame({'Mean Ret': mean_return,\n",
    "                            'Std Dev': volatility,\n",
    "                            'Sharpe Ratio': sharpe})\n",
    "performance"
   ]
  },
  {
   "cell_type": "markdown",
   "id": "thorough-throw",
   "metadata": {},
   "source": [
    "### 3.1 Plotting Performance\n",
    "We can also plot the performance of each portfolio. To do this, we need to convert monthly returns into a series of portfolio prices. Since we are using logarithmic returns this is trivial. We know that if an asset has, in three periods, returns equal to $r_{1}$, $r_{2}$ and $r_{3}$, than the return from time 0 to time 3 is simply the sum\n",
    "$$r_{0, 3} = \\sum_{t=1}^{3}r_{t}$$\n",
    "\n",
    "And we also know that the dollar value at the end of time 3 of a $1 investment in time 0 is\n",
    "\n",
    "$$W_{3} = \\$1\\times e^{r_{0, 3}}$$\n",
    "\n",
    "We can simply apply the Numpy exponential function [**`numpy.exp()`**](https://numpy.org/doc/stable/reference/generated/numpy.exp.html) to the cumulative returns calculated using the [**`DataFrame.cumsum()`**](https://pandas.pydata.org/pandas-docs/stable/reference/api/pandas.DataFrame.cumsum.html) method. \n"
   ]
  },
  {
   "cell_type": "code",
   "execution_count": 14,
   "id": "daily-portuguese",
   "metadata": {},
   "outputs": [
    {
     "data": {
      "text/html": [
       "<div>\n",
       "<style scoped>\n",
       "    .dataframe tbody tr th:only-of-type {\n",
       "        vertical-align: middle;\n",
       "    }\n",
       "\n",
       "    .dataframe tbody tr th {\n",
       "        vertical-align: top;\n",
       "    }\n",
       "\n",
       "    .dataframe thead th {\n",
       "        text-align: right;\n",
       "    }\n",
       "</style>\n",
       "<table border=\"1\" class=\"dataframe\">\n",
       "  <thead>\n",
       "    <tr style=\"text-align: right;\">\n",
       "      <th>group</th>\n",
       "      <th>1</th>\n",
       "      <th>2</th>\n",
       "      <th>3</th>\n",
       "      <th>4</th>\n",
       "    </tr>\n",
       "    <tr>\n",
       "      <th>date</th>\n",
       "      <th></th>\n",
       "      <th></th>\n",
       "      <th></th>\n",
       "      <th></th>\n",
       "    </tr>\n",
       "  </thead>\n",
       "  <tbody>\n",
       "    <tr>\n",
       "      <th>1980-01-31</th>\n",
       "      <td>0.977971</td>\n",
       "      <td>0.970792</td>\n",
       "      <td>0.958404</td>\n",
       "      <td>0.965728</td>\n",
       "    </tr>\n",
       "    <tr>\n",
       "      <th>1980-02-29</th>\n",
       "      <td>0.781976</td>\n",
       "      <td>0.824424</td>\n",
       "      <td>0.820954</td>\n",
       "      <td>0.829482</td>\n",
       "    </tr>\n",
       "    <tr>\n",
       "      <th>1980-03-31</th>\n",
       "      <td>0.810897</td>\n",
       "      <td>0.871476</td>\n",
       "      <td>0.869488</td>\n",
       "      <td>0.876661</td>\n",
       "    </tr>\n",
       "    <tr>\n",
       "      <th>1980-04-30</th>\n",
       "      <td>0.862694</td>\n",
       "      <td>0.929632</td>\n",
       "      <td>0.938100</td>\n",
       "      <td>0.947770</td>\n",
       "    </tr>\n",
       "    <tr>\n",
       "      <th>1980-05-30</th>\n",
       "      <td>0.887889</td>\n",
       "      <td>0.959733</td>\n",
       "      <td>0.965623</td>\n",
       "      <td>0.993387</td>\n",
       "    </tr>\n",
       "  </tbody>\n",
       "</table>\n",
       "</div>"
      ],
      "text/plain": [
       "group              1         2         3         4\n",
       "date                                              \n",
       "1980-01-31  0.977971  0.970792  0.958404  0.965728\n",
       "1980-02-29  0.781976  0.824424  0.820954  0.829482\n",
       "1980-03-31  0.810897  0.871476  0.869488  0.876661\n",
       "1980-04-30  0.862694  0.929632  0.938100  0.947770\n",
       "1980-05-30  0.887889  0.959733  0.965623  0.993387"
      ]
     },
     "execution_count": 14,
     "metadata": {},
     "output_type": "execute_result"
    }
   ],
   "source": [
    "port_values = port_returns.cumsum().apply(np.exp)\n",
    "port_values.head()"
   ]
  },
  {
   "cell_type": "markdown",
   "id": "cellular-proceeding",
   "metadata": {},
   "source": [
    "And then we can easily **plot them**."
   ]
  },
  {
   "cell_type": "code",
   "execution_count": 15,
   "id": "imperial-anthony",
   "metadata": {},
   "outputs": [
    {
     "data": {
      "text/plain": [
       "<AxesSubplot:title={'center':'Quantile Portfolio Values'}, xlabel='Time', ylabel='Portfolio Value'>"
      ]
     },
     "execution_count": 15,
     "metadata": {},
     "output_type": "execute_result"
    },
    {
     "data": {
      "image/png": "[encoded data removed]",
      "text/plain": [
       "<Figure size 720x432 with 1 Axes>"
      ]
     },
     "metadata": {
      "needs_background": "light"
     },
     "output_type": "display_data"
    }
   ],
   "source": [
    "port_values.plot(figsize=(10,6),\n",
    "                 title='Quantile Portfolio Values',\n",
    "                 xlabel='Time',\n",
    "                 ylabel='Portfolio Value')"
   ]
  },
  {
   "cell_type": "markdown",
   "id": "dried-panama",
   "metadata": {},
   "source": [
    "Visual inspection of the graph confirms that **the information signal has value**: higher signal leads to higher average performance. This is no surprise given the higher average monthly return, but when you present your strategy to possible investors, **a graph is worth 10 tables**...\n",
    "\n",
    "This graph is not very easy to read. The last quintile portfolio has a very strong performance that, on a linear scale, makes the performance of the other portfolios difficult to read. To be able to compare the returns graphically we need to plot the portfolio values on a **logarithmic scale**."
   ]
  },
  {
   "cell_type": "code",
   "execution_count": 16,
   "id": "extreme-digit",
   "metadata": {},
   "outputs": [
    {
     "data": {
      "text/plain": [
       "<AxesSubplot:title={'center':'Quantile Portfolio Values'}, xlabel='Time', ylabel='Portfolio Value (Log-Scale)'>"
      ]
     },
     "execution_count": 16,
     "metadata": {},
     "output_type": "execute_result"
    },
    {
     "data": {
      "image/png": "[encoded data removed]",
      "text/plain": [
       "<Figure size 720x432 with 1 Axes>"
      ]
     },
     "metadata": {
      "needs_background": "light"
     },
     "output_type": "display_data"
    }
   ],
   "source": [
    "port_values.plot(figsize=(10,6),\n",
    "                 title='Quantile Portfolio Values',\n",
    "                 xlabel='Time',\n",
    "                 ylabel='Portfolio Value (Log-Scale)',\n",
    "                 logy=True) #the last argument specifies log-scale for the Y axis"
   ]
  },
  {
   "cell_type": "markdown",
   "id": "frank-count",
   "metadata": {},
   "source": [
    "Now we clearly see that the ranking of the portfolio performance is as expected: the lower the information signal, the worse is the performance."
   ]
  },
  {
   "cell_type": "markdown",
   "id": "indian-formula",
   "metadata": {},
   "source": [
    "___\n",
    "## 4. Zero-Investment Portfolios\n",
    "So far we have analyzed the performance of an hypothetical portfolio strategy of the type _\"Invest in Group 4\"_ or _\"Invest in Group N\"_. Even if our signal is very good, such a **long-only strategy** could still experience significant losses if the market as a whole falls. The performance of our portfolios **during the GFC** is an example of this.\n",
    "\n",
    "The reason for this apparent \"bug\" in our approach, is that our alpha model produces **relative bets**, so we should **invest accordingly**. We do not know that group N will _perform \"well\"_, we know that it will likely perform _\"better than group 1\"_, or _\"better than the market\"_ (the two bets are equivalent: the market is made of group 1, 2, ..., N).\n",
    "\n",
    "We can simulate the performance of two different **zero-investment strategies**:\n",
    "* We go long in the \"best\" group and short on the \"worst\" group.\n",
    "* We go long in the \"best\" group and short on the market.\n",
    "\n",
    "These strategies are called zero-investment because in an ideal world we could **use the proceeds** from the short positions to finance the investment in the long positions. This is not really the case, as the market regulators normally require **margin deposits** to guarantee the short positions.\n",
    "\n",
    "Since this is not a realistic backtesting but we are simply doing some non-linear statistical analysis let's start by using the **average return of all the stocks** as a proxy for the market return:"
   ]
  },
  {
   "cell_type": "code",
   "execution_count": 17,
   "id": "aggregate-pontiac",
   "metadata": {},
   "outputs": [
    {
     "data": {
      "text/plain": [
       "date\n",
       "1980-01-31   -0.032314\n",
       "1980-02-29   -0.173508\n",
       "1980-03-31    0.051137\n",
       "1980-04-30    0.070111\n",
       "1980-05-30    0.034145\n",
       "Name: Benchmark, dtype: float64"
      ]
     },
     "execution_count": 17,
     "metadata": {},
     "output_type": "execute_result"
    }
   ],
   "source": [
    "benchmark_return = data.groupby('date')['fut_ret'].mean().rename('Benchmark')\n",
    "benchmark_return.head()"
   ]
  },
  {
   "cell_type": "markdown",
   "id": "attended-kansas",
   "metadata": {},
   "source": [
    "Let's merge this into the `port_returns` DataFrame"
   ]
  },
  {
   "cell_type": "code",
   "execution_count": 18,
   "id": "thirty-history",
   "metadata": {},
   "outputs": [
    {
     "data": {
      "text/html": [
       "<div>\n",
       "<style scoped>\n",
       "    .dataframe tbody tr th:only-of-type {\n",
       "        vertical-align: middle;\n",
       "    }\n",
       "\n",
       "    .dataframe tbody tr th {\n",
       "        vertical-align: top;\n",
       "    }\n",
       "\n",
       "    .dataframe thead th {\n",
       "        text-align: right;\n",
       "    }\n",
       "</style>\n",
       "<table border=\"1\" class=\"dataframe\">\n",
       "  <thead>\n",
       "    <tr style=\"text-align: right;\">\n",
       "      <th></th>\n",
       "      <th>1</th>\n",
       "      <th>2</th>\n",
       "      <th>3</th>\n",
       "      <th>4</th>\n",
       "      <th>Benchmark</th>\n",
       "    </tr>\n",
       "    <tr>\n",
       "      <th>date</th>\n",
       "      <th></th>\n",
       "      <th></th>\n",
       "      <th></th>\n",
       "      <th></th>\n",
       "      <th></th>\n",
       "    </tr>\n",
       "  </thead>\n",
       "  <tbody>\n",
       "    <tr>\n",
       "      <th>1980-01-31</th>\n",
       "      <td>-0.022276</td>\n",
       "      <td>-0.029643</td>\n",
       "      <td>-0.042486</td>\n",
       "      <td>-0.034873</td>\n",
       "      <td>-0.032314</td>\n",
       "    </tr>\n",
       "    <tr>\n",
       "      <th>1980-02-29</th>\n",
       "      <td>-0.223656</td>\n",
       "      <td>-0.163428</td>\n",
       "      <td>-0.154802</td>\n",
       "      <td>-0.152080</td>\n",
       "      <td>-0.173508</td>\n",
       "    </tr>\n",
       "    <tr>\n",
       "      <th>1980-03-31</th>\n",
       "      <td>0.036317</td>\n",
       "      <td>0.055503</td>\n",
       "      <td>0.057437</td>\n",
       "      <td>0.055318</td>\n",
       "      <td>0.051137</td>\n",
       "    </tr>\n",
       "    <tr>\n",
       "      <th>1980-04-30</th>\n",
       "      <td>0.061919</td>\n",
       "      <td>0.064600</td>\n",
       "      <td>0.075952</td>\n",
       "      <td>0.077991</td>\n",
       "      <td>0.070111</td>\n",
       "    </tr>\n",
       "    <tr>\n",
       "      <th>1980-05-30</th>\n",
       "      <td>0.028787</td>\n",
       "      <td>0.031867</td>\n",
       "      <td>0.028916</td>\n",
       "      <td>0.047009</td>\n",
       "      <td>0.034145</td>\n",
       "    </tr>\n",
       "  </tbody>\n",
       "</table>\n",
       "</div>"
      ],
      "text/plain": [
       "                   1         2         3         4  Benchmark\n",
       "date                                                         \n",
       "1980-01-31 -0.022276 -0.029643 -0.042486 -0.034873  -0.032314\n",
       "1980-02-29 -0.223656 -0.163428 -0.154802 -0.152080  -0.173508\n",
       "1980-03-31  0.036317  0.055503  0.057437  0.055318   0.051137\n",
       "1980-04-30  0.061919  0.064600  0.075952  0.077991   0.070111\n",
       "1980-05-30  0.028787  0.031867  0.028916  0.047009   0.034145"
      ]
     },
     "execution_count": 18,
     "metadata": {},
     "output_type": "execute_result"
    }
   ],
   "source": [
    "port_returns = port_returns.join(benchmark_return.to_frame())\n",
    "port_returns.head()"
   ]
  },
  {
   "cell_type": "markdown",
   "id": "educated-christmas",
   "metadata": {},
   "source": [
    "Let's now create a zero-investment strategy called `Active` where we go long on the best portfolio and short on the market. In the same way we can create a second zero-investment strategy called `Neutral` where we go long on the best group and short on the worst:"
   ]
  },
  {
   "cell_type": "code",
   "execution_count": 19,
   "id": "improving-advisory",
   "metadata": {},
   "outputs": [
    {
     "data": {
      "text/html": [
       "<div>\n",
       "<style scoped>\n",
       "    .dataframe tbody tr th:only-of-type {\n",
       "        vertical-align: middle;\n",
       "    }\n",
       "\n",
       "    .dataframe tbody tr th {\n",
       "        vertical-align: top;\n",
       "    }\n",
       "\n",
       "    .dataframe thead th {\n",
       "        text-align: right;\n",
       "    }\n",
       "</style>\n",
       "<table border=\"1\" class=\"dataframe\">\n",
       "  <thead>\n",
       "    <tr style=\"text-align: right;\">\n",
       "      <th></th>\n",
       "      <th>1</th>\n",
       "      <th>2</th>\n",
       "      <th>3</th>\n",
       "      <th>4</th>\n",
       "      <th>Benchmark</th>\n",
       "      <th>Active</th>\n",
       "      <th>Neutral</th>\n",
       "    </tr>\n",
       "    <tr>\n",
       "      <th>date</th>\n",
       "      <th></th>\n",
       "      <th></th>\n",
       "      <th></th>\n",
       "      <th></th>\n",
       "      <th></th>\n",
       "      <th></th>\n",
       "      <th></th>\n",
       "    </tr>\n",
       "  </thead>\n",
       "  <tbody>\n",
       "    <tr>\n",
       "      <th>1980-01-31</th>\n",
       "      <td>-0.022276</td>\n",
       "      <td>-0.029643</td>\n",
       "      <td>-0.042486</td>\n",
       "      <td>-0.034873</td>\n",
       "      <td>-0.032314</td>\n",
       "      <td>-0.002560</td>\n",
       "      <td>-0.012598</td>\n",
       "    </tr>\n",
       "    <tr>\n",
       "      <th>1980-02-29</th>\n",
       "      <td>-0.223656</td>\n",
       "      <td>-0.163428</td>\n",
       "      <td>-0.154802</td>\n",
       "      <td>-0.152080</td>\n",
       "      <td>-0.173508</td>\n",
       "      <td>0.021428</td>\n",
       "      <td>0.071576</td>\n",
       "    </tr>\n",
       "    <tr>\n",
       "      <th>1980-03-31</th>\n",
       "      <td>0.036317</td>\n",
       "      <td>0.055503</td>\n",
       "      <td>0.057437</td>\n",
       "      <td>0.055318</td>\n",
       "      <td>0.051137</td>\n",
       "      <td>0.004181</td>\n",
       "      <td>0.019001</td>\n",
       "    </tr>\n",
       "    <tr>\n",
       "      <th>1980-04-30</th>\n",
       "      <td>0.061919</td>\n",
       "      <td>0.064600</td>\n",
       "      <td>0.075952</td>\n",
       "      <td>0.077991</td>\n",
       "      <td>0.070111</td>\n",
       "      <td>0.007881</td>\n",
       "      <td>0.016073</td>\n",
       "    </tr>\n",
       "    <tr>\n",
       "      <th>1980-05-30</th>\n",
       "      <td>0.028787</td>\n",
       "      <td>0.031867</td>\n",
       "      <td>0.028916</td>\n",
       "      <td>0.047009</td>\n",
       "      <td>0.034145</td>\n",
       "      <td>0.012864</td>\n",
       "      <td>0.018222</td>\n",
       "    </tr>\n",
       "  </tbody>\n",
       "</table>\n",
       "</div>"
      ],
      "text/plain": [
       "                   1         2         3         4  Benchmark    Active  \\\n",
       "date                                                                      \n",
       "1980-01-31 -0.022276 -0.029643 -0.042486 -0.034873  -0.032314 -0.002560   \n",
       "1980-02-29 -0.223656 -0.163428 -0.154802 -0.152080  -0.173508  0.021428   \n",
       "1980-03-31  0.036317  0.055503  0.057437  0.055318   0.051137  0.004181   \n",
       "1980-04-30  0.061919  0.064600  0.075952  0.077991   0.070111  0.007881   \n",
       "1980-05-30  0.028787  0.031867  0.028916  0.047009   0.034145  0.012864   \n",
       "\n",
       "             Neutral  \n",
       "date                  \n",
       "1980-01-31 -0.012598  \n",
       "1980-02-29  0.071576  \n",
       "1980-03-31  0.019001  \n",
       "1980-04-30  0.016073  \n",
       "1980-05-30  0.018222  "
      ]
     },
     "execution_count": 19,
     "metadata": {},
     "output_type": "execute_result"
    }
   ],
   "source": [
    "port_returns['Active'] = port_returns[N] - port_returns['Benchmark']\n",
    "port_returns['Neutral'] = port_returns[N] - port_returns[1]\n",
    "port_returns.head()"
   ]
  },
  {
   "cell_type": "code",
   "execution_count": 20,
   "id": "introductory-secretariat",
   "metadata": {},
   "outputs": [
    {
     "data": {
      "text/html": [
       "<div>\n",
       "<style scoped>\n",
       "    .dataframe tbody tr th:only-of-type {\n",
       "        vertical-align: middle;\n",
       "    }\n",
       "\n",
       "    .dataframe tbody tr th {\n",
       "        vertical-align: top;\n",
       "    }\n",
       "\n",
       "    .dataframe thead th {\n",
       "        text-align: right;\n",
       "    }\n",
       "</style>\n",
       "<table border=\"1\" class=\"dataframe\">\n",
       "  <thead>\n",
       "    <tr style=\"text-align: right;\">\n",
       "      <th></th>\n",
       "      <th>mean_ret</th>\n",
       "      <th>st_dev</th>\n",
       "      <th>sharpe_ratio</th>\n",
       "    </tr>\n",
       "  </thead>\n",
       "  <tbody>\n",
       "    <tr>\n",
       "      <th>1</th>\n",
       "      <td>-0.215281</td>\n",
       "      <td>0.290740</td>\n",
       "      <td>-0.774855</td>\n",
       "    </tr>\n",
       "    <tr>\n",
       "      <th>2</th>\n",
       "      <td>-0.024975</td>\n",
       "      <td>0.209381</td>\n",
       "      <td>-0.167039</td>\n",
       "    </tr>\n",
       "    <tr>\n",
       "      <th>3</th>\n",
       "      <td>0.072524</td>\n",
       "      <td>0.168941</td>\n",
       "      <td>0.370094</td>\n",
       "    </tr>\n",
       "    <tr>\n",
       "      <th>4</th>\n",
       "      <td>0.120883</td>\n",
       "      <td>0.189058</td>\n",
       "      <td>0.586502</td>\n",
       "    </tr>\n",
       "    <tr>\n",
       "      <th>Benchmark</th>\n",
       "      <td>-0.012009</td>\n",
       "      <td>0.205343</td>\n",
       "      <td>-0.107182</td>\n",
       "    </tr>\n",
       "    <tr>\n",
       "      <th>Active</th>\n",
       "      <td>0.132892</td>\n",
       "      <td>0.064319</td>\n",
       "      <td>1.910650</td>\n",
       "    </tr>\n",
       "    <tr>\n",
       "      <th>Neutral</th>\n",
       "      <td>0.336164</td>\n",
       "      <td>0.168091</td>\n",
       "      <td>1.940399</td>\n",
       "    </tr>\n",
       "  </tbody>\n",
       "</table>\n",
       "</div>"
      ],
      "text/plain": [
       "           mean_ret    st_dev  sharpe_ratio\n",
       "1         -0.215281  0.290740     -0.774855\n",
       "2         -0.024975  0.209381     -0.167039\n",
       "3          0.072524  0.168941      0.370094\n",
       "4          0.120883  0.189058      0.586502\n",
       "Benchmark -0.012009  0.205343     -0.107182\n",
       "Active     0.132892  0.064319      1.910650\n",
       "Neutral    0.336164  0.168091      1.940399"
      ]
     },
     "execution_count": 20,
     "metadata": {},
     "output_type": "execute_result"
    }
   ],
   "source": [
    "mean_return = port_returns.mean()*12\n",
    "volatility = port_returns.std()*np.sqrt(12)\n",
    "sharpe = (port_returns.mean()*12 - 0.01) / (port_returns.std()*np.sqrt(12))\n",
    "\n",
    "performance = pd.DataFrame({'mean_ret': mean_return,\n",
    "                            'st_dev': volatility,\n",
    "                            'sharpe_ratio': sharpe})\n",
    "performance"
   ]
  },
  {
   "cell_type": "markdown",
   "id": "sorted-wound",
   "metadata": {},
   "source": [
    "We see that both zero-investment strategies yield a good performance. Let's plot them:"
   ]
  },
  {
   "cell_type": "raw",
   "id": "ca1f586e-9b9e-46e6-9be4-2e85d136561b",
   "metadata": {},
   "source": []
  },
  {
   "cell_type": "code",
   "execution_count": 21,
   "id": "concrete-jurisdiction",
   "metadata": {},
   "outputs": [
    {
     "data": {
      "text/html": [
       "<div>\n",
       "<style scoped>\n",
       "    .dataframe tbody tr th:only-of-type {\n",
       "        vertical-align: middle;\n",
       "    }\n",
       "\n",
       "    .dataframe tbody tr th {\n",
       "        vertical-align: top;\n",
       "    }\n",
       "\n",
       "    .dataframe thead th {\n",
       "        text-align: right;\n",
       "    }\n",
       "</style>\n",
       "<table border=\"1\" class=\"dataframe\">\n",
       "  <thead>\n",
       "    <tr style=\"text-align: right;\">\n",
       "      <th></th>\n",
       "      <th>1</th>\n",
       "      <th>2</th>\n",
       "      <th>3</th>\n",
       "      <th>4</th>\n",
       "      <th>Benchmark</th>\n",
       "      <th>Active</th>\n",
       "      <th>Neutral</th>\n",
       "    </tr>\n",
       "    <tr>\n",
       "      <th>date</th>\n",
       "      <th></th>\n",
       "      <th></th>\n",
       "      <th></th>\n",
       "      <th></th>\n",
       "      <th></th>\n",
       "      <th></th>\n",
       "      <th></th>\n",
       "    </tr>\n",
       "  </thead>\n",
       "  <tbody>\n",
       "    <tr>\n",
       "      <th>1980-01-31</th>\n",
       "      <td>0.977971</td>\n",
       "      <td>0.970792</td>\n",
       "      <td>0.958404</td>\n",
       "      <td>0.965728</td>\n",
       "      <td>0.968203</td>\n",
       "      <td>0.997444</td>\n",
       "      <td>0.987481</td>\n",
       "    </tr>\n",
       "    <tr>\n",
       "      <th>1980-02-29</th>\n",
       "      <td>0.781976</td>\n",
       "      <td>0.824424</td>\n",
       "      <td>0.820954</td>\n",
       "      <td>0.829482</td>\n",
       "      <td>0.813978</td>\n",
       "      <td>1.019047</td>\n",
       "      <td>1.060752</td>\n",
       "    </tr>\n",
       "    <tr>\n",
       "      <th>1980-03-31</th>\n",
       "      <td>0.810897</td>\n",
       "      <td>0.871476</td>\n",
       "      <td>0.869488</td>\n",
       "      <td>0.876661</td>\n",
       "      <td>0.856686</td>\n",
       "      <td>1.023317</td>\n",
       "      <td>1.081100</td>\n",
       "    </tr>\n",
       "    <tr>\n",
       "      <th>1980-04-30</th>\n",
       "      <td>0.862694</td>\n",
       "      <td>0.929632</td>\n",
       "      <td>0.938100</td>\n",
       "      <td>0.947770</td>\n",
       "      <td>0.918904</td>\n",
       "      <td>1.031413</td>\n",
       "      <td>1.098617</td>\n",
       "    </tr>\n",
       "    <tr>\n",
       "      <th>1980-05-30</th>\n",
       "      <td>0.887889</td>\n",
       "      <td>0.959733</td>\n",
       "      <td>0.965623</td>\n",
       "      <td>0.993387</td>\n",
       "      <td>0.950821</td>\n",
       "      <td>1.044767</td>\n",
       "      <td>1.118819</td>\n",
       "    </tr>\n",
       "  </tbody>\n",
       "</table>\n",
       "</div>"
      ],
      "text/plain": [
       "                   1         2         3         4  Benchmark    Active  \\\n",
       "date                                                                      \n",
       "1980-01-31  0.977971  0.970792  0.958404  0.965728   0.968203  0.997444   \n",
       "1980-02-29  0.781976  0.824424  0.820954  0.829482   0.813978  1.019047   \n",
       "1980-03-31  0.810897  0.871476  0.869488  0.876661   0.856686  1.023317   \n",
       "1980-04-30  0.862694  0.929632  0.938100  0.947770   0.918904  1.031413   \n",
       "1980-05-30  0.887889  0.959733  0.965623  0.993387   0.950821  1.044767   \n",
       "\n",
       "             Neutral  \n",
       "date                  \n",
       "1980-01-31  0.987481  \n",
       "1980-02-29  1.060752  \n",
       "1980-03-31  1.081100  \n",
       "1980-04-30  1.098617  \n",
       "1980-05-30  1.118819  "
      ]
     },
     "execution_count": 21,
     "metadata": {},
     "output_type": "execute_result"
    }
   ],
   "source": [
    "port_values = port_returns.cumsum().apply(np.exp)\n",
    "port_values.head()"
   ]
  },
  {
   "cell_type": "code",
   "execution_count": 22,
   "id": "exempt-minutes",
   "metadata": {},
   "outputs": [
    {
     "data": {
      "text/plain": [
       "<AxesSubplot:title={'center':'Zero-Investment Portfolio Value'}, xlabel='Time', ylabel='Portfolio Value (Log-Scale)'>"
      ]
     },
     "execution_count": 22,
     "metadata": {},
     "output_type": "execute_result"
    },
    {
     "data": {
      "image/png": "[encoded data removed]",
      "text/plain": [
       "<Figure size 720x432 with 1 Axes>"
      ]
     },
     "metadata": {
      "needs_background": "light"
     },
     "output_type": "display_data"
    }
   ],
   "source": [
    "port_values[['Active', 'Neutral']].plot(figsize=(10,6),\n",
    "                                        title='Zero-Investment Portfolio Value',\n",
    "                                        xlabel='Time',\n",
    "                                        ylabel='Portfolio Value (Log-Scale)',\n",
    "                                        logy=True)"
   ]
  },
  {
   "cell_type": "markdown",
   "id": "behavioral-burns",
   "metadata": {},
   "source": [
    "Now we see that our alpha model performs well also during the GFC: **the relative bet still yields a positve performance** in that period."
   ]
  },
  {
   "cell_type": "markdown",
   "id": "broad-campaign",
   "metadata": {},
   "source": [
    "### 4.1. Period analysis\n",
    "The fact that our signal has predictive power, on average, between 1980 and 2020 is relevant, but we may be interested to observe the performance in **different periods of time**. "
   ]
  },
  {
   "cell_type": "code",
   "execution_count": 23,
   "id": "affecting-nature",
   "metadata": {},
   "outputs": [
    {
     "data": {
      "text/html": [
       "<div>\n",
       "<style scoped>\n",
       "    .dataframe tbody tr th:only-of-type {\n",
       "        vertical-align: middle;\n",
       "    }\n",
       "\n",
       "    .dataframe tbody tr th {\n",
       "        vertical-align: top;\n",
       "    }\n",
       "\n",
       "    .dataframe thead th {\n",
       "        text-align: right;\n",
       "    }\n",
       "</style>\n",
       "<table border=\"1\" class=\"dataframe\">\n",
       "  <thead>\n",
       "    <tr style=\"text-align: right;\">\n",
       "      <th></th>\n",
       "      <th>1</th>\n",
       "      <th>2</th>\n",
       "      <th>3</th>\n",
       "      <th>4</th>\n",
       "      <th>Benchmark</th>\n",
       "      <th>Active</th>\n",
       "      <th>Neutral</th>\n",
       "      <th>year</th>\n",
       "    </tr>\n",
       "    <tr>\n",
       "      <th>date</th>\n",
       "      <th></th>\n",
       "      <th></th>\n",
       "      <th></th>\n",
       "      <th></th>\n",
       "      <th></th>\n",
       "      <th></th>\n",
       "      <th></th>\n",
       "      <th></th>\n",
       "    </tr>\n",
       "  </thead>\n",
       "  <tbody>\n",
       "    <tr>\n",
       "      <th>1980-01-31</th>\n",
       "      <td>-0.022276</td>\n",
       "      <td>-0.029643</td>\n",
       "      <td>-0.042486</td>\n",
       "      <td>-0.034873</td>\n",
       "      <td>-0.032314</td>\n",
       "      <td>-0.002560</td>\n",
       "      <td>-0.012598</td>\n",
       "      <td>1980</td>\n",
       "    </tr>\n",
       "    <tr>\n",
       "      <th>1980-02-29</th>\n",
       "      <td>-0.223656</td>\n",
       "      <td>-0.163428</td>\n",
       "      <td>-0.154802</td>\n",
       "      <td>-0.152080</td>\n",
       "      <td>-0.173508</td>\n",
       "      <td>0.021428</td>\n",
       "      <td>0.071576</td>\n",
       "      <td>1980</td>\n",
       "    </tr>\n",
       "    <tr>\n",
       "      <th>1980-03-31</th>\n",
       "      <td>0.036317</td>\n",
       "      <td>0.055503</td>\n",
       "      <td>0.057437</td>\n",
       "      <td>0.055318</td>\n",
       "      <td>0.051137</td>\n",
       "      <td>0.004181</td>\n",
       "      <td>0.019001</td>\n",
       "      <td>1980</td>\n",
       "    </tr>\n",
       "    <tr>\n",
       "      <th>1980-04-30</th>\n",
       "      <td>0.061919</td>\n",
       "      <td>0.064600</td>\n",
       "      <td>0.075952</td>\n",
       "      <td>0.077991</td>\n",
       "      <td>0.070111</td>\n",
       "      <td>0.007881</td>\n",
       "      <td>0.016073</td>\n",
       "      <td>1980</td>\n",
       "    </tr>\n",
       "    <tr>\n",
       "      <th>1980-05-30</th>\n",
       "      <td>0.028787</td>\n",
       "      <td>0.031867</td>\n",
       "      <td>0.028916</td>\n",
       "      <td>0.047009</td>\n",
       "      <td>0.034145</td>\n",
       "      <td>0.012864</td>\n",
       "      <td>0.018222</td>\n",
       "      <td>1980</td>\n",
       "    </tr>\n",
       "  </tbody>\n",
       "</table>\n",
       "</div>"
      ],
      "text/plain": [
       "                   1         2         3         4  Benchmark    Active  \\\n",
       "date                                                                      \n",
       "1980-01-31 -0.022276 -0.029643 -0.042486 -0.034873  -0.032314 -0.002560   \n",
       "1980-02-29 -0.223656 -0.163428 -0.154802 -0.152080  -0.173508  0.021428   \n",
       "1980-03-31  0.036317  0.055503  0.057437  0.055318   0.051137  0.004181   \n",
       "1980-04-30  0.061919  0.064600  0.075952  0.077991   0.070111  0.007881   \n",
       "1980-05-30  0.028787  0.031867  0.028916  0.047009   0.034145  0.012864   \n",
       "\n",
       "             Neutral  year  \n",
       "date                        \n",
       "1980-01-31 -0.012598  1980  \n",
       "1980-02-29  0.071576  1980  \n",
       "1980-03-31  0.019001  1980  \n",
       "1980-04-30  0.016073  1980  \n",
       "1980-05-30  0.018222  1980  "
      ]
     },
     "execution_count": 23,
     "metadata": {},
     "output_type": "execute_result"
    }
   ],
   "source": [
    "# we extract the year from the index of the DataFrame\n",
    "port_returns['year'] = port_returns.index.year\n",
    "port_returns.head()"
   ]
  },
  {
   "cell_type": "code",
   "execution_count": 24,
   "id": "romantic-crazy",
   "metadata": {},
   "outputs": [
    {
     "data": {
      "text/plain": [
       "<AxesSubplot:title={'center':'Neutral Return (Top - Bottom)'}, xlabel='Year', ylabel='Annualized Mean Monthly Return'>"
      ]
     },
     "execution_count": 24,
     "metadata": {},
     "output_type": "execute_result"
    },
    {
     "data": {
      "image/png": "[encoded data removed]",
      "text/plain": [
       "<Figure size 720x432 with 1 Axes>"
      ]
     },
     "metadata": {
      "needs_background": "light"
     },
     "output_type": "display_data"
    }
   ],
   "source": [
    "# we can recalculate all our diagnostics by year, for example:\n",
    "mean_active = port_returns.groupby('year')['Neutral'].mean()*12\n",
    "mean_active.plot(figsize=(10,6),\n",
    "                 kind='bar',\n",
    "                 title='Neutral Return (Top - Bottom)',\n",
    "                 xlabel='Year',\n",
    "                 ylabel='Annualized Mean Monthly Return')"
   ]
  },
  {
   "cell_type": "markdown",
   "id": "virtual-explosion",
   "metadata": {},
   "source": [
    "And we see that our information signal has predictive power more or less **constantly across our sample**. We also observe that the model **failed during the GFC**. Period analysis can provide many insights, for example we could find out that our signal has not worked well in the last few years..."
   ]
  },
  {
   "cell_type": "markdown",
   "id": "continuing-ordering",
   "metadata": {},
   "source": [
    "___\n",
    "## 5. In Production\n",
    "As usual, now that we understand the nature of this analysis we want to encapsulate all the relevant code in an easy-to-use function."
   ]
  },
  {
   "cell_type": "code",
   "execution_count": 25,
   "id": "accessory-immigration",
   "metadata": {},
   "outputs": [],
   "source": [
    "def quantile_analysis(signal, returns, n_bins=4):\n",
    "    \n",
    "    #We capture the name of the factor using the .name attribute to use it later\n",
    "    signal_name = signal.name\n",
    "    \n",
    "    #We calculate the future returns\n",
    "    future_returns = returns.groupby('id').shift(-1).rename('fut_ret')\n",
    "    \n",
    "    #We join the signal with the future returns\n",
    "    data = signal.to_frame().join(future_returns).dropna()\n",
    "    \n",
    "    #We apply the pandas.qcut() function using a lambda function\n",
    "    data['group'] = data.groupby('date')[signal_name].apply(lambda x: pd.qcut(x,n_bins, labels=False))+1\n",
    "    \n",
    "    #We calculate the average return of the groups\n",
    "    portfolios = data.groupby(['date','group']).mean()\n",
    "    \n",
    "    #We rearrange the results in order to have one group per column\n",
    "    port_returns = portfolios['fut_ret'].unstack(level=1) \n",
    "    \n",
    "    #We calculate the benchmark return\n",
    "    benchmark_return = data.groupby('date')['fut_ret'].mean().rename('Benchmark')\n",
    "    port_returns = port_returns.join(benchmark_return.to_frame())\n",
    "    \n",
    "    #We calculate the return of the zero-investment portfolios\n",
    "    port_returns['Active'] = port_returns[n_bins] - port_returns['Benchmark']\n",
    "    port_returns['Neutral'] = port_returns[n_bins] - port_returns[1]\n",
    "    \n",
    "    return port_returns\n",
    "\n",
    "\n",
    "#Let's also create a second smaller function with the calculation of the performance measures\n",
    "\n",
    "def diagnostics(port_returns):\n",
    "    \n",
    "    mean_return = port_returns.mean()*12\n",
    "    volatility = port_returns.std()*np.sqrt(12)\n",
    "    sharpe = (port_returns.mean()*12 - 0.01) / (port_returns.std()*np.sqrt(12))\n",
    "\n",
    "    performance = pd.DataFrame({'Mean Ret': mean_return,\n",
    "                                'Std Dev': volatility,\n",
    "                                'Sharpe Ratio': sharpe})\n",
    "    \n",
    "    return performance"
   ]
  },
  {
   "cell_type": "markdown",
   "id": "chronic-affair",
   "metadata": {},
   "source": [
    "And now, if we want to run the analysis again **using 5 quintiles**, we can do everything with two simple lines of code:"
   ]
  },
  {
   "cell_type": "code",
   "execution_count": 26,
   "id": "worldwide-illinois",
   "metadata": {},
   "outputs": [
    {
     "data": {
      "text/html": [
       "<div>\n",
       "<style scoped>\n",
       "    .dataframe tbody tr th:only-of-type {\n",
       "        vertical-align: middle;\n",
       "    }\n",
       "\n",
       "    .dataframe tbody tr th {\n",
       "        vertical-align: top;\n",
       "    }\n",
       "\n",
       "    .dataframe thead th {\n",
       "        text-align: right;\n",
       "    }\n",
       "</style>\n",
       "<table border=\"1\" class=\"dataframe\">\n",
       "  <thead>\n",
       "    <tr style=\"text-align: right;\">\n",
       "      <th></th>\n",
       "      <th>1</th>\n",
       "      <th>2</th>\n",
       "      <th>3</th>\n",
       "      <th>4</th>\n",
       "      <th>5</th>\n",
       "      <th>Benchmark</th>\n",
       "      <th>Active</th>\n",
       "      <th>Neutral</th>\n",
       "    </tr>\n",
       "    <tr>\n",
       "      <th>date</th>\n",
       "      <th></th>\n",
       "      <th></th>\n",
       "      <th></th>\n",
       "      <th></th>\n",
       "      <th></th>\n",
       "      <th></th>\n",
       "      <th></th>\n",
       "      <th></th>\n",
       "    </tr>\n",
       "  </thead>\n",
       "  <tbody>\n",
       "    <tr>\n",
       "      <th>1980-01-31</th>\n",
       "      <td>-0.020218</td>\n",
       "      <td>-0.028045</td>\n",
       "      <td>-0.033652</td>\n",
       "      <td>-0.047376</td>\n",
       "      <td>-0.032352</td>\n",
       "      <td>-0.032314</td>\n",
       "      <td>-0.000038</td>\n",
       "      <td>-0.012133</td>\n",
       "    </tr>\n",
       "    <tr>\n",
       "      <th>1980-02-29</th>\n",
       "      <td>-0.235546</td>\n",
       "      <td>-0.170398</td>\n",
       "      <td>-0.153249</td>\n",
       "      <td>-0.151756</td>\n",
       "      <td>-0.156545</td>\n",
       "      <td>-0.173508</td>\n",
       "      <td>0.016963</td>\n",
       "      <td>0.079002</td>\n",
       "    </tr>\n",
       "    <tr>\n",
       "      <th>1980-03-31</th>\n",
       "      <td>0.032646</td>\n",
       "      <td>0.052828</td>\n",
       "      <td>0.061774</td>\n",
       "      <td>0.054677</td>\n",
       "      <td>0.053798</td>\n",
       "      <td>0.051137</td>\n",
       "      <td>0.002660</td>\n",
       "      <td>0.021152</td>\n",
       "    </tr>\n",
       "    <tr>\n",
       "      <th>1980-04-30</th>\n",
       "      <td>0.058130</td>\n",
       "      <td>0.068052</td>\n",
       "      <td>0.068318</td>\n",
       "      <td>0.074766</td>\n",
       "      <td>0.081287</td>\n",
       "      <td>0.070111</td>\n",
       "      <td>0.011176</td>\n",
       "      <td>0.023157</td>\n",
       "    </tr>\n",
       "    <tr>\n",
       "      <th>1980-05-30</th>\n",
       "      <td>0.028218</td>\n",
       "      <td>0.031071</td>\n",
       "      <td>0.030182</td>\n",
       "      <td>0.033758</td>\n",
       "      <td>0.047477</td>\n",
       "      <td>0.034145</td>\n",
       "      <td>0.013333</td>\n",
       "      <td>0.019259</td>\n",
       "    </tr>\n",
       "  </tbody>\n",
       "</table>\n",
       "</div>"
      ],
      "text/plain": [
       "                   1         2         3         4         5  Benchmark  \\\n",
       "date                                                                      \n",
       "1980-01-31 -0.020218 -0.028045 -0.033652 -0.047376 -0.032352  -0.032314   \n",
       "1980-02-29 -0.235546 -0.170398 -0.153249 -0.151756 -0.156545  -0.173508   \n",
       "1980-03-31  0.032646  0.052828  0.061774  0.054677  0.053798   0.051137   \n",
       "1980-04-30  0.058130  0.068052  0.068318  0.074766  0.081287   0.070111   \n",
       "1980-05-30  0.028218  0.031071  0.030182  0.033758  0.047477   0.034145   \n",
       "\n",
       "              Active   Neutral  \n",
       "date                            \n",
       "1980-01-31 -0.000038 -0.012133  \n",
       "1980-02-29  0.016963  0.079002  \n",
       "1980-03-31  0.002660  0.021152  \n",
       "1980-04-30  0.011176  0.023157  \n",
       "1980-05-30  0.013333  0.019259  "
      ]
     },
     "execution_count": 26,
     "metadata": {},
     "output_type": "execute_result"
    }
   ],
   "source": [
    "return_5 = quantile_analysis(signal['epq'], returns['return'], n_bins = 5)\n",
    "performance_5 = diagnostics(return_5)\n",
    "\n",
    "return_5.head()"
   ]
  },
  {
   "cell_type": "code",
   "execution_count": 27,
   "id": "north-supervision",
   "metadata": {},
   "outputs": [
    {
     "data": {
      "text/html": [
       "<div>\n",
       "<style scoped>\n",
       "    .dataframe tbody tr th:only-of-type {\n",
       "        vertical-align: middle;\n",
       "    }\n",
       "\n",
       "    .dataframe tbody tr th {\n",
       "        vertical-align: top;\n",
       "    }\n",
       "\n",
       "    .dataframe thead th {\n",
       "        text-align: right;\n",
       "    }\n",
       "</style>\n",
       "<table border=\"1\" class=\"dataframe\">\n",
       "  <thead>\n",
       "    <tr style=\"text-align: right;\">\n",
       "      <th></th>\n",
       "      <th>Mean Ret</th>\n",
       "      <th>Std Dev</th>\n",
       "      <th>Sharpe Ratio</th>\n",
       "    </tr>\n",
       "  </thead>\n",
       "  <tbody>\n",
       "    <tr>\n",
       "      <th>1</th>\n",
       "      <td>-0.238529</td>\n",
       "      <td>0.303645</td>\n",
       "      <td>-0.818487</td>\n",
       "    </tr>\n",
       "    <tr>\n",
       "      <th>2</th>\n",
       "      <td>-0.069743</td>\n",
       "      <td>0.230489</td>\n",
       "      <td>-0.345973</td>\n",
       "    </tr>\n",
       "    <tr>\n",
       "      <th>3</th>\n",
       "      <td>0.036877</td>\n",
       "      <td>0.179521</td>\n",
       "      <td>0.149713</td>\n",
       "    </tr>\n",
       "    <tr>\n",
       "      <th>4</th>\n",
       "      <td>0.086309</td>\n",
       "      <td>0.168168</td>\n",
       "      <td>0.453767</td>\n",
       "    </tr>\n",
       "    <tr>\n",
       "      <th>5</th>\n",
       "      <td>0.125853</td>\n",
       "      <td>0.194806</td>\n",
       "      <td>0.594707</td>\n",
       "    </tr>\n",
       "    <tr>\n",
       "      <th>Benchmark</th>\n",
       "      <td>-0.012009</td>\n",
       "      <td>0.205343</td>\n",
       "      <td>-0.107182</td>\n",
       "    </tr>\n",
       "    <tr>\n",
       "      <th>Active</th>\n",
       "      <td>0.137862</td>\n",
       "      <td>0.064136</td>\n",
       "      <td>1.993594</td>\n",
       "    </tr>\n",
       "    <tr>\n",
       "      <th>Neutral</th>\n",
       "      <td>0.364382</td>\n",
       "      <td>0.177886</td>\n",
       "      <td>1.992186</td>\n",
       "    </tr>\n",
       "  </tbody>\n",
       "</table>\n",
       "</div>"
      ],
      "text/plain": [
       "           Mean Ret   Std Dev  Sharpe Ratio\n",
       "1         -0.238529  0.303645     -0.818487\n",
       "2         -0.069743  0.230489     -0.345973\n",
       "3          0.036877  0.179521      0.149713\n",
       "4          0.086309  0.168168      0.453767\n",
       "5          0.125853  0.194806      0.594707\n",
       "Benchmark -0.012009  0.205343     -0.107182\n",
       "Active     0.137862  0.064136      1.993594\n",
       "Neutral    0.364382  0.177886      1.992186"
      ]
     },
     "execution_count": 27,
     "metadata": {},
     "output_type": "execute_result"
    }
   ],
   "source": [
    "performance_5"
   ]
  },
  {
   "cell_type": "markdown",
   "id": "signal-catch",
   "metadata": {},
   "source": [
    "___\n",
    "### Exercise 8.01\n",
    "Let's now assess the quality of another commonly used investment strategy: low-volatility. In this case want to invest in low-risk (low beta) stocks. \n",
    "\n",
    "**STEP 1:** Load the data in `Betas.zip` into a DataFrame called `new_signal`. Show the first few lines."
   ]
  },
  {
   "cell_type": "code",
   "execution_count": 28,
   "id": "novel-garlic",
   "metadata": {},
   "outputs": [
    {
     "data": {
      "text/html": [
       "<div>\n",
       "<style scoped>\n",
       "    .dataframe tbody tr th:only-of-type {\n",
       "        vertical-align: middle;\n",
       "    }\n",
       "\n",
       "    .dataframe tbody tr th {\n",
       "        vertical-align: top;\n",
       "    }\n",
       "\n",
       "    .dataframe thead th {\n",
       "        text-align: right;\n",
       "    }\n",
       "</style>\n",
       "<table border=\"1\" class=\"dataframe\">\n",
       "  <thead>\n",
       "    <tr style=\"text-align: right;\">\n",
       "      <th></th>\n",
       "      <th></th>\n",
       "      <th>beta</th>\n",
       "    </tr>\n",
       "    <tr>\n",
       "      <th>id</th>\n",
       "      <th>date</th>\n",
       "      <th></th>\n",
       "    </tr>\n",
       "  </thead>\n",
       "  <tbody>\n",
       "    <tr>\n",
       "      <th rowspan=\"5\" valign=\"top\">10001</th>\n",
       "      <th>1996-07-31</th>\n",
       "      <td>0.005470</td>\n",
       "    </tr>\n",
       "    <tr>\n",
       "      <th>1996-08-30</th>\n",
       "      <td>0.007628</td>\n",
       "    </tr>\n",
       "    <tr>\n",
       "      <th>1996-09-30</th>\n",
       "      <td>0.012428</td>\n",
       "    </tr>\n",
       "    <tr>\n",
       "      <th>1996-10-31</th>\n",
       "      <td>0.012139</td>\n",
       "    </tr>\n",
       "    <tr>\n",
       "      <th>1996-11-29</th>\n",
       "      <td>0.015621</td>\n",
       "    </tr>\n",
       "  </tbody>\n",
       "</table>\n",
       "</div>"
      ],
      "text/plain": [
       "                      beta\n",
       "id    date                \n",
       "10001 1996-07-31  0.005470\n",
       "      1996-08-30  0.007628\n",
       "      1996-09-30  0.012428\n",
       "      1996-10-31  0.012139\n",
       "      1996-11-29  0.015621"
      ]
     },
     "execution_count": 28,
     "metadata": {},
     "output_type": "execute_result"
    }
   ],
   "source": [
    "new_signal = pd.read_csv('Betas.zip', parse_dates=['date']).set_index(['id', 'date'])\n",
    "new_signal.head()"
   ]
  },
  {
   "cell_type": "markdown",
   "id": "assigned-anchor",
   "metadata": {},
   "source": [
    "Normally we want all our information signals expressed **in the same direction**: conventionally the higher the signal the better the stock. This is not the case with this signal where lower betas are better (the strategy is called _low volatility!_). \n",
    "\n",
    "**STEP 2:** To fix this, replace the column `beta` in the DataFrame with minus beta, its negative. In this way the higher the signal the better the stock."
   ]
  },
  {
   "cell_type": "code",
   "execution_count": 29,
   "id": "finite-doctrine",
   "metadata": {},
   "outputs": [
    {
     "data": {
      "text/html": [
       "<div>\n",
       "<style scoped>\n",
       "    .dataframe tbody tr th:only-of-type {\n",
       "        vertical-align: middle;\n",
       "    }\n",
       "\n",
       "    .dataframe tbody tr th {\n",
       "        vertical-align: top;\n",
       "    }\n",
       "\n",
       "    .dataframe thead th {\n",
       "        text-align: right;\n",
       "    }\n",
       "</style>\n",
       "<table border=\"1\" class=\"dataframe\">\n",
       "  <thead>\n",
       "    <tr style=\"text-align: right;\">\n",
       "      <th></th>\n",
       "      <th></th>\n",
       "      <th>beta</th>\n",
       "    </tr>\n",
       "    <tr>\n",
       "      <th>id</th>\n",
       "      <th>date</th>\n",
       "      <th></th>\n",
       "    </tr>\n",
       "  </thead>\n",
       "  <tbody>\n",
       "    <tr>\n",
       "      <th rowspan=\"5\" valign=\"top\">10001</th>\n",
       "      <th>1996-07-31</th>\n",
       "      <td>-0.005470</td>\n",
       "    </tr>\n",
       "    <tr>\n",
       "      <th>1996-08-30</th>\n",
       "      <td>-0.007628</td>\n",
       "    </tr>\n",
       "    <tr>\n",
       "      <th>1996-09-30</th>\n",
       "      <td>-0.012428</td>\n",
       "    </tr>\n",
       "    <tr>\n",
       "      <th>1996-10-31</th>\n",
       "      <td>-0.012139</td>\n",
       "    </tr>\n",
       "    <tr>\n",
       "      <th>1996-11-29</th>\n",
       "      <td>-0.015621</td>\n",
       "    </tr>\n",
       "  </tbody>\n",
       "</table>\n",
       "</div>"
      ],
      "text/plain": [
       "                      beta\n",
       "id    date                \n",
       "10001 1996-07-31 -0.005470\n",
       "      1996-08-30 -0.007628\n",
       "      1996-09-30 -0.012428\n",
       "      1996-10-31 -0.012139\n",
       "      1996-11-29 -0.015621"
      ]
     },
     "execution_count": 29,
     "metadata": {},
     "output_type": "execute_result"
    }
   ],
   "source": [
    "new_signal['beta'] = new_signal['beta']*-1\n",
    "new_signal.head()"
   ]
  },
  {
   "cell_type": "markdown",
   "id": "damaged-things",
   "metadata": {},
   "source": [
    "**STEP 3:** Use the functions created above to **calculate the performance** (mean return. voaltility, etc.) of **4 quantile portfolios** formed on the historical betas."
   ]
  },
  {
   "cell_type": "code",
   "execution_count": 30,
   "id": "formed-google",
   "metadata": {},
   "outputs": [
    {
     "data": {
      "text/html": [
       "<div>\n",
       "<style scoped>\n",
       "    .dataframe tbody tr th:only-of-type {\n",
       "        vertical-align: middle;\n",
       "    }\n",
       "\n",
       "    .dataframe tbody tr th {\n",
       "        vertical-align: top;\n",
       "    }\n",
       "\n",
       "    .dataframe thead th {\n",
       "        text-align: right;\n",
       "    }\n",
       "</style>\n",
       "<table border=\"1\" class=\"dataframe\">\n",
       "  <thead>\n",
       "    <tr style=\"text-align: right;\">\n",
       "      <th></th>\n",
       "      <th>Mean Ret</th>\n",
       "      <th>Std Dev</th>\n",
       "      <th>Sharpe Ratio</th>\n",
       "    </tr>\n",
       "  </thead>\n",
       "  <tbody>\n",
       "    <tr>\n",
       "      <th>1</th>\n",
       "      <td>-0.022574</td>\n",
       "      <td>0.241934</td>\n",
       "      <td>-0.134640</td>\n",
       "    </tr>\n",
       "    <tr>\n",
       "      <th>2</th>\n",
       "      <td>0.033796</td>\n",
       "      <td>0.192516</td>\n",
       "      <td>0.123606</td>\n",
       "    </tr>\n",
       "    <tr>\n",
       "      <th>3</th>\n",
       "      <td>0.057392</td>\n",
       "      <td>0.160722</td>\n",
       "      <td>0.294869</td>\n",
       "    </tr>\n",
       "    <tr>\n",
       "      <th>4</th>\n",
       "      <td>0.076555</td>\n",
       "      <td>0.116255</td>\n",
       "      <td>0.572488</td>\n",
       "    </tr>\n",
       "    <tr>\n",
       "      <th>Benchmark</th>\n",
       "      <td>0.036279</td>\n",
       "      <td>0.173274</td>\n",
       "      <td>0.151659</td>\n",
       "    </tr>\n",
       "    <tr>\n",
       "      <th>Active</th>\n",
       "      <td>0.040276</td>\n",
       "      <td>0.075662</td>\n",
       "      <td>0.400152</td>\n",
       "    </tr>\n",
       "    <tr>\n",
       "      <th>Neutral</th>\n",
       "      <td>0.099129</td>\n",
       "      <td>0.155908</td>\n",
       "      <td>0.571674</td>\n",
       "    </tr>\n",
       "  </tbody>\n",
       "</table>\n",
       "</div>"
      ],
      "text/plain": [
       "           Mean Ret   Std Dev  Sharpe Ratio\n",
       "1         -0.022574  0.241934     -0.134640\n",
       "2          0.033796  0.192516      0.123606\n",
       "3          0.057392  0.160722      0.294869\n",
       "4          0.076555  0.116255      0.572488\n",
       "Benchmark  0.036279  0.173274      0.151659\n",
       "Active     0.040276  0.075662      0.400152\n",
       "Neutral    0.099129  0.155908      0.571674"
      ]
     },
     "execution_count": 30,
     "metadata": {},
     "output_type": "execute_result"
    }
   ],
   "source": [
    "return_vol = quantile_analysis(new_signal['beta'], returns['return'], n_bins = 4)\n",
    "performance_vol = diagnostics(return_vol)\n",
    "performance_vol"
   ]
  },
  {
   "cell_type": "markdown",
   "id": "requested-table",
   "metadata": {},
   "source": [
    "**STEP 4:** Plot the value of the four quantile portfolios together with the benchmark."
   ]
  },
  {
   "cell_type": "code",
   "execution_count": 31,
   "id": "major-browser",
   "metadata": {},
   "outputs": [
    {
     "data": {
      "text/plain": [
       "<AxesSubplot:title={'center':'Quantile Portfolio Values - Low Vol Strategy'}, xlabel='Time', ylabel='Portfolio Value (Log-Scale)'>"
      ]
     },
     "execution_count": 31,
     "metadata": {},
     "output_type": "execute_result"
    },
    {
     "data": {
      "image/png": "[encoded data removed]",
      "text/plain": [
       "<Figure size 720x432 with 1 Axes>"
      ]
     },
     "metadata": {
      "needs_background": "light"
     },
     "output_type": "display_data"
    }
   ],
   "source": [
    "port_vol = return_vol.cumsum().apply(np.exp)\n",
    "\n",
    "port_vol[[1, 2, 3, 4, 'Benchmark']].plot(figsize=(10,6),\n",
    "                                         title='Quantile Portfolio Values - Low Vol Strategy',\n",
    "                                         xlabel='Time',\n",
    "                                         ylabel='Portfolio Value (Log-Scale)',\n",
    "                                         logy=True) #the last argument specifies log-scale for the Y axis"
   ]
  },
  {
   "cell_type": "markdown",
   "id": "formal-prague",
   "metadata": {},
   "source": [
    "**STEP 5:** To visually compare the dynamics of the low-vol strategy compared to the value strategy analyzed in the notebook:\n",
    "1. Calculate the average annual return of the `Neutral` portfolio of the low-vol strategy\n",
    "1. Join it in the same DataFrame together with `mean_active` where we have the mean annual return of the value strategy (You may have to change the name of at least one of the series because they have the same name `Neutral`).\n",
    "1. Plot an Histogram with the two series.\n",
    "\n",
    "From the diagnostics we know that the low-vol strategy does not perform as well as the value strategy, but **does it help to alleviate the atrocious performance** of value in the dot-com bubble (1999) and the GFC (2008)?"
   ]
  },
  {
   "cell_type": "code",
   "execution_count": 32,
   "id": "occupied-physics",
   "metadata": {},
   "outputs": [],
   "source": [
    "return_vol['year'] = return_vol.index.year\n",
    "mean_vol = return_vol.groupby('year')['Neutral'].mean()*12"
   ]
  },
  {
   "cell_type": "code",
   "execution_count": 33,
   "id": "still-petersburg",
   "metadata": {},
   "outputs": [
    {
     "data": {
      "text/html": [
       "<div>\n",
       "<style scoped>\n",
       "    .dataframe tbody tr th:only-of-type {\n",
       "        vertical-align: middle;\n",
       "    }\n",
       "\n",
       "    .dataframe tbody tr th {\n",
       "        vertical-align: top;\n",
       "    }\n",
       "\n",
       "    .dataframe thead th {\n",
       "        text-align: right;\n",
       "    }\n",
       "</style>\n",
       "<table border=\"1\" class=\"dataframe\">\n",
       "  <thead>\n",
       "    <tr style=\"text-align: right;\">\n",
       "      <th></th>\n",
       "      <th>Value</th>\n",
       "      <th>Low Vol</th>\n",
       "    </tr>\n",
       "    <tr>\n",
       "      <th>year</th>\n",
       "      <th></th>\n",
       "      <th></th>\n",
       "    </tr>\n",
       "  </thead>\n",
       "  <tbody>\n",
       "    <tr>\n",
       "      <th>1980</th>\n",
       "      <td>0.197269</td>\n",
       "      <td>-0.010850</td>\n",
       "    </tr>\n",
       "    <tr>\n",
       "      <th>1981</th>\n",
       "      <td>0.387605</td>\n",
       "      <td>0.199785</td>\n",
       "    </tr>\n",
       "    <tr>\n",
       "      <th>1982</th>\n",
       "      <td>0.162078</td>\n",
       "      <td>-0.046886</td>\n",
       "    </tr>\n",
       "    <tr>\n",
       "      <th>1983</th>\n",
       "      <td>0.292310</td>\n",
       "      <td>0.082746</td>\n",
       "    </tr>\n",
       "    <tr>\n",
       "      <th>1984</th>\n",
       "      <td>0.505370</td>\n",
       "      <td>0.195612</td>\n",
       "    </tr>\n",
       "  </tbody>\n",
       "</table>\n",
       "</div>"
      ],
      "text/plain": [
       "         Value   Low Vol\n",
       "year                    \n",
       "1980  0.197269 -0.010850\n",
       "1981  0.387605  0.199785\n",
       "1982  0.162078 -0.046886\n",
       "1983  0.292310  0.082746\n",
       "1984  0.505370  0.195612"
      ]
     },
     "execution_count": 33,
     "metadata": {},
     "output_type": "execute_result"
    }
   ],
   "source": [
    "mean_annual = mean_active.rename('Value').to_frame().join(mean_vol.rename('Low Vol'))\n",
    "mean_annual.head()"
   ]
  },
  {
   "cell_type": "code",
   "execution_count": 34,
   "id": "static-metallic",
   "metadata": {},
   "outputs": [
    {
     "data": {
      "text/plain": [
       "<AxesSubplot:title={'center':'Neutral Return (Top - Bottom)'}, xlabel='Year', ylabel='Annualized Mean Monthly Return'>"
      ]
     },
     "execution_count": 34,
     "metadata": {},
     "output_type": "execute_result"
    },
    {
     "data": {
      "image/png": "[encoded data removed]",
      "text/plain": [
       "<Figure size 720x432 with 1 Axes>"
      ]
     },
     "metadata": {
      "needs_background": "light"
     },
     "output_type": "display_data"
    }
   ],
   "source": [
    "mean_annual.plot(figsize=(10,6),\n",
    "                 kind='bar',\n",
    "                 title='Neutral Return (Top - Bottom)',\n",
    "                 xlabel='Year',\n",
    "                 ylabel='Annualized Mean Monthly Return')"
   ]
  }
 ],
 "metadata": {
  "kernelspec": {
   "display_name": "Python 3 (ipykernel)",
   "language": "python",
   "name": "python3"
  },
  "language_info": {
   "codemirror_mode": {
    "name": "ipython",
    "version": 3
   },
   "file_extension": ".py",
   "mimetype": "text/x-python",
   "name": "python",
   "nbconvert_exporter": "python",
   "pygments_lexer": "ipython3",
   "version": "3.9.12"
  }
 },
 "nbformat": 4,
 "nbformat_minor": 5
}
