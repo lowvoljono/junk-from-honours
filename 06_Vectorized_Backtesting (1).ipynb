{
 "cells": [
  {
   "cell_type": "markdown",
   "id": "actual-benjamin",
   "metadata": {},
   "source": [
    "# Vectorized Backtesting\n",
    "In this exercise we build from scratch a simple **backtesting** system to test the profitability of a **simple trading strategy** on the S&P 500.\n",
    "\n",
    "As usual we start from **importing** the standard **packages**."
   ]
  },
  {
   "cell_type": "code",
   "execution_count": 1,
   "id": "radical-wrist",
   "metadata": {},
   "outputs": [],
   "source": [
    "import numpy as np\n",
    "import pandas as pd\n",
    "import matplotlib.pyplot as plt\n",
    "plt.style.use('seaborn')\n",
    "%matplotlib inline"
   ]
  },
  {
   "cell_type": "markdown",
   "id": "earned-major",
   "metadata": {},
   "source": [
    "When we build a strategy we normally follow a series of steps:\n",
    "1. We import and clean the **data**\n",
    "1. We build the **signal** that we use to forecast returns, our \"Alpha Model\"\n",
    "1. We pass the signal to our Portfolio Construction model that will transform the signal in a **position**"
   ]
  },
  {
   "cell_type": "markdown",
   "id": "martial-campbell",
   "metadata": {},
   "source": [
    "___\n",
    "## 1. The Data\n",
    "We then **load our data** from the file used in the [Chapter 4](https://learning.oreilly.com/library/view/python-for-algorithmic/9781492053347/ch04.html) of the Hilpisch _Python for Algorithmic Trading_ book.\n",
    "\n",
    "**ATTENTION:** Please notice how flexible the data loading functions in Pandas are. We can load a file from anywhere on the web just by passing the address of the file!"
   ]
  },
  {
   "cell_type": "code",
   "execution_count": 2,
   "id": "fossil-hormone",
   "metadata": {},
   "outputs": [
    {
     "data": {
      "text/html": [
       "<div>\n",
       "<style scoped>\n",
       "    .dataframe tbody tr th:only-of-type {\n",
       "        vertical-align: middle;\n",
       "    }\n",
       "\n",
       "    .dataframe tbody tr th {\n",
       "        vertical-align: top;\n",
       "    }\n",
       "\n",
       "    .dataframe thead th {\n",
       "        text-align: right;\n",
       "    }\n",
       "</style>\n",
       "<table border=\"1\" class=\"dataframe\">\n",
       "  <thead>\n",
       "    <tr style=\"text-align: right;\">\n",
       "      <th></th>\n",
       "      <th>AAPL.O</th>\n",
       "      <th>MSFT.O</th>\n",
       "      <th>INTC.O</th>\n",
       "      <th>AMZN.O</th>\n",
       "      <th>GS.N</th>\n",
       "      <th>SPY</th>\n",
       "      <th>.SPX</th>\n",
       "      <th>.VIX</th>\n",
       "      <th>EUR=</th>\n",
       "      <th>XAU=</th>\n",
       "      <th>GDX</th>\n",
       "      <th>GLD</th>\n",
       "    </tr>\n",
       "    <tr>\n",
       "      <th>Date</th>\n",
       "      <th></th>\n",
       "      <th></th>\n",
       "      <th></th>\n",
       "      <th></th>\n",
       "      <th></th>\n",
       "      <th></th>\n",
       "      <th></th>\n",
       "      <th></th>\n",
       "      <th></th>\n",
       "      <th></th>\n",
       "      <th></th>\n",
       "      <th></th>\n",
       "    </tr>\n",
       "  </thead>\n",
       "  <tbody>\n",
       "    <tr>\n",
       "      <th>2010-01-04</th>\n",
       "      <td>30.572827</td>\n",
       "      <td>30.950</td>\n",
       "      <td>20.88</td>\n",
       "      <td>133.90</td>\n",
       "      <td>173.08</td>\n",
       "      <td>113.33</td>\n",
       "      <td>1132.99</td>\n",
       "      <td>20.04</td>\n",
       "      <td>1.4411</td>\n",
       "      <td>1120.00</td>\n",
       "      <td>47.71</td>\n",
       "      <td>109.80</td>\n",
       "    </tr>\n",
       "    <tr>\n",
       "      <th>2010-01-05</th>\n",
       "      <td>30.625684</td>\n",
       "      <td>30.960</td>\n",
       "      <td>20.87</td>\n",
       "      <td>134.69</td>\n",
       "      <td>176.14</td>\n",
       "      <td>113.63</td>\n",
       "      <td>1136.52</td>\n",
       "      <td>19.35</td>\n",
       "      <td>1.4368</td>\n",
       "      <td>1118.65</td>\n",
       "      <td>48.17</td>\n",
       "      <td>109.70</td>\n",
       "    </tr>\n",
       "    <tr>\n",
       "      <th>2010-01-06</th>\n",
       "      <td>30.138541</td>\n",
       "      <td>30.770</td>\n",
       "      <td>20.80</td>\n",
       "      <td>132.25</td>\n",
       "      <td>174.26</td>\n",
       "      <td>113.71</td>\n",
       "      <td>1137.14</td>\n",
       "      <td>19.16</td>\n",
       "      <td>1.4412</td>\n",
       "      <td>1138.50</td>\n",
       "      <td>49.34</td>\n",
       "      <td>111.51</td>\n",
       "    </tr>\n",
       "    <tr>\n",
       "      <th>2010-01-07</th>\n",
       "      <td>30.082827</td>\n",
       "      <td>30.452</td>\n",
       "      <td>20.60</td>\n",
       "      <td>130.00</td>\n",
       "      <td>177.67</td>\n",
       "      <td>114.19</td>\n",
       "      <td>1141.69</td>\n",
       "      <td>19.06</td>\n",
       "      <td>1.4318</td>\n",
       "      <td>1131.90</td>\n",
       "      <td>49.10</td>\n",
       "      <td>110.82</td>\n",
       "    </tr>\n",
       "    <tr>\n",
       "      <th>2010-01-08</th>\n",
       "      <td>30.282827</td>\n",
       "      <td>30.660</td>\n",
       "      <td>20.83</td>\n",
       "      <td>133.52</td>\n",
       "      <td>174.31</td>\n",
       "      <td>114.57</td>\n",
       "      <td>1144.98</td>\n",
       "      <td>18.13</td>\n",
       "      <td>1.4412</td>\n",
       "      <td>1136.10</td>\n",
       "      <td>49.84</td>\n",
       "      <td>111.37</td>\n",
       "    </tr>\n",
       "  </tbody>\n",
       "</table>\n",
       "</div>"
      ],
      "text/plain": [
       "               AAPL.O  MSFT.O  INTC.O  AMZN.O    GS.N     SPY     .SPX   .VIX  \\\n",
       "Date                                                                            \n",
       "2010-01-04  30.572827  30.950   20.88  133.90  173.08  113.33  1132.99  20.04   \n",
       "2010-01-05  30.625684  30.960   20.87  134.69  176.14  113.63  1136.52  19.35   \n",
       "2010-01-06  30.138541  30.770   20.80  132.25  174.26  113.71  1137.14  19.16   \n",
       "2010-01-07  30.082827  30.452   20.60  130.00  177.67  114.19  1141.69  19.06   \n",
       "2010-01-08  30.282827  30.660   20.83  133.52  174.31  114.57  1144.98  18.13   \n",
       "\n",
       "              EUR=     XAU=    GDX     GLD  \n",
       "Date                                        \n",
       "2010-01-04  1.4411  1120.00  47.71  109.80  \n",
       "2010-01-05  1.4368  1118.65  48.17  109.70  \n",
       "2010-01-06  1.4412  1138.50  49.34  111.51  \n",
       "2010-01-07  1.4318  1131.90  49.10  110.82  \n",
       "2010-01-08  1.4412  1136.10  49.84  111.37  "
      ]
     },
     "execution_count": 2,
     "metadata": {},
     "output_type": "execute_result"
    }
   ],
   "source": [
    "raw = pd.read_csv('http://hilpisch.com/pyalgo_eikon_eod_data.csv', \n",
    "                  index_col='Date', parse_dates=['Date']).dropna() # the .dropna() method drops all the missing values\n",
    "raw.head()"
   ]
  },
  {
   "cell_type": "markdown",
   "id": "widespread-router",
   "metadata": {},
   "source": [
    "Let's now extract the **Euro/USD** exchange rate into its own dataframe. We can **plot** this series to get the feel for it"
   ]
  },
  {
   "cell_type": "code",
   "execution_count": 3,
   "id": "coupled-stand",
   "metadata": {},
   "outputs": [
    {
     "data": {
      "text/html": [
       "<div>\n",
       "<style scoped>\n",
       "    .dataframe tbody tr th:only-of-type {\n",
       "        vertical-align: middle;\n",
       "    }\n",
       "\n",
       "    .dataframe tbody tr th {\n",
       "        vertical-align: top;\n",
       "    }\n",
       "\n",
       "    .dataframe thead th {\n",
       "        text-align: right;\n",
       "    }\n",
       "</style>\n",
       "<table border=\"1\" class=\"dataframe\">\n",
       "  <thead>\n",
       "    <tr style=\"text-align: right;\">\n",
       "      <th></th>\n",
       "      <th>EUR=</th>\n",
       "    </tr>\n",
       "    <tr>\n",
       "      <th>Date</th>\n",
       "      <th></th>\n",
       "    </tr>\n",
       "  </thead>\n",
       "  <tbody>\n",
       "    <tr>\n",
       "      <th>2010-01-04</th>\n",
       "      <td>1.4411</td>\n",
       "    </tr>\n",
       "    <tr>\n",
       "      <th>2010-01-05</th>\n",
       "      <td>1.4368</td>\n",
       "    </tr>\n",
       "    <tr>\n",
       "      <th>2010-01-06</th>\n",
       "      <td>1.4412</td>\n",
       "    </tr>\n",
       "    <tr>\n",
       "      <th>2010-01-07</th>\n",
       "      <td>1.4318</td>\n",
       "    </tr>\n",
       "    <tr>\n",
       "      <th>2010-01-08</th>\n",
       "      <td>1.4412</td>\n",
       "    </tr>\n",
       "  </tbody>\n",
       "</table>\n",
       "</div>"
      ],
      "text/plain": [
       "              EUR=\n",
       "Date              \n",
       "2010-01-04  1.4411\n",
       "2010-01-05  1.4368\n",
       "2010-01-06  1.4412\n",
       "2010-01-07  1.4318\n",
       "2010-01-08  1.4412"
      ]
     },
     "execution_count": 3,
     "metadata": {},
     "output_type": "execute_result"
    }
   ],
   "source": [
    "data = pd.DataFrame(raw['EUR='])\n",
    "\n",
    "data.head()"
   ]
  },
  {
   "cell_type": "code",
   "execution_count": 4,
   "id": "cleared-oxygen",
   "metadata": {},
   "outputs": [
    {
     "data": {
      "text/plain": [
       "<AxesSubplot:title={'center':'EUR/USD'}, xlabel='Date'>"
      ]
     },
     "execution_count": 4,
     "metadata": {},
     "output_type": "execute_result"
    },
    {
     "data": {
      "image/png": "[encoded data removed]",
      "text/plain": [
       "<Figure size 720x432 with 1 Axes>"
      ]
     },
     "metadata": {
      "needs_background": "light"
     },
     "output_type": "display_data"
    }
   ],
   "source": [
    "data.plot(figsize=(10, 6),\n",
    "          title='EUR/USD')"
   ]
  },
  {
   "cell_type": "markdown",
   "id": "ideal-shuttle",
   "metadata": {},
   "source": [
    "___\n",
    "## 2. The Signal\n",
    "The goal of this exercise is not so much to introduce a successful investment strategy, but to show **how to build a backtesting system for a generic strategy**. So, to start, we will implement one of the oldest trading strategies, the so-called [Moving-Average Crossover Strategy](https://en.wikipedia.org/wiki/Moving_average_crossover).\n",
    "\n",
    "The starting point is to create two Moving Average Indicators using the [**`.rolling()`**](https://pandas.pydata.org/pandas-docs/stable/reference/api/pandas.DataFrame.rolling.html) method that allows us to perform a number of calculation on a rolling window. "
   ]
  },
  {
   "cell_type": "code",
   "execution_count": 5,
   "id": "valuable-romance",
   "metadata": {},
   "outputs": [
    {
     "data": {
      "text/html": [
       "<div>\n",
       "<style scoped>\n",
       "    .dataframe tbody tr th:only-of-type {\n",
       "        vertical-align: middle;\n",
       "    }\n",
       "\n",
       "    .dataframe tbody tr th {\n",
       "        vertical-align: top;\n",
       "    }\n",
       "\n",
       "    .dataframe thead th {\n",
       "        text-align: right;\n",
       "    }\n",
       "</style>\n",
       "<table border=\"1\" class=\"dataframe\">\n",
       "  <thead>\n",
       "    <tr style=\"text-align: right;\">\n",
       "      <th></th>\n",
       "      <th>EUR=</th>\n",
       "      <th>SMA1</th>\n",
       "      <th>SMA2</th>\n",
       "    </tr>\n",
       "    <tr>\n",
       "      <th>Date</th>\n",
       "      <th></th>\n",
       "      <th></th>\n",
       "      <th></th>\n",
       "    </tr>\n",
       "  </thead>\n",
       "  <tbody>\n",
       "    <tr>\n",
       "      <th>2019-12-24</th>\n",
       "      <td>1.1087</td>\n",
       "      <td>1.107698</td>\n",
       "      <td>1.119630</td>\n",
       "    </tr>\n",
       "    <tr>\n",
       "      <th>2019-12-26</th>\n",
       "      <td>1.1096</td>\n",
       "      <td>1.107740</td>\n",
       "      <td>1.119529</td>\n",
       "    </tr>\n",
       "    <tr>\n",
       "      <th>2019-12-27</th>\n",
       "      <td>1.1175</td>\n",
       "      <td>1.107924</td>\n",
       "      <td>1.119428</td>\n",
       "    </tr>\n",
       "    <tr>\n",
       "      <th>2019-12-30</th>\n",
       "      <td>1.1197</td>\n",
       "      <td>1.108131</td>\n",
       "      <td>1.119333</td>\n",
       "    </tr>\n",
       "    <tr>\n",
       "      <th>2019-12-31</th>\n",
       "      <td>1.1210</td>\n",
       "      <td>1.108279</td>\n",
       "      <td>1.119231</td>\n",
       "    </tr>\n",
       "  </tbody>\n",
       "</table>\n",
       "</div>"
      ],
      "text/plain": [
       "              EUR=      SMA1      SMA2\n",
       "Date                                  \n",
       "2019-12-24  1.1087  1.107698  1.119630\n",
       "2019-12-26  1.1096  1.107740  1.119529\n",
       "2019-12-27  1.1175  1.107924  1.119428\n",
       "2019-12-30  1.1197  1.108131  1.119333\n",
       "2019-12-31  1.1210  1.108279  1.119231"
      ]
     },
     "execution_count": 5,
     "metadata": {},
     "output_type": "execute_result"
    }
   ],
   "source": [
    "data['SMA1'] = data['EUR='].rolling(42).mean()\n",
    "data['SMA2'] = data['EUR='].rolling(252).mean()\n",
    "data.tail()"
   ]
  },
  {
   "cell_type": "code",
   "execution_count": 6,
   "id": "embedded-driving",
   "metadata": {},
   "outputs": [
    {
     "data": {
      "text/plain": [
       "<AxesSubplot:title={'center':'EUR/USD | 42 & 252 days SMAs'}, xlabel='Date'>"
      ]
     },
     "execution_count": 6,
     "metadata": {},
     "output_type": "execute_result"
    },
    {
     "data": {
      "image/png": "[encoded data removed]",
      "text/plain": [
       "<Figure size 720x432 with 1 Axes>"
      ]
     },
     "metadata": {
      "needs_background": "light"
     },
     "output_type": "display_data"
    }
   ],
   "source": [
    "data.plot(figsize=(10, 6),\n",
    "          title='EUR/USD | 42 & 252 days SMAs')"
   ]
  },
  {
   "cell_type": "markdown",
   "id": "above-newark",
   "metadata": {},
   "source": [
    "The key element of every strategy is the **Alpha Model**. In a SMA strategy, this is quite trivial: when **the short-term MA is above the long-term MA** we predict that the price will rise. So our **Signal** will simply be the difference between the two rolling moving averages."
   ]
  },
  {
   "cell_type": "code",
   "execution_count": 7,
   "id": "ahead-meeting",
   "metadata": {},
   "outputs": [
    {
     "data": {
      "text/plain": [
       "<AxesSubplot:title={'center':'SMA Signal'}, xlabel='Date'>"
      ]
     },
     "execution_count": 7,
     "metadata": {},
     "output_type": "execute_result"
    },
    {
     "data": {
      "image/png": "[encoded data removed]",
      "text/plain": [
       "<Figure size 720x432 with 1 Axes>"
      ]
     },
     "metadata": {
      "needs_background": "light"
     },
     "output_type": "display_data"
    }
   ],
   "source": [
    "data['signal'] = data['SMA1'] - data['SMA2']\n",
    "\n",
    "data['signal'].plot(figsize=(10, 6),\n",
    "                    title='SMA Signal')"
   ]
  },
  {
   "cell_type": "markdown",
   "id": "mediterranean-motel",
   "metadata": {},
   "source": [
    "Techically the SMA strategy does not look at the size of the difference between the two MAs, but only at the sign. We could have defined our signal as\n",
    "\n",
    "`data['signal'] = data['SMA1'] > data['SMA2']`\n",
    "\n",
    "This would have given us a \"boolean\" signal (`True/False`) and that would have been sufficient. The solution we used above allows us to more easily plot the signal, and provide some modicum of additional information. For example we can see \"how close\" the signal is to reverse."
   ]
  },
  {
   "cell_type": "markdown",
   "id": "weighted-rider",
   "metadata": {},
   "source": [
    "___\n",
    "## 3. The Position\n",
    "Our **Portfolio Construction Model** will take the signal and transform it into a trading position. Given the introductory nature of this example, also our portfolio model is trivial: we buy when we forecast a price increase (positive signal) and we go short when we forecast a decrease (negative signal).\n",
    "\n",
    "To build our position indicator we will:\n",
    "1. Create a columns full of `0`.  Our default position is to be not-invested.\n",
    "1. We use the [**`DataFrame.mask()`**](https://pandas.pydata.org/docs/reference/api/pandas.DataFrame.mask.html) method to replace the position with a `-1`, a **short-sell** indicator, whenever the **signal is negative**\n",
    "1. We use the [**`DataFrame.mask()`**](https://pandas.pydata.org/docs/reference/api/pandas.DataFrame.mask.html) method to replace the position with a `+1`, a **buy** indicator, whenever the **signal is positive**"
   ]
  },
  {
   "cell_type": "code",
   "execution_count": 8,
   "id": "forty-cameroon",
   "metadata": {},
   "outputs": [
    {
     "data": {
      "text/html": [
       "<div>\n",
       "<style scoped>\n",
       "    .dataframe tbody tr th:only-of-type {\n",
       "        vertical-align: middle;\n",
       "    }\n",
       "\n",
       "    .dataframe tbody tr th {\n",
       "        vertical-align: top;\n",
       "    }\n",
       "\n",
       "    .dataframe thead th {\n",
       "        text-align: right;\n",
       "    }\n",
       "</style>\n",
       "<table border=\"1\" class=\"dataframe\">\n",
       "  <thead>\n",
       "    <tr style=\"text-align: right;\">\n",
       "      <th></th>\n",
       "      <th>EUR=</th>\n",
       "      <th>SMA1</th>\n",
       "      <th>SMA2</th>\n",
       "      <th>signal</th>\n",
       "      <th>position</th>\n",
       "    </tr>\n",
       "    <tr>\n",
       "      <th>Date</th>\n",
       "      <th></th>\n",
       "      <th></th>\n",
       "      <th></th>\n",
       "      <th></th>\n",
       "      <th></th>\n",
       "    </tr>\n",
       "  </thead>\n",
       "  <tbody>\n",
       "    <tr>\n",
       "      <th>2019-12-24</th>\n",
       "      <td>1.1087</td>\n",
       "      <td>1.107698</td>\n",
       "      <td>1.119630</td>\n",
       "      <td>-0.011933</td>\n",
       "      <td>-1</td>\n",
       "    </tr>\n",
       "    <tr>\n",
       "      <th>2019-12-26</th>\n",
       "      <td>1.1096</td>\n",
       "      <td>1.107740</td>\n",
       "      <td>1.119529</td>\n",
       "      <td>-0.011788</td>\n",
       "      <td>-1</td>\n",
       "    </tr>\n",
       "    <tr>\n",
       "      <th>2019-12-27</th>\n",
       "      <td>1.1175</td>\n",
       "      <td>1.107924</td>\n",
       "      <td>1.119428</td>\n",
       "      <td>-0.011504</td>\n",
       "      <td>-1</td>\n",
       "    </tr>\n",
       "    <tr>\n",
       "      <th>2019-12-30</th>\n",
       "      <td>1.1197</td>\n",
       "      <td>1.108131</td>\n",
       "      <td>1.119333</td>\n",
       "      <td>-0.011202</td>\n",
       "      <td>-1</td>\n",
       "    </tr>\n",
       "    <tr>\n",
       "      <th>2019-12-31</th>\n",
       "      <td>1.1210</td>\n",
       "      <td>1.108279</td>\n",
       "      <td>1.119231</td>\n",
       "      <td>-0.010952</td>\n",
       "      <td>-1</td>\n",
       "    </tr>\n",
       "  </tbody>\n",
       "</table>\n",
       "</div>"
      ],
      "text/plain": [
       "              EUR=      SMA1      SMA2    signal  position\n",
       "Date                                                      \n",
       "2019-12-24  1.1087  1.107698  1.119630 -0.011933        -1\n",
       "2019-12-26  1.1096  1.107740  1.119529 -0.011788        -1\n",
       "2019-12-27  1.1175  1.107924  1.119428 -0.011504        -1\n",
       "2019-12-30  1.1197  1.108131  1.119333 -0.011202        -1\n",
       "2019-12-31  1.1210  1.108279  1.119231 -0.010952        -1"
      ]
     },
     "execution_count": 8,
     "metadata": {},
     "output_type": "execute_result"
    }
   ],
   "source": [
    "data['position'] = 0\n",
    "data['position'] = data['position'].mask(data['signal']<0,-1)\n",
    "data['position'] = data['position'].mask(data['signal']>0,+1)\n",
    "data.tail()"
   ]
  },
  {
   "cell_type": "markdown",
   "id": "enabling-israeli",
   "metadata": {},
   "source": [
    "This is the core element of a **Vectorized Backtesting** as you can see we can determine the value of the position (in this case simply long/short) **simultaneously for all days**. This is called a _vectorized_ calculation because we only need one line of code and we apply it to the entire vector of prices. \n",
    "\n",
    "We can use the method [**`DataFrame.value_counts()`**](https://pandas.pydata.org/pandas-docs/stable/reference/api/pandas.Series.value_counts.html) to count the frequency of values in a column. This will tell us how many days we held long and short position in the exchange rate."
   ]
  },
  {
   "cell_type": "code",
   "execution_count": 9,
   "id": "composed-australian",
   "metadata": {},
   "outputs": [
    {
     "data": {
      "text/plain": [
       "-1    1216\n",
       " 1    1049\n",
       " 0     251\n",
       "Name: position, dtype: int64"
      ]
     },
     "execution_count": 9,
     "metadata": {},
     "output_type": "execute_result"
    }
   ],
   "source": [
    "data['position'].value_counts()"
   ]
  },
  {
   "cell_type": "markdown",
   "id": "d8f0f55d-7cf4-4b0b-972d-88f8ca15b289",
   "metadata": {},
   "source": [
    "___\n",
    "### Coding Issue\n",
    "In Python there are normally **many ways to achieve the same result**. Here we could have built our position in a number of ways.\n",
    "\n",
    "First of all, since in this case the position is pretty straightforward (a negtive signal leads to -100% investment while a positive signal leads to a +100% position) we could simply use the numpy dunction [**`np.sign()`**](https://numpy.org/doc/stable/reference/generated/numpy.sign.html)"
   ]
  },
  {
   "cell_type": "code",
   "execution_count": 10,
   "id": "1cd2cd34-084f-4ba1-ab7c-57fccfa56267",
   "metadata": {},
   "outputs": [
    {
     "data": {
      "text/html": [
       "<div>\n",
       "<style scoped>\n",
       "    .dataframe tbody tr th:only-of-type {\n",
       "        vertical-align: middle;\n",
       "    }\n",
       "\n",
       "    .dataframe tbody tr th {\n",
       "        vertical-align: top;\n",
       "    }\n",
       "\n",
       "    .dataframe thead th {\n",
       "        text-align: right;\n",
       "    }\n",
       "</style>\n",
       "<table border=\"1\" class=\"dataframe\">\n",
       "  <thead>\n",
       "    <tr style=\"text-align: right;\">\n",
       "      <th></th>\n",
       "      <th>EUR=</th>\n",
       "      <th>SMA1</th>\n",
       "      <th>SMA2</th>\n",
       "      <th>signal</th>\n",
       "      <th>position</th>\n",
       "      <th>position2</th>\n",
       "    </tr>\n",
       "    <tr>\n",
       "      <th>Date</th>\n",
       "      <th></th>\n",
       "      <th></th>\n",
       "      <th></th>\n",
       "      <th></th>\n",
       "      <th></th>\n",
       "      <th></th>\n",
       "    </tr>\n",
       "  </thead>\n",
       "  <tbody>\n",
       "    <tr>\n",
       "      <th>2019-12-24</th>\n",
       "      <td>1.1087</td>\n",
       "      <td>1.107698</td>\n",
       "      <td>1.119630</td>\n",
       "      <td>-0.011933</td>\n",
       "      <td>-1</td>\n",
       "      <td>-1.0</td>\n",
       "    </tr>\n",
       "    <tr>\n",
       "      <th>2019-12-26</th>\n",
       "      <td>1.1096</td>\n",
       "      <td>1.107740</td>\n",
       "      <td>1.119529</td>\n",
       "      <td>-0.011788</td>\n",
       "      <td>-1</td>\n",
       "      <td>-1.0</td>\n",
       "    </tr>\n",
       "    <tr>\n",
       "      <th>2019-12-27</th>\n",
       "      <td>1.1175</td>\n",
       "      <td>1.107924</td>\n",
       "      <td>1.119428</td>\n",
       "      <td>-0.011504</td>\n",
       "      <td>-1</td>\n",
       "      <td>-1.0</td>\n",
       "    </tr>\n",
       "    <tr>\n",
       "      <th>2019-12-30</th>\n",
       "      <td>1.1197</td>\n",
       "      <td>1.108131</td>\n",
       "      <td>1.119333</td>\n",
       "      <td>-0.011202</td>\n",
       "      <td>-1</td>\n",
       "      <td>-1.0</td>\n",
       "    </tr>\n",
       "    <tr>\n",
       "      <th>2019-12-31</th>\n",
       "      <td>1.1210</td>\n",
       "      <td>1.108279</td>\n",
       "      <td>1.119231</td>\n",
       "      <td>-0.010952</td>\n",
       "      <td>-1</td>\n",
       "      <td>-1.0</td>\n",
       "    </tr>\n",
       "  </tbody>\n",
       "</table>\n",
       "</div>"
      ],
      "text/plain": [
       "              EUR=      SMA1      SMA2    signal  position  position2\n",
       "Date                                                                 \n",
       "2019-12-24  1.1087  1.107698  1.119630 -0.011933        -1       -1.0\n",
       "2019-12-26  1.1096  1.107740  1.119529 -0.011788        -1       -1.0\n",
       "2019-12-27  1.1175  1.107924  1.119428 -0.011504        -1       -1.0\n",
       "2019-12-30  1.1197  1.108131  1.119333 -0.011202        -1       -1.0\n",
       "2019-12-31  1.1210  1.108279  1.119231 -0.010952        -1       -1.0"
      ]
     },
     "execution_count": 10,
     "metadata": {},
     "output_type": "execute_result"
    }
   ],
   "source": [
    "data['position2'] = data['signal'].apply(np.sign)\n",
    "data.tail()"
   ]
  },
  {
   "cell_type": "markdown",
   "id": "593adf8f-1658-4b6c-ae3b-7c0f745edf1e",
   "metadata": {},
   "source": [
    "In the from [Chapter 4](https://learning.oreilly.com/library/view/python-for-algorithmic/9781492053347/ch04.html) of the Hilpisch _Python for Algorithmic Trading_ book it uses a third different method based on the numpy function [**`np.where()`**](https://numpy.org/doc/stable/reference/generated/numpy.where.html):"
   ]
  },
  {
   "cell_type": "code",
   "execution_count": 11,
   "id": "14497217-7f3c-4fac-8b5c-2f060365b1a3",
   "metadata": {},
   "outputs": [
    {
     "data": {
      "text/html": [
       "<div>\n",
       "<style scoped>\n",
       "    .dataframe tbody tr th:only-of-type {\n",
       "        vertical-align: middle;\n",
       "    }\n",
       "\n",
       "    .dataframe tbody tr th {\n",
       "        vertical-align: top;\n",
       "    }\n",
       "\n",
       "    .dataframe thead th {\n",
       "        text-align: right;\n",
       "    }\n",
       "</style>\n",
       "<table border=\"1\" class=\"dataframe\">\n",
       "  <thead>\n",
       "    <tr style=\"text-align: right;\">\n",
       "      <th></th>\n",
       "      <th>EUR=</th>\n",
       "      <th>SMA1</th>\n",
       "      <th>SMA2</th>\n",
       "      <th>signal</th>\n",
       "      <th>position</th>\n",
       "      <th>position2</th>\n",
       "      <th>position3</th>\n",
       "    </tr>\n",
       "    <tr>\n",
       "      <th>Date</th>\n",
       "      <th></th>\n",
       "      <th></th>\n",
       "      <th></th>\n",
       "      <th></th>\n",
       "      <th></th>\n",
       "      <th></th>\n",
       "      <th></th>\n",
       "    </tr>\n",
       "  </thead>\n",
       "  <tbody>\n",
       "    <tr>\n",
       "      <th>2019-12-24</th>\n",
       "      <td>1.1087</td>\n",
       "      <td>1.107698</td>\n",
       "      <td>1.119630</td>\n",
       "      <td>-0.011933</td>\n",
       "      <td>-1</td>\n",
       "      <td>-1.0</td>\n",
       "      <td>-1</td>\n",
       "    </tr>\n",
       "    <tr>\n",
       "      <th>2019-12-26</th>\n",
       "      <td>1.1096</td>\n",
       "      <td>1.107740</td>\n",
       "      <td>1.119529</td>\n",
       "      <td>-0.011788</td>\n",
       "      <td>-1</td>\n",
       "      <td>-1.0</td>\n",
       "      <td>-1</td>\n",
       "    </tr>\n",
       "    <tr>\n",
       "      <th>2019-12-27</th>\n",
       "      <td>1.1175</td>\n",
       "      <td>1.107924</td>\n",
       "      <td>1.119428</td>\n",
       "      <td>-0.011504</td>\n",
       "      <td>-1</td>\n",
       "      <td>-1.0</td>\n",
       "      <td>-1</td>\n",
       "    </tr>\n",
       "    <tr>\n",
       "      <th>2019-12-30</th>\n",
       "      <td>1.1197</td>\n",
       "      <td>1.108131</td>\n",
       "      <td>1.119333</td>\n",
       "      <td>-0.011202</td>\n",
       "      <td>-1</td>\n",
       "      <td>-1.0</td>\n",
       "      <td>-1</td>\n",
       "    </tr>\n",
       "    <tr>\n",
       "      <th>2019-12-31</th>\n",
       "      <td>1.1210</td>\n",
       "      <td>1.108279</td>\n",
       "      <td>1.119231</td>\n",
       "      <td>-0.010952</td>\n",
       "      <td>-1</td>\n",
       "      <td>-1.0</td>\n",
       "      <td>-1</td>\n",
       "    </tr>\n",
       "  </tbody>\n",
       "</table>\n",
       "</div>"
      ],
      "text/plain": [
       "              EUR=      SMA1      SMA2    signal  position  position2  \\\n",
       "Date                                                                    \n",
       "2019-12-24  1.1087  1.107698  1.119630 -0.011933        -1       -1.0   \n",
       "2019-12-26  1.1096  1.107740  1.119529 -0.011788        -1       -1.0   \n",
       "2019-12-27  1.1175  1.107924  1.119428 -0.011504        -1       -1.0   \n",
       "2019-12-30  1.1197  1.108131  1.119333 -0.011202        -1       -1.0   \n",
       "2019-12-31  1.1210  1.108279  1.119231 -0.010952        -1       -1.0   \n",
       "\n",
       "            position3  \n",
       "Date                   \n",
       "2019-12-24         -1  \n",
       "2019-12-26         -1  \n",
       "2019-12-27         -1  \n",
       "2019-12-30         -1  \n",
       "2019-12-31         -1  "
      ]
     },
     "execution_count": 11,
     "metadata": {},
     "output_type": "execute_result"
    }
   ],
   "source": [
    "data['position3'] = np.where(data['SMA1'] > data['SMA2'],1, -1) \n",
    "data.tail()"
   ]
  },
  {
   "cell_type": "markdown",
   "id": "9cb21b0a-ec61-4844-ace3-e9bb93503c35",
   "metadata": {},
   "source": [
    "Probably, with some time and wasted effort **we could find three or four more**. The idea is that as long as it works...it works. Pick one and stick with it.\n",
    "___"
   ]
  },
  {
   "cell_type": "markdown",
   "id": "thermal-inflation",
   "metadata": {},
   "source": [
    "### Recap\n",
    "As you can see we have built our trading strategies by:\n",
    "1. Creating a **Signal** that forecasts the movement of our asset (US Dollar). This is our Alpha Model!\n",
    "1. Transforming our Signal into a **trading Position**. In this case the position is simply binary (go long vs go short on the Dollar). We could have implemented a more complex strategy where the \"size\" of the bet was calculated as a function of the signal."
   ]
  },
  {
   "cell_type": "markdown",
   "id": "atlantic-flight",
   "metadata": {},
   "source": [
    "___\n",
    "## 4. The Performance\n",
    "After building our strategy we need to **measure its performance** and compare it with a **suitable benchmark**. \n",
    "\n",
    "To calculate the performance of the strategy, **calculate the log returns** based on the original financial time series next.\n",
    "\n",
    "$$ return = \\log \\left(\\frac{P_{t}}{P_{t-1}}\\right)$$\n",
    "\n",
    "The code to do this is again rather concise due to vectorization. The calculation below makes use of the method [**`.shift()`**](https://pandas.pydata.org/pandas-docs/stable/reference/api/pandas.DataFrame.shift.html) to extract the prices in the \"previous\" day."
   ]
  },
  {
   "cell_type": "code",
   "execution_count": 12,
   "id": "seventh-india",
   "metadata": {},
   "outputs": [
    {
     "data": {
      "text/html": [
       "<div>\n",
       "<style scoped>\n",
       "    .dataframe tbody tr th:only-of-type {\n",
       "        vertical-align: middle;\n",
       "    }\n",
       "\n",
       "    .dataframe tbody tr th {\n",
       "        vertical-align: top;\n",
       "    }\n",
       "\n",
       "    .dataframe thead th {\n",
       "        text-align: right;\n",
       "    }\n",
       "</style>\n",
       "<table border=\"1\" class=\"dataframe\">\n",
       "  <thead>\n",
       "    <tr style=\"text-align: right;\">\n",
       "      <th></th>\n",
       "      <th>EUR=</th>\n",
       "      <th>SMA1</th>\n",
       "      <th>SMA2</th>\n",
       "      <th>signal</th>\n",
       "      <th>position</th>\n",
       "      <th>position2</th>\n",
       "      <th>position3</th>\n",
       "      <th>returns</th>\n",
       "    </tr>\n",
       "    <tr>\n",
       "      <th>Date</th>\n",
       "      <th></th>\n",
       "      <th></th>\n",
       "      <th></th>\n",
       "      <th></th>\n",
       "      <th></th>\n",
       "      <th></th>\n",
       "      <th></th>\n",
       "      <th></th>\n",
       "    </tr>\n",
       "  </thead>\n",
       "  <tbody>\n",
       "    <tr>\n",
       "      <th>2019-12-24</th>\n",
       "      <td>1.1087</td>\n",
       "      <td>1.107698</td>\n",
       "      <td>1.119630</td>\n",
       "      <td>-0.011933</td>\n",
       "      <td>-1</td>\n",
       "      <td>-1.0</td>\n",
       "      <td>-1</td>\n",
       "      <td>0.000090</td>\n",
       "    </tr>\n",
       "    <tr>\n",
       "      <th>2019-12-26</th>\n",
       "      <td>1.1096</td>\n",
       "      <td>1.107740</td>\n",
       "      <td>1.119529</td>\n",
       "      <td>-0.011788</td>\n",
       "      <td>-1</td>\n",
       "      <td>-1.0</td>\n",
       "      <td>-1</td>\n",
       "      <td>0.000811</td>\n",
       "    </tr>\n",
       "    <tr>\n",
       "      <th>2019-12-27</th>\n",
       "      <td>1.1175</td>\n",
       "      <td>1.107924</td>\n",
       "      <td>1.119428</td>\n",
       "      <td>-0.011504</td>\n",
       "      <td>-1</td>\n",
       "      <td>-1.0</td>\n",
       "      <td>-1</td>\n",
       "      <td>0.007094</td>\n",
       "    </tr>\n",
       "    <tr>\n",
       "      <th>2019-12-30</th>\n",
       "      <td>1.1197</td>\n",
       "      <td>1.108131</td>\n",
       "      <td>1.119333</td>\n",
       "      <td>-0.011202</td>\n",
       "      <td>-1</td>\n",
       "      <td>-1.0</td>\n",
       "      <td>-1</td>\n",
       "      <td>0.001967</td>\n",
       "    </tr>\n",
       "    <tr>\n",
       "      <th>2019-12-31</th>\n",
       "      <td>1.1210</td>\n",
       "      <td>1.108279</td>\n",
       "      <td>1.119231</td>\n",
       "      <td>-0.010952</td>\n",
       "      <td>-1</td>\n",
       "      <td>-1.0</td>\n",
       "      <td>-1</td>\n",
       "      <td>0.001160</td>\n",
       "    </tr>\n",
       "  </tbody>\n",
       "</table>\n",
       "</div>"
      ],
      "text/plain": [
       "              EUR=      SMA1      SMA2    signal  position  position2  \\\n",
       "Date                                                                    \n",
       "2019-12-24  1.1087  1.107698  1.119630 -0.011933        -1       -1.0   \n",
       "2019-12-26  1.1096  1.107740  1.119529 -0.011788        -1       -1.0   \n",
       "2019-12-27  1.1175  1.107924  1.119428 -0.011504        -1       -1.0   \n",
       "2019-12-30  1.1197  1.108131  1.119333 -0.011202        -1       -1.0   \n",
       "2019-12-31  1.1210  1.108279  1.119231 -0.010952        -1       -1.0   \n",
       "\n",
       "            position3   returns  \n",
       "Date                             \n",
       "2019-12-24         -1  0.000090  \n",
       "2019-12-26         -1  0.000811  \n",
       "2019-12-27         -1  0.007094  \n",
       "2019-12-30         -1  0.001967  \n",
       "2019-12-31         -1  0.001160  "
      ]
     },
     "execution_count": 12,
     "metadata": {},
     "output_type": "execute_result"
    }
   ],
   "source": [
    "data['returns'] = np.log(data['EUR='] / data['EUR='].shift(1))\n",
    "data.tail()"
   ]
  },
  {
   "cell_type": "markdown",
   "id": "established-business",
   "metadata": {},
   "source": [
    "To calculate the **return of the strategy** we need to multiply the return of the day $t$ by the position in time $t-1$."
   ]
  },
  {
   "cell_type": "code",
   "execution_count": 13,
   "id": "authorized-groove",
   "metadata": {},
   "outputs": [
    {
     "data": {
      "text/html": [
       "<div>\n",
       "<style scoped>\n",
       "    .dataframe tbody tr th:only-of-type {\n",
       "        vertical-align: middle;\n",
       "    }\n",
       "\n",
       "    .dataframe tbody tr th {\n",
       "        vertical-align: top;\n",
       "    }\n",
       "\n",
       "    .dataframe thead th {\n",
       "        text-align: right;\n",
       "    }\n",
       "</style>\n",
       "<table border=\"1\" class=\"dataframe\">\n",
       "  <thead>\n",
       "    <tr style=\"text-align: right;\">\n",
       "      <th></th>\n",
       "      <th>EUR=</th>\n",
       "      <th>SMA1</th>\n",
       "      <th>SMA2</th>\n",
       "      <th>signal</th>\n",
       "      <th>position</th>\n",
       "      <th>position2</th>\n",
       "      <th>position3</th>\n",
       "      <th>returns</th>\n",
       "      <th>strategy</th>\n",
       "    </tr>\n",
       "    <tr>\n",
       "      <th>Date</th>\n",
       "      <th></th>\n",
       "      <th></th>\n",
       "      <th></th>\n",
       "      <th></th>\n",
       "      <th></th>\n",
       "      <th></th>\n",
       "      <th></th>\n",
       "      <th></th>\n",
       "      <th></th>\n",
       "    </tr>\n",
       "  </thead>\n",
       "  <tbody>\n",
       "    <tr>\n",
       "      <th>2019-12-24</th>\n",
       "      <td>1.1087</td>\n",
       "      <td>1.107698</td>\n",
       "      <td>1.119630</td>\n",
       "      <td>-0.011933</td>\n",
       "      <td>-1</td>\n",
       "      <td>-1.0</td>\n",
       "      <td>-1</td>\n",
       "      <td>0.000090</td>\n",
       "      <td>-0.000090</td>\n",
       "    </tr>\n",
       "    <tr>\n",
       "      <th>2019-12-26</th>\n",
       "      <td>1.1096</td>\n",
       "      <td>1.107740</td>\n",
       "      <td>1.119529</td>\n",
       "      <td>-0.011788</td>\n",
       "      <td>-1</td>\n",
       "      <td>-1.0</td>\n",
       "      <td>-1</td>\n",
       "      <td>0.000811</td>\n",
       "      <td>-0.000811</td>\n",
       "    </tr>\n",
       "    <tr>\n",
       "      <th>2019-12-27</th>\n",
       "      <td>1.1175</td>\n",
       "      <td>1.107924</td>\n",
       "      <td>1.119428</td>\n",
       "      <td>-0.011504</td>\n",
       "      <td>-1</td>\n",
       "      <td>-1.0</td>\n",
       "      <td>-1</td>\n",
       "      <td>0.007094</td>\n",
       "      <td>-0.007094</td>\n",
       "    </tr>\n",
       "    <tr>\n",
       "      <th>2019-12-30</th>\n",
       "      <td>1.1197</td>\n",
       "      <td>1.108131</td>\n",
       "      <td>1.119333</td>\n",
       "      <td>-0.011202</td>\n",
       "      <td>-1</td>\n",
       "      <td>-1.0</td>\n",
       "      <td>-1</td>\n",
       "      <td>0.001967</td>\n",
       "      <td>-0.001967</td>\n",
       "    </tr>\n",
       "    <tr>\n",
       "      <th>2019-12-31</th>\n",
       "      <td>1.1210</td>\n",
       "      <td>1.108279</td>\n",
       "      <td>1.119231</td>\n",
       "      <td>-0.010952</td>\n",
       "      <td>-1</td>\n",
       "      <td>-1.0</td>\n",
       "      <td>-1</td>\n",
       "      <td>0.001160</td>\n",
       "      <td>-0.001160</td>\n",
       "    </tr>\n",
       "  </tbody>\n",
       "</table>\n",
       "</div>"
      ],
      "text/plain": [
       "              EUR=      SMA1      SMA2    signal  position  position2  \\\n",
       "Date                                                                    \n",
       "2019-12-24  1.1087  1.107698  1.119630 -0.011933        -1       -1.0   \n",
       "2019-12-26  1.1096  1.107740  1.119529 -0.011788        -1       -1.0   \n",
       "2019-12-27  1.1175  1.107924  1.119428 -0.011504        -1       -1.0   \n",
       "2019-12-30  1.1197  1.108131  1.119333 -0.011202        -1       -1.0   \n",
       "2019-12-31  1.1210  1.108279  1.119231 -0.010952        -1       -1.0   \n",
       "\n",
       "            position3   returns  strategy  \n",
       "Date                                       \n",
       "2019-12-24         -1  0.000090 -0.000090  \n",
       "2019-12-26         -1  0.000811 -0.000811  \n",
       "2019-12-27         -1  0.007094 -0.007094  \n",
       "2019-12-30         -1  0.001967 -0.001967  \n",
       "2019-12-31         -1  0.001160 -0.001160  "
      ]
     },
     "execution_count": 13,
     "metadata": {},
     "output_type": "execute_result"
    }
   ],
   "source": [
    "data['strategy'] = data['position'].shift(1) * data['returns']\n",
    "data.tail()"
   ]
  },
  {
   "cell_type": "code",
   "execution_count": 14,
   "id": "proper-dutch",
   "metadata": {},
   "outputs": [
    {
     "data": {
      "text/plain": [
       "returns    -0.025168\n",
       "strategy    0.025362\n",
       "dtype: float64"
      ]
     },
     "execution_count": 14,
     "metadata": {},
     "output_type": "execute_result"
    }
   ],
   "source": [
    "# we can look at mean returns (annualized)\n",
    "data[['returns', 'strategy']].mean()*252"
   ]
  },
  {
   "cell_type": "code",
   "execution_count": 15,
   "id": "banner-indiana",
   "metadata": {},
   "outputs": [
    {
     "data": {
      "text/plain": [
       "returns     0.089465\n",
       "strategy    0.081031\n",
       "dtype: float64"
      ]
     },
     "execution_count": 15,
     "metadata": {},
     "output_type": "execute_result"
    }
   ],
   "source": [
    "# we can look at the standard deviation (annualized)\n",
    "data[['returns', 'strategy']].std()*np.sqrt(252)"
   ]
  },
  {
   "cell_type": "code",
   "execution_count": 16,
   "id": "experimental-count",
   "metadata": {},
   "outputs": [
    {
     "data": {
      "text/plain": [
       "returns    -0.251186\n",
       "strategy    0.253121\n",
       "dtype: float64"
      ]
     },
     "execution_count": 16,
     "metadata": {},
     "output_type": "execute_result"
    }
   ],
   "source": [
    "# since we are using log-returns, the total return is simply the sum of the daily returns\n",
    "data[['returns', 'strategy']].sum()"
   ]
  },
  {
   "cell_type": "code",
   "execution_count": 17,
   "id": "balanced-leave",
   "metadata": {},
   "outputs": [
    {
     "data": {
      "text/plain": [
       "<AxesSubplot:xlabel='Date'>"
      ]
     },
     "execution_count": 17,
     "metadata": {},
     "output_type": "execute_result"
    },
    {
     "data": {
      "image/png": "[encoded data removed]",
      "text/plain": [
       "<Figure size 720x432 with 1 Axes>"
      ]
     },
     "metadata": {
      "needs_background": "light"
     },
     "output_type": "display_data"
    }
   ],
   "source": [
    "# in the same way, the cumulative sum gives us the cumulative returns\n",
    "data[['returns', 'strategy']].cumsum().apply(np.exp).plot(figsize=(10, 6))"
   ]
  },
  {
   "cell_type": "markdown",
   "id": "incomplete-cartoon",
   "metadata": {},
   "source": [
    "So, is this a \"good\" strategy? Well, it clearly beats the market in our sample period. An active return, compared to the market, of almost 5% with a volatility of 8.5% it's not that bad... the problem is that when we look at the cumulative performance, we see that the bulk of this overperformance is due to us **being short Euros during the great devaluation of 2014**. It does not seem that this strategy has the power to beat a simple benchmark consistently over time..."
   ]
  },
  {
   "cell_type": "markdown",
   "id": "expensive-destiny",
   "metadata": {},
   "source": [
    "___\n",
    "### Exercise 6.01\n",
    "In the [Chapter 4](https://learning.oreilly.com/library/view/python-for-algorithmic/9781492053347/ch04.html) of the Hilpisch _Python for Algorithmic Trading_ book, after examining the moving average strategy, we are introduced to a simple **time-series momentum** strategy where we forecast the return of an asset by looking to the cumulative return over the last 3 days. If the cumulative return is positive we will take a long position (buy one unit), if the cumulative return is negative we will take a short position (short-sell one unit).\n",
    "\n",
    "Using our code above as a template, build a momentum trading strategy.\n",
    "\n",
    "**STEP 1:** Extract from the DataFrame `raw` the time series of the gold price (`XAU=`) into a new dataframe called `gold`"
   ]
  },
  {
   "cell_type": "code",
   "execution_count": null,
   "id": "traditional-criterion",
   "metadata": {},
   "outputs": [],
   "source": []
  },
  {
   "cell_type": "markdown",
   "id": "correct-convergence",
   "metadata": {},
   "source": [
    "**STEP 2:** Plot the time series to have a visual understanding of the behaviour of the gold price"
   ]
  },
  {
   "cell_type": "code",
   "execution_count": null,
   "id": "wound-discretion",
   "metadata": {},
   "outputs": [],
   "source": []
  },
  {
   "cell_type": "markdown",
   "id": "instructional-blink",
   "metadata": {},
   "source": [
    "**STEP 3:** Build a `signal` column in `gold` containing the \"momentum\" of gold. In this case we use the return of gold **over the last 3 days**.\n",
    "\n",
    "$$ momentum = \\log \\left(\\frac{P_{t}}{P_{t-3}}\\right)$$"
   ]
  },
  {
   "cell_type": "code",
   "execution_count": null,
   "id": "dramatic-reach",
   "metadata": {},
   "outputs": [],
   "source": []
  },
  {
   "cell_type": "markdown",
   "id": "quarterly-navigation",
   "metadata": {},
   "source": [
    "**SPEP 4:** Add a `position` column to `gold` with a long position (`+1`) when the signal is positive and a short position (`-1`) when the signal is negative."
   ]
  },
  {
   "cell_type": "code",
   "execution_count": null,
   "id": "separated-nelson",
   "metadata": {},
   "outputs": [],
   "source": []
  },
  {
   "cell_type": "markdown",
   "id": "hazardous-sending",
   "metadata": {},
   "source": [
    "**STEP 5:** Calculate the daily returns of Gold in a columns called `returns` and create a column `strat_returns` where you multiply the return in time $t$ with the position in $t-1$"
   ]
  },
  {
   "cell_type": "code",
   "execution_count": null,
   "id": "played-hardwood",
   "metadata": {},
   "outputs": [],
   "source": []
  },
  {
   "cell_type": "markdown",
   "id": "major-fireplace",
   "metadata": {},
   "source": [
    "**STEP 6:** Calculate the total return of your strategy and the total return of a simple long-only position in gold"
   ]
  },
  {
   "cell_type": "code",
   "execution_count": null,
   "id": "violent-complement",
   "metadata": {},
   "outputs": [],
   "source": []
  },
  {
   "cell_type": "markdown",
   "id": "cooperative-japanese",
   "metadata": {},
   "source": [
    "**STEP 7:** Plot the return of Gold vs the return of your strategy"
   ]
  },
  {
   "cell_type": "code",
   "execution_count": null,
   "id": "defensive-alpha",
   "metadata": {},
   "outputs": [],
   "source": []
  },
  {
   "cell_type": "markdown",
   "id": "sporting-indication",
   "metadata": {},
   "source": [
    "___\n",
    "## 5. In Production\n",
    "The workflow we have followed so far has led us to the \"development\" of a strategy: we have devised an alpha model, combined it with a portfolio construction model and we have backtested its performance on historical data. In the industry, our Jupyter Notebook would now be prettyfied with the addition of some more comments and descriptions and would be attached to a presentation of the strategy to be submitted to the investment committee that will decide whether to invest any capital in this strategy.\n",
    "\n",
    "Assuming that the strategy is \"good enough\" we will then be asked to put it into production. We cannot expect the investment team to click through all the cells in our notebook every day to find out whether they need to buy or sell Euros. Since we are in charge of the alpha model, our job is to **package the strategy** in a format that is easy to run with **one click**.\n",
    "\n",
    "The [Chapter 4](https://learning.oreilly.com/library/view/python-for-algorithmic/9781492053347/ch04.html) of the Hilpisch _Python for Algorithmic Trading_ book follows a complicated solution that is beyond our command of Python for now, namely to **create an object**. We have not covered object-oriented programming in our Python introduction, so for now we will pass on this option. If you are interested, [Chapter 6](https://learning.oreilly.com/library/view/python-for-finance/9781492024323/ch06.html) of the _Python for Finance (2nd Ed)_ book covers this topic very well.\n",
    "\n",
    "Here we will follow a simpler route and will **encapsulate our code in a function**. Basically we take all the relevant code and we use it to create a function that takes some input (the DataFrame with the prices, and the two parameters for the moving averages) runs the function and produces an output."
   ]
  },
  {
   "cell_type": "code",
   "execution_count": 18,
   "id": "revolutionary-england",
   "metadata": {},
   "outputs": [],
   "source": [
    "def SMA_Strategy(prices, SMA1=42, SMA2=252): # notice that we pass 42 and 252 as default values for the parameters\n",
    "    data = pd.DataFrame(prices.rename('price')) #Here we change the name so we do not need to worry about the name of the item\n",
    "    data['SMA1'] = data['price'].rolling(SMA1).mean()\n",
    "    data['SMA2'] = data['price'].rolling(SMA2).mean()\n",
    "    data['signal'] = data['SMA1'] - data['SMA2']\n",
    "    data['position'] = 0\n",
    "    data['position'] = data['position'].mask(data['signal']<0,-1)\n",
    "    data['position'] = data['position'].mask(data['signal']>0,+1)\n",
    "    data.dropna(inplace=True)\n",
    "    data['returns'] = np.log(data['price'] / data['price'].shift(1))\n",
    "    data['strategy'] = data['position'].shift(1) * data['returns']\n",
    "    \n",
    "    ###########\n",
    "    # Here we have a choice to make in terms of output.\n",
    "    \n",
    "    #return data['position']               # this will produce the historical trading position\n",
    "    #return pd.DataFrame(data['strategy']) # this will produce the daily return of the strategy\n",
    "    return data['strategy'].sum()    # this will produce the historical total return"
   ]
  },
  {
   "cell_type": "markdown",
   "id": "atomic-contrary",
   "metadata": {},
   "source": [
    "The fact that we have to chose what type of output the strategy will return, is one the main limitations of the \"function\" solution vs the \"object\" solution. With an object we could create different methods that would produce different outputs. For example `SMA_Strategy.next()` could give us the next trading indications while `SMA_Strategy.performance()` could give us the historical performance... With the function, instead, each function has a single purpose. \n",
    "\n",
    "For example, let's now **choose the last output**, the total return. We need to uncomment that line and run the cell. Now we can run the alpha model with a single line and **get the performance of the strategy**:"
   ]
  },
  {
   "cell_type": "code",
   "execution_count": 19,
   "id": "tribal-amsterdam",
   "metadata": {},
   "outputs": [
    {
     "data": {
      "text/plain": [
       "0.22332585097009722"
      ]
     },
     "execution_count": 19,
     "metadata": {},
     "output_type": "execute_result"
    }
   ],
   "source": [
    "performance = SMA_Strategy(raw['EUR='], 38, 260)\n",
    "performance"
   ]
  },
  {
   "cell_type": "markdown",
   "id": "pretty-singing",
   "metadata": {},
   "source": [
    "___\n",
    "## 6. Optimization\n",
    "Production is not the only reason why we may want to create a function with our alpha model. Another reason is that we may want to study the performance of the strategy, for example in order to optimize some parameters.\n",
    "\n",
    "Our SMA strategy has two parameters, the length of the two moving averages. In the development phase we used two numbers that make sense but may not be optimal. Our goal was to get the code to work. Now that we have the function we can optimize it by testing different alternatives. To this end we need to modify the function and select the last output, the average returns. After uncommenting that line (and \"commenting back\" the other one) we need to run the cell again to update the function.\n",
    "\n",
    "We can now generate possible combinations of the two parameters and test them:"
   ]
  },
  {
   "cell_type": "code",
   "execution_count": 20,
   "id": "preliminary-martial",
   "metadata": {},
   "outputs": [
    {
     "name": "stdout",
     "output_type": "stream",
     "text": [
      "Performance: 0.2083 SMA1: 21 SMA2: 220\n",
      "Performance: 0.328 SMA1: 28 SMA2: 228\n",
      "Performance: 0.2711 SMA1: 35 SMA2: 237\n",
      "Performance: 0.3511 SMA1: 42 SMA2: 246\n",
      "Performance: 0.3492 SMA1: 49 SMA2: 255\n",
      "Performance: 0.2767 SMA1: 56 SMA2: 264\n",
      "Performance: 0.2102 SMA1: 63 SMA2: 273\n",
      "Performance: 0.2313 SMA1: 70 SMA2: 282\n",
      "Performance: 0.0711 SMA1: 77 SMA2: 291\n",
      "Performance: 0.0643 SMA1: 84 SMA2: 300\n"
     ]
    }
   ],
   "source": [
    "sma1 = np.linspace(21, 84, 10).astype(int) #notice that we want integer numbers\n",
    "sma2 = np.linspace(220, 300, 10).astype(int)\n",
    "\n",
    "\n",
    "for n in range(10):\n",
    "    \n",
    "    perf = SMA_Strategy(raw['EUR='], sma1[n], sma2[n])\n",
    "    print('Performance:', round(perf,4), 'SMA1:', sma1[n], 'SMA2:', sma2[n]) #here we just print the result without saving it\n",
    "    \n",
    "    "
   ]
  },
  {
   "cell_type": "markdown",
   "id": "environmental-provision",
   "metadata": {},
   "source": [
    "We see that `[42/246]` seems to be the winning combination. But we can do better: we can run a double loop where we test **all the possible combinations** between the two parameters. In this case printing the output would be impractical (100 runs) but we can store it in a DataFrame and sort it at the end."
   ]
  },
  {
   "cell_type": "code",
   "execution_count": 21,
   "id": "surgical-loading",
   "metadata": {},
   "outputs": [
    {
     "data": {
      "text/html": [
       "<div>\n",
       "<style scoped>\n",
       "    .dataframe tbody tr th:only-of-type {\n",
       "        vertical-align: middle;\n",
       "    }\n",
       "\n",
       "    .dataframe tbody tr th {\n",
       "        vertical-align: top;\n",
       "    }\n",
       "\n",
       "    .dataframe thead th {\n",
       "        text-align: right;\n",
       "    }\n",
       "</style>\n",
       "<table border=\"1\" class=\"dataframe\">\n",
       "  <thead>\n",
       "    <tr style=\"text-align: right;\">\n",
       "      <th></th>\n",
       "      <th>performance</th>\n",
       "      <th>SMA1</th>\n",
       "      <th>SMA2</th>\n",
       "    </tr>\n",
       "  </thead>\n",
       "  <tbody>\n",
       "    <tr>\n",
       "      <th>42</th>\n",
       "      <td>0.392240</td>\n",
       "      <td>49.0</td>\n",
       "      <td>237.0</td>\n",
       "    </tr>\n",
       "    <tr>\n",
       "      <th>62</th>\n",
       "      <td>0.382571</td>\n",
       "      <td>63.0</td>\n",
       "      <td>237.0</td>\n",
       "    </tr>\n",
       "    <tr>\n",
       "      <th>41</th>\n",
       "      <td>0.382238</td>\n",
       "      <td>49.0</td>\n",
       "      <td>228.0</td>\n",
       "    </tr>\n",
       "    <tr>\n",
       "      <th>43</th>\n",
       "      <td>0.377160</td>\n",
       "      <td>49.0</td>\n",
       "      <td>246.0</td>\n",
       "    </tr>\n",
       "    <tr>\n",
       "      <th>81</th>\n",
       "      <td>0.354273</td>\n",
       "      <td>77.0</td>\n",
       "      <td>228.0</td>\n",
       "    </tr>\n",
       "    <tr>\n",
       "      <th>33</th>\n",
       "      <td>0.351055</td>\n",
       "      <td>42.0</td>\n",
       "      <td>246.0</td>\n",
       "    </tr>\n",
       "    <tr>\n",
       "      <th>44</th>\n",
       "      <td>0.349235</td>\n",
       "      <td>49.0</td>\n",
       "      <td>255.0</td>\n",
       "    </tr>\n",
       "    <tr>\n",
       "      <th>32</th>\n",
       "      <td>0.343515</td>\n",
       "      <td>42.0</td>\n",
       "      <td>237.0</td>\n",
       "    </tr>\n",
       "    <tr>\n",
       "      <th>1</th>\n",
       "      <td>0.339940</td>\n",
       "      <td>21.0</td>\n",
       "      <td>228.0</td>\n",
       "    </tr>\n",
       "    <tr>\n",
       "      <th>53</th>\n",
       "      <td>0.337696</td>\n",
       "      <td>56.0</td>\n",
       "      <td>246.0</td>\n",
       "    </tr>\n",
       "  </tbody>\n",
       "</table>\n",
       "</div>"
      ],
      "text/plain": [
       "    performance  SMA1   SMA2\n",
       "42     0.392240  49.0  237.0\n",
       "62     0.382571  63.0  237.0\n",
       "41     0.382238  49.0  228.0\n",
       "43     0.377160  49.0  246.0\n",
       "81     0.354273  77.0  228.0\n",
       "33     0.351055  42.0  246.0\n",
       "44     0.349235  49.0  255.0\n",
       "32     0.343515  42.0  237.0\n",
       "1      0.339940  21.0  228.0\n",
       "53     0.337696  56.0  246.0"
      ]
     },
     "execution_count": 21,
     "metadata": {},
     "output_type": "execute_result"
    }
   ],
   "source": [
    "sma1 = np.linspace(21, 84, 10).astype(int)\n",
    "sma2 = np.linspace(220, 300, 10).astype(int)\n",
    "\n",
    "optimization = pd.DataFrame(columns=['performance', 'SMA1', 'SMA2']) # we create an empty DataFrame with three columns\n",
    "\n",
    "for n1 in range(10):\n",
    "    for n2 in range(10):\n",
    "    \n",
    "        perf = SMA_Strategy(raw['EUR='], sma1[n1], sma2[n2])\n",
    "        optimization = optimization.append({'performance':perf, 'SMA1':sma1[n1], 'SMA2': sma2[n2]}, ignore_index=True) \n",
    "        #notice that to pass one line at a time we need to structure it as a dictionary using the names of the columns\n",
    "        #as keys\n",
    "\n",
    "optimization.sort_values(by='performance', ascending=False).head(10) #here we can sort and show the Top-10"
   ]
  },
  {
   "cell_type": "markdown",
   "id": "organic-david",
   "metadata": {},
   "source": [
    "We now see that `[49/237]` is the winning combination. Of course we could use more values and do a more granular search, but that is not our objective now. The key idea here, is that once we have encapsulated the model in a single-line fuction we can use it more easily for a variety of purposes."
   ]
  },
  {
   "cell_type": "markdown",
   "id": "aquatic-identifier",
   "metadata": {},
   "source": [
    "___\n",
    "## Exercise 6.02\n",
    "Now that you know that your momentum function works, let's put it into production by **creating a momentum function** and testing **different values** of the momentum parameter."
   ]
  },
  {
   "cell_type": "code",
   "execution_count": null,
   "id": "polished-cooperation",
   "metadata": {},
   "outputs": [],
   "source": []
  },
  {
   "cell_type": "markdown",
   "id": "excessive-brooklyn",
   "metadata": {},
   "source": [
    "Now find the optimal momentum parameter by testing your functions on different \"signals\" defined as the past returns over the previous $n$ days with $n$ going from 1 to 10."
   ]
  },
  {
   "cell_type": "code",
   "execution_count": null,
   "id": "c3cf2203-fc1e-45fb-b0d6-adba03d6c1df",
   "metadata": {},
   "outputs": [],
   "source": []
  }
 ],
 "metadata": {
  "kernelspec": {
   "display_name": "Python 3",
   "language": "python",
   "name": "python3"
  },
  "language_info": {
   "codemirror_mode": {
    "name": "ipython",
    "version": 3
   },
   "file_extension": ".py",
   "mimetype": "text/x-python",
   "name": "python",
   "nbconvert_exporter": "python",
   "pygments_lexer": "ipython3",
   "version": "3.8.8"
  }
 },
 "nbformat": 4,
 "nbformat_minor": 5
}
