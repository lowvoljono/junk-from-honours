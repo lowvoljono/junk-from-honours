{
 "cells": [
  {
   "cell_type": "code",
   "execution_count": 1,
   "id": "early-olympus",
   "metadata": {},
   "outputs": [],
   "source": [
    "import numpy as np\n",
    "import pandas as pd\n",
    "import apmodule as ap #Notice the new import of our subject module\n",
    "import matplotlib.pyplot as plt\n",
    "plt.style.use('seaborn')\n",
    "%matplotlib inline"
   ]
  },
  {
   "cell_type": "markdown",
   "id": "attached-jimmy",
   "metadata": {},
   "source": [
    "## 1. Load the Data\n",
    "As usual we start by loading the returns data and the data on the signals we want to test. Since we want to build a multifactor model, let's load three signals:\n",
    "* Gross Profitability Ratio (GP)\n",
    "* E/P Ratio (EPQ)\n",
    "* 12 Months Momentum (MOM12)\n",
    "\n",
    "The idea would be to build a multifactor Moment/Value/Profitability model"
   ]
  },
  {
   "cell_type": "code",
   "execution_count": 2,
   "id": "complex-while",
   "metadata": {},
   "outputs": [],
   "source": [
    "# we load the returns\n",
    "returns = pd.read_csv('Returns.zip', parse_dates=['date']).set_index(['id', 'date'])\n",
    "\n",
    "# we load the market capitalization\n",
    "market_cap = pd.read_csv('Market_cap.zip', parse_dates=['date']).set_index(['id', 'date'])\n",
    "\n",
    "# we load the three factors\n",
    "gp = pd.read_csv('GP.zip', parse_dates=['date']).set_index(['id', 'date'])\n",
    "mom12 = pd.read_csv('MOM12.zip', parse_dates=['date']).set_index(['id', 'date'])\n",
    "epq = pd.read_csv('EPQ.zip', parse_dates=['date']).set_index(['id', 'date'])"
   ]
  },
  {
   "cell_type": "markdown",
   "id": "minimal-philip",
   "metadata": {},
   "source": [
    "We can calculate the future returns by shifting the monthly returns by one observation."
   ]
  },
  {
   "cell_type": "code",
   "execution_count": 3,
   "id": "endangered-morning",
   "metadata": {},
   "outputs": [
    {
     "data": {
      "text/plain": [
       "id     date      \n",
       "10000  1986-01-31   -0.297252\n",
       "       1986-02-28    0.311436\n",
       "       1986-03-31   -0.103797\n",
       "       1986-04-30   -0.251873\n",
       "       1986-05-30   -0.005038\n",
       "Name: fut_returns, dtype: float64"
      ]
     },
     "execution_count": 3,
     "metadata": {},
     "output_type": "execute_result"
    }
   ],
   "source": [
    "fut_returns= returns.groupby('id')['return'].shift(-1).rename('fut_returns')\n",
    "fut_returns.head()"
   ]
  },
  {
   "cell_type": "markdown",
   "id": "blessed-literature",
   "metadata": {},
   "source": [
    "Let's now create a DataFrame by joining all the elements."
   ]
  },
  {
   "cell_type": "code",
   "execution_count": 4,
   "id": "adult-kernel",
   "metadata": {},
   "outputs": [
    {
     "data": {
      "text/html": [
       "<div>\n",
       "<style scoped>\n",
       "    .dataframe tbody tr th:only-of-type {\n",
       "        vertical-align: middle;\n",
       "    }\n",
       "\n",
       "    .dataframe tbody tr th {\n",
       "        vertical-align: top;\n",
       "    }\n",
       "\n",
       "    .dataframe thead th {\n",
       "        text-align: right;\n",
       "    }\n",
       "</style>\n",
       "<table border=\"1\" class=\"dataframe\">\n",
       "  <thead>\n",
       "    <tr style=\"text-align: right;\">\n",
       "      <th></th>\n",
       "      <th></th>\n",
       "      <th>gp</th>\n",
       "      <th>epq</th>\n",
       "      <th>mom12</th>\n",
       "      <th>fut_returns</th>\n",
       "    </tr>\n",
       "    <tr>\n",
       "      <th>id</th>\n",
       "      <th>date</th>\n",
       "      <th></th>\n",
       "      <th></th>\n",
       "      <th></th>\n",
       "      <th></th>\n",
       "    </tr>\n",
       "  </thead>\n",
       "  <tbody>\n",
       "    <tr>\n",
       "      <th rowspan=\"5\" valign=\"top\">10001</th>\n",
       "      <th>1987-02-27</th>\n",
       "      <td>-0.719739</td>\n",
       "      <td>0.418686</td>\n",
       "      <td>0.072900</td>\n",
       "      <td>0.036139</td>\n",
       "    </tr>\n",
       "    <tr>\n",
       "      <th>1987-03-31</th>\n",
       "      <td>-0.692694</td>\n",
       "      <td>0.410622</td>\n",
       "      <td>-0.243971</td>\n",
       "      <td>-0.040005</td>\n",
       "    </tr>\n",
       "    <tr>\n",
       "      <th>1987-04-30</th>\n",
       "      <td>-0.691655</td>\n",
       "      <td>0.423818</td>\n",
       "      <td>-0.118392</td>\n",
       "      <td>-0.074108</td>\n",
       "    </tr>\n",
       "    <tr>\n",
       "      <th>1987-05-29</th>\n",
       "      <td>-0.402479</td>\n",
       "      <td>1.025261</td>\n",
       "      <td>-0.146535</td>\n",
       "      <td>0.050150</td>\n",
       "    </tr>\n",
       "    <tr>\n",
       "      <th>1987-06-30</th>\n",
       "      <td>-0.433225</td>\n",
       "      <td>0.968983</td>\n",
       "      <td>-0.232286</td>\n",
       "      <td>0.021053</td>\n",
       "    </tr>\n",
       "  </tbody>\n",
       "</table>\n",
       "</div>"
      ],
      "text/plain": [
       "                        gp       epq     mom12  fut_returns\n",
       "id    date                                                 \n",
       "10001 1987-02-27 -0.719739  0.418686  0.072900     0.036139\n",
       "      1987-03-31 -0.692694  0.410622 -0.243971    -0.040005\n",
       "      1987-04-30 -0.691655  0.423818 -0.118392    -0.074108\n",
       "      1987-05-29 -0.402479  1.025261 -0.146535     0.050150\n",
       "      1987-06-30 -0.433225  0.968983 -0.232286     0.021053"
      ]
     },
     "execution_count": 4,
     "metadata": {},
     "output_type": "execute_result"
    }
   ],
   "source": [
    "db = gp.join(epq)\n",
    "db = db.join(mom12)\n",
    "db = db.join(fut_returns)\n",
    "db.dropna(inplace=True)\n",
    "db.head()"
   ]
  },
  {
   "cell_type": "markdown",
   "id": "dress-bristol",
   "metadata": {},
   "source": [
    "There is a more coincise way to achieve this. The first command `gp.join(epq)` returns a DataFrame with its own join method, so we can simply concatenate the second command `.join(mom12)`. This, in turn, will return another DataFrame with its own join method, etc."
   ]
  },
  {
   "cell_type": "code",
   "execution_count": 5,
   "id": "juvenile-blame",
   "metadata": {},
   "outputs": [
    {
     "data": {
      "text/html": [
       "<div>\n",
       "<style scoped>\n",
       "    .dataframe tbody tr th:only-of-type {\n",
       "        vertical-align: middle;\n",
       "    }\n",
       "\n",
       "    .dataframe tbody tr th {\n",
       "        vertical-align: top;\n",
       "    }\n",
       "\n",
       "    .dataframe thead th {\n",
       "        text-align: right;\n",
       "    }\n",
       "</style>\n",
       "<table border=\"1\" class=\"dataframe\">\n",
       "  <thead>\n",
       "    <tr style=\"text-align: right;\">\n",
       "      <th></th>\n",
       "      <th></th>\n",
       "      <th>gp</th>\n",
       "      <th>epq</th>\n",
       "      <th>mom12</th>\n",
       "      <th>fut_returns</th>\n",
       "    </tr>\n",
       "    <tr>\n",
       "      <th>id</th>\n",
       "      <th>date</th>\n",
       "      <th></th>\n",
       "      <th></th>\n",
       "      <th></th>\n",
       "      <th></th>\n",
       "    </tr>\n",
       "  </thead>\n",
       "  <tbody>\n",
       "    <tr>\n",
       "      <th rowspan=\"5\" valign=\"top\">10001</th>\n",
       "      <th>1987-02-27</th>\n",
       "      <td>-0.719739</td>\n",
       "      <td>0.418686</td>\n",
       "      <td>0.072900</td>\n",
       "      <td>0.036139</td>\n",
       "    </tr>\n",
       "    <tr>\n",
       "      <th>1987-03-31</th>\n",
       "      <td>-0.692694</td>\n",
       "      <td>0.410622</td>\n",
       "      <td>-0.243971</td>\n",
       "      <td>-0.040005</td>\n",
       "    </tr>\n",
       "    <tr>\n",
       "      <th>1987-04-30</th>\n",
       "      <td>-0.691655</td>\n",
       "      <td>0.423818</td>\n",
       "      <td>-0.118392</td>\n",
       "      <td>-0.074108</td>\n",
       "    </tr>\n",
       "    <tr>\n",
       "      <th>1987-05-29</th>\n",
       "      <td>-0.402479</td>\n",
       "      <td>1.025261</td>\n",
       "      <td>-0.146535</td>\n",
       "      <td>0.050150</td>\n",
       "    </tr>\n",
       "    <tr>\n",
       "      <th>1987-06-30</th>\n",
       "      <td>-0.433225</td>\n",
       "      <td>0.968983</td>\n",
       "      <td>-0.232286</td>\n",
       "      <td>0.021053</td>\n",
       "    </tr>\n",
       "  </tbody>\n",
       "</table>\n",
       "</div>"
      ],
      "text/plain": [
       "                        gp       epq     mom12  fut_returns\n",
       "id    date                                                 \n",
       "10001 1987-02-27 -0.719739  0.418686  0.072900     0.036139\n",
       "      1987-03-31 -0.692694  0.410622 -0.243971    -0.040005\n",
       "      1987-04-30 -0.691655  0.423818 -0.118392    -0.074108\n",
       "      1987-05-29 -0.402479  1.025261 -0.146535     0.050150\n",
       "      1987-06-30 -0.433225  0.968983 -0.232286     0.021053"
      ]
     },
     "execution_count": 5,
     "metadata": {},
     "output_type": "execute_result"
    }
   ],
   "source": [
    "db = gp.join(epq).join(mom12).join(fut_returns).dropna()\n",
    "db.head()"
   ]
  },
  {
   "cell_type": "markdown",
   "id": "dynamic-uniform",
   "metadata": {},
   "source": [
    "## 2. Backtesting the Individual Factors\n",
    "Before we build our multifactor model, let's backtest our individual factors. We can easily accomplish that by using our **`ap.backtesting()`** function. To **keep this notebook agile**, we will use a short time span unaffected by any major crisis: 1990 - 1995."
   ]
  },
  {
   "cell_type": "code",
   "execution_count": 6,
   "id": "cultural-paintball",
   "metadata": {},
   "outputs": [],
   "source": [
    "First_date = '1990-01-01'\n",
    "Last_date = '1995-12-31'\n",
    "Num_shares = 1000"
   ]
  },
  {
   "cell_type": "code",
   "execution_count": 7,
   "id": "killing-contractor",
   "metadata": {},
   "outputs": [],
   "source": [
    "gp_ret, gp_turn, gp_comp, gp_perf = ap.backtesting(db['gp'], returns, market_cap, start=First_date, end=Last_date, N=Num_shares)\n",
    "epq_ret, epq_turn, epq_comp, epq_perf = ap.backtesting(db['epq'], returns, market_cap, start=First_date, end=Last_date, N=Num_shares)\n",
    "mom_ret, mom_turn, mom_comp, mom_perf = ap.backtesting(db['mom12'], returns, market_cap, start=First_date, end=Last_date, N=Num_shares)"
   ]
  },
  {
   "cell_type": "markdown",
   "id": "respiratory-speech",
   "metadata": {},
   "source": [
    "We will mainly **use data on the _Active_ performance** of each strategy. You may remember that the monthly active return of each strategy is contained in the first output of the function. For example"
   ]
  },
  {
   "cell_type": "code",
   "execution_count": 8,
   "id": "exceptional-interstate",
   "metadata": {},
   "outputs": [
    {
     "data": {
      "text/html": [
       "<div>\n",
       "<style scoped>\n",
       "    .dataframe tbody tr th:only-of-type {\n",
       "        vertical-align: middle;\n",
       "    }\n",
       "\n",
       "    .dataframe tbody tr th {\n",
       "        vertical-align: top;\n",
       "    }\n",
       "\n",
       "    .dataframe thead th {\n",
       "        text-align: right;\n",
       "    }\n",
       "</style>\n",
       "<table border=\"1\" class=\"dataframe\">\n",
       "  <thead>\n",
       "    <tr style=\"text-align: right;\">\n",
       "      <th></th>\n",
       "      <th>Portfolio</th>\n",
       "      <th>Benchmark</th>\n",
       "      <th>Active</th>\n",
       "    </tr>\n",
       "    <tr>\n",
       "      <th>date</th>\n",
       "      <th></th>\n",
       "      <th></th>\n",
       "      <th></th>\n",
       "    </tr>\n",
       "  </thead>\n",
       "  <tbody>\n",
       "    <tr>\n",
       "      <th>1990-01-31</th>\n",
       "      <td>0.013149</td>\n",
       "      <td>0.014581</td>\n",
       "      <td>-0.001432</td>\n",
       "    </tr>\n",
       "    <tr>\n",
       "      <th>1990-02-28</th>\n",
       "      <td>0.047312</td>\n",
       "      <td>0.026243</td>\n",
       "      <td>0.021069</td>\n",
       "    </tr>\n",
       "    <tr>\n",
       "      <th>1990-03-30</th>\n",
       "      <td>-0.002292</td>\n",
       "      <td>-0.027467</td>\n",
       "      <td>0.025175</td>\n",
       "    </tr>\n",
       "    <tr>\n",
       "      <th>1990-04-30</th>\n",
       "      <td>0.111289</td>\n",
       "      <td>0.086132</td>\n",
       "      <td>0.025157</td>\n",
       "    </tr>\n",
       "    <tr>\n",
       "      <th>1990-05-31</th>\n",
       "      <td>0.015255</td>\n",
       "      <td>-0.004755</td>\n",
       "      <td>0.020010</td>\n",
       "    </tr>\n",
       "  </tbody>\n",
       "</table>\n",
       "</div>"
      ],
      "text/plain": [
       "            Portfolio  Benchmark    Active\n",
       "date                                      \n",
       "1990-01-31   0.013149   0.014581 -0.001432\n",
       "1990-02-28   0.047312   0.026243  0.021069\n",
       "1990-03-30  -0.002292  -0.027467  0.025175\n",
       "1990-04-30   0.111289   0.086132  0.025157\n",
       "1990-05-31   0.015255  -0.004755  0.020010"
      ]
     },
     "execution_count": 8,
     "metadata": {},
     "output_type": "execute_result"
    }
   ],
   "source": [
    "gp_ret.head()"
   ]
  },
  {
   "cell_type": "markdown",
   "id": "opposed-thursday",
   "metadata": {},
   "source": [
    "Let's **put the active return of the three strategies in a new DataFrame**. This is easy but requires a bit of coding gymnastics because they are all called \"Active\", so we **need to change the names**..."
   ]
  },
  {
   "cell_type": "code",
   "execution_count": 9,
   "id": "specific-begin",
   "metadata": {},
   "outputs": [
    {
     "data": {
      "text/html": [
       "<div>\n",
       "<style scoped>\n",
       "    .dataframe tbody tr th:only-of-type {\n",
       "        vertical-align: middle;\n",
       "    }\n",
       "\n",
       "    .dataframe tbody tr th {\n",
       "        vertical-align: top;\n",
       "    }\n",
       "\n",
       "    .dataframe thead th {\n",
       "        text-align: right;\n",
       "    }\n",
       "</style>\n",
       "<table border=\"1\" class=\"dataframe\">\n",
       "  <thead>\n",
       "    <tr style=\"text-align: right;\">\n",
       "      <th></th>\n",
       "      <th>gp</th>\n",
       "      <th>epq</th>\n",
       "      <th>mom12</th>\n",
       "    </tr>\n",
       "    <tr>\n",
       "      <th>date</th>\n",
       "      <th></th>\n",
       "      <th></th>\n",
       "      <th></th>\n",
       "    </tr>\n",
       "  </thead>\n",
       "  <tbody>\n",
       "    <tr>\n",
       "      <th>1990-01-31</th>\n",
       "      <td>-0.001432</td>\n",
       "      <td>0.001522</td>\n",
       "      <td>-0.002134</td>\n",
       "    </tr>\n",
       "    <tr>\n",
       "      <th>1990-02-28</th>\n",
       "      <td>0.021069</td>\n",
       "      <td>0.000111</td>\n",
       "      <td>0.005588</td>\n",
       "    </tr>\n",
       "    <tr>\n",
       "      <th>1990-03-30</th>\n",
       "      <td>0.025175</td>\n",
       "      <td>-0.010744</td>\n",
       "      <td>0.004344</td>\n",
       "    </tr>\n",
       "    <tr>\n",
       "      <th>1990-04-30</th>\n",
       "      <td>0.025157</td>\n",
       "      <td>0.000319</td>\n",
       "      <td>0.006114</td>\n",
       "    </tr>\n",
       "    <tr>\n",
       "      <th>1990-05-31</th>\n",
       "      <td>0.020010</td>\n",
       "      <td>-0.001913</td>\n",
       "      <td>0.008413</td>\n",
       "    </tr>\n",
       "  </tbody>\n",
       "</table>\n",
       "</div>"
      ],
      "text/plain": [
       "                  gp       epq     mom12\n",
       "date                                    \n",
       "1990-01-31 -0.001432  0.001522 -0.002134\n",
       "1990-02-28  0.021069  0.000111  0.005588\n",
       "1990-03-30  0.025175 -0.010744  0.004344\n",
       "1990-04-30  0.025157  0.000319  0.006114\n",
       "1990-05-31  0.020010 -0.001913  0.008413"
      ]
     },
     "execution_count": 9,
     "metadata": {},
     "output_type": "execute_result"
    }
   ],
   "source": [
    "active = gp_ret['Active'].rename('gp').to_frame().join(epq_ret['Active'].rename('epq')).join(mom_ret['Active'].rename('mom12'))\n",
    "active.head()"
   ]
  },
  {
   "cell_type": "markdown",
   "id": "hidden-region",
   "metadata": {},
   "source": [
    "We could also **extract the performance measures** from the fourth output of each strategy, but it's much faster to simply **recalculate them** using our **`ap.diagnostics()`** function."
   ]
  },
  {
   "cell_type": "code",
   "execution_count": 10,
   "id": "intense-income",
   "metadata": {},
   "outputs": [
    {
     "data": {
      "text/html": [
       "<div>\n",
       "<style scoped>\n",
       "    .dataframe tbody tr th:only-of-type {\n",
       "        vertical-align: middle;\n",
       "    }\n",
       "\n",
       "    .dataframe tbody tr th {\n",
       "        vertical-align: top;\n",
       "    }\n",
       "\n",
       "    .dataframe thead th {\n",
       "        text-align: right;\n",
       "    }\n",
       "</style>\n",
       "<table border=\"1\" class=\"dataframe\">\n",
       "  <thead>\n",
       "    <tr style=\"text-align: right;\">\n",
       "      <th></th>\n",
       "      <th>gp</th>\n",
       "      <th>epq</th>\n",
       "      <th>mom12</th>\n",
       "    </tr>\n",
       "  </thead>\n",
       "  <tbody>\n",
       "    <tr>\n",
       "      <th>Mean Return</th>\n",
       "      <td>0.035623</td>\n",
       "      <td>0.024389</td>\n",
       "      <td>0.023291</td>\n",
       "    </tr>\n",
       "    <tr>\n",
       "      <th>St. Dev.</th>\n",
       "      <td>0.057629</td>\n",
       "      <td>0.036418</td>\n",
       "      <td>0.053694</td>\n",
       "    </tr>\n",
       "    <tr>\n",
       "      <th>RR Ratio</th>\n",
       "      <td>0.618156</td>\n",
       "      <td>0.669698</td>\n",
       "      <td>0.433779</td>\n",
       "    </tr>\n",
       "    <tr>\n",
       "      <th>% Positive</th>\n",
       "      <td>0.541667</td>\n",
       "      <td>0.680556</td>\n",
       "      <td>0.611111</td>\n",
       "    </tr>\n",
       "    <tr>\n",
       "      <th>Worst Month</th>\n",
       "      <td>-0.040598</td>\n",
       "      <td>-0.036657</td>\n",
       "      <td>-0.049667</td>\n",
       "    </tr>\n",
       "    <tr>\n",
       "      <th>Best Month</th>\n",
       "      <td>0.035610</td>\n",
       "      <td>0.021381</td>\n",
       "      <td>0.040481</td>\n",
       "    </tr>\n",
       "    <tr>\n",
       "      <th>Max DrawDown</th>\n",
       "      <td>-0.155854</td>\n",
       "      <td>-0.045930</td>\n",
       "      <td>-0.103113</td>\n",
       "    </tr>\n",
       "  </tbody>\n",
       "</table>\n",
       "</div>"
      ],
      "text/plain": [
       "                    gp       epq     mom12\n",
       "Mean Return   0.035623  0.024389  0.023291\n",
       "St. Dev.      0.057629  0.036418  0.053694\n",
       "RR Ratio      0.618156  0.669698  0.433779\n",
       "% Positive    0.541667  0.680556  0.611111\n",
       "Worst Month  -0.040598 -0.036657 -0.049667\n",
       "Best Month    0.035610  0.021381  0.040481\n",
       "Max DrawDown -0.155854 -0.045930 -0.103113"
      ]
     },
     "execution_count": 10,
     "metadata": {},
     "output_type": "execute_result"
    }
   ],
   "source": [
    "performance = ap.diagnostics(active)\n",
    "performance"
   ]
  },
  {
   "cell_type": "markdown",
   "id": "coated-southwest",
   "metadata": {},
   "source": [
    "We can also **plot the portfolio value**. Remember that since our returns are logarithmic the value in time $T$ of 1 unit of wealth invested in time 0 is:\n",
    "\n",
    "$$ P_{T} = \\$1\\times e^{r_{0,T}}$$\n",
    "\n",
    "And the return of the asset from 0 to $T$, $r_{0,T}$, is:\n",
    "\n",
    "$$ r_{0,T} = \\sum_{t=0}^{T} r_{t} $$\n",
    "\n",
    "So we can simply use [**`DataFrame.cumsum()`**](https://pandas.pydata.org/docs/reference/api/pandas.DataFrame.cumsum.html) to calculate the cumulative sum of the monthly returns and then apply the Numpy exponential function."
   ]
  },
  {
   "cell_type": "code",
   "execution_count": 11,
   "id": "infectious-advisory",
   "metadata": {},
   "outputs": [
    {
     "data": {
      "text/plain": [
       "<AxesSubplot:title={'center':'Active Portfolio Performance'}, xlabel='date', ylabel='Portfolio Value'>"
      ]
     },
     "execution_count": 11,
     "metadata": {},
     "output_type": "execute_result"
    },
    {
     "data": {
      "image/png": "[encoded data removed]",
      "text/plain": [
       "<Figure size 720x432 with 1 Axes>"
      ]
     },
     "metadata": {
      "needs_background": "light"
     },
     "output_type": "display_data"
    }
   ],
   "source": [
    "active.cumsum().apply(np.exp).plot(figsize=(10,6), \n",
    "                                   title = 'Active Portfolio Performance', \n",
    "                                   ylabel='Portfolio Value')"
   ]
  },
  {
   "cell_type": "markdown",
   "id": "pharmaceutical-stone",
   "metadata": {},
   "source": [
    "Here are some takeaways from this analysis:\n",
    "1. The Profitability strategy (GP) outperforms the other two on a return basis.\n",
    "1. The Value strategy (EPQ) outperforms on a risk-adjusted basis.\n",
    "1. The Momentum Strategy (MOM12) performs better than the other two in specific periods of time such as 1993 - 1994.\n",
    "\n",
    "At this point, a possible way forward would be to simply focus on the \"best\" factor. We know from theory that there are benefits in **combining multiple information signals**. For example we know that value tends to perfom poorly in certain market conditions, so diversifying our portfolio seems the right thing to do. A first possibility would be to calculate the aggregate score by averaging the three information signals, giving the same importance to factors even if they seem to have **different predictive power**. A second possibility is to use the different predictive power to find the **optimal combination** of factors."
   ]
  },
  {
   "cell_type": "markdown",
   "id": "martial-spotlight",
   "metadata": {},
   "source": [
    "## 3. Simple Aggregation\n",
    "This method averages the different information signals. It's application is trivially simple. First of all we **calculate the average information signal**:"
   ]
  },
  {
   "cell_type": "code",
   "execution_count": 12,
   "id": "underlying-satisfaction",
   "metadata": {},
   "outputs": [
    {
     "data": {
      "text/html": [
       "<div>\n",
       "<style scoped>\n",
       "    .dataframe tbody tr th:only-of-type {\n",
       "        vertical-align: middle;\n",
       "    }\n",
       "\n",
       "    .dataframe tbody tr th {\n",
       "        vertical-align: top;\n",
       "    }\n",
       "\n",
       "    .dataframe thead th {\n",
       "        text-align: right;\n",
       "    }\n",
       "</style>\n",
       "<table border=\"1\" class=\"dataframe\">\n",
       "  <thead>\n",
       "    <tr style=\"text-align: right;\">\n",
       "      <th></th>\n",
       "      <th></th>\n",
       "      <th>gp</th>\n",
       "      <th>epq</th>\n",
       "      <th>mom12</th>\n",
       "      <th>fut_returns</th>\n",
       "      <th>agg_model</th>\n",
       "    </tr>\n",
       "    <tr>\n",
       "      <th>id</th>\n",
       "      <th>date</th>\n",
       "      <th></th>\n",
       "      <th></th>\n",
       "      <th></th>\n",
       "      <th></th>\n",
       "      <th></th>\n",
       "    </tr>\n",
       "  </thead>\n",
       "  <tbody>\n",
       "    <tr>\n",
       "      <th rowspan=\"5\" valign=\"top\">10001</th>\n",
       "      <th>1987-02-27</th>\n",
       "      <td>-0.719739</td>\n",
       "      <td>0.418686</td>\n",
       "      <td>0.072900</td>\n",
       "      <td>0.036139</td>\n",
       "      <td>-0.076051</td>\n",
       "    </tr>\n",
       "    <tr>\n",
       "      <th>1987-03-31</th>\n",
       "      <td>-0.692694</td>\n",
       "      <td>0.410622</td>\n",
       "      <td>-0.243971</td>\n",
       "      <td>-0.040005</td>\n",
       "      <td>-0.175348</td>\n",
       "    </tr>\n",
       "    <tr>\n",
       "      <th>1987-04-30</th>\n",
       "      <td>-0.691655</td>\n",
       "      <td>0.423818</td>\n",
       "      <td>-0.118392</td>\n",
       "      <td>-0.074108</td>\n",
       "      <td>-0.128743</td>\n",
       "    </tr>\n",
       "    <tr>\n",
       "      <th>1987-05-29</th>\n",
       "      <td>-0.402479</td>\n",
       "      <td>1.025261</td>\n",
       "      <td>-0.146535</td>\n",
       "      <td>0.050150</td>\n",
       "      <td>0.158749</td>\n",
       "    </tr>\n",
       "    <tr>\n",
       "      <th>1987-06-30</th>\n",
       "      <td>-0.433225</td>\n",
       "      <td>0.968983</td>\n",
       "      <td>-0.232286</td>\n",
       "      <td>0.021053</td>\n",
       "      <td>0.101158</td>\n",
       "    </tr>\n",
       "  </tbody>\n",
       "</table>\n",
       "</div>"
      ],
      "text/plain": [
       "                        gp       epq     mom12  fut_returns  agg_model\n",
       "id    date                                                            \n",
       "10001 1987-02-27 -0.719739  0.418686  0.072900     0.036139  -0.076051\n",
       "      1987-03-31 -0.692694  0.410622 -0.243971    -0.040005  -0.175348\n",
       "      1987-04-30 -0.691655  0.423818 -0.118392    -0.074108  -0.128743\n",
       "      1987-05-29 -0.402479  1.025261 -0.146535     0.050150   0.158749\n",
       "      1987-06-30 -0.433225  0.968983 -0.232286     0.021053   0.101158"
      ]
     },
     "execution_count": 12,
     "metadata": {},
     "output_type": "execute_result"
    }
   ],
   "source": [
    "db['agg_model'] = (1/3)*db['gp'] + (1/3)*db['epq'] + (1/3)*db['mom12']\n",
    "db.head()"
   ]
  },
  {
   "cell_type": "markdown",
   "id": "broadband-filing",
   "metadata": {},
   "source": [
    "If we want to be less pedestrian, and at least show _some_ coding skills we can get the same result by using the [**`DataFrame.mean()`**](https://pandas.pydata.org/docs/reference/api/pandas.DataFrame.mean.html) with the `axis=1` parameter. This indicate means of columns and not of rows (`axis=0`)."
   ]
  },
  {
   "cell_type": "code",
   "execution_count": 13,
   "id": "sharp-regular",
   "metadata": {},
   "outputs": [
    {
     "data": {
      "text/html": [
       "<div>\n",
       "<style scoped>\n",
       "    .dataframe tbody tr th:only-of-type {\n",
       "        vertical-align: middle;\n",
       "    }\n",
       "\n",
       "    .dataframe tbody tr th {\n",
       "        vertical-align: top;\n",
       "    }\n",
       "\n",
       "    .dataframe thead th {\n",
       "        text-align: right;\n",
       "    }\n",
       "</style>\n",
       "<table border=\"1\" class=\"dataframe\">\n",
       "  <thead>\n",
       "    <tr style=\"text-align: right;\">\n",
       "      <th></th>\n",
       "      <th></th>\n",
       "      <th>gp</th>\n",
       "      <th>epq</th>\n",
       "      <th>mom12</th>\n",
       "      <th>fut_returns</th>\n",
       "      <th>agg_model</th>\n",
       "      <th>agg_model2</th>\n",
       "    </tr>\n",
       "    <tr>\n",
       "      <th>id</th>\n",
       "      <th>date</th>\n",
       "      <th></th>\n",
       "      <th></th>\n",
       "      <th></th>\n",
       "      <th></th>\n",
       "      <th></th>\n",
       "      <th></th>\n",
       "    </tr>\n",
       "  </thead>\n",
       "  <tbody>\n",
       "    <tr>\n",
       "      <th rowspan=\"5\" valign=\"top\">10001</th>\n",
       "      <th>1987-02-27</th>\n",
       "      <td>-0.719739</td>\n",
       "      <td>0.418686</td>\n",
       "      <td>0.072900</td>\n",
       "      <td>0.036139</td>\n",
       "      <td>-0.076051</td>\n",
       "      <td>-0.076051</td>\n",
       "    </tr>\n",
       "    <tr>\n",
       "      <th>1987-03-31</th>\n",
       "      <td>-0.692694</td>\n",
       "      <td>0.410622</td>\n",
       "      <td>-0.243971</td>\n",
       "      <td>-0.040005</td>\n",
       "      <td>-0.175348</td>\n",
       "      <td>-0.175348</td>\n",
       "    </tr>\n",
       "    <tr>\n",
       "      <th>1987-04-30</th>\n",
       "      <td>-0.691655</td>\n",
       "      <td>0.423818</td>\n",
       "      <td>-0.118392</td>\n",
       "      <td>-0.074108</td>\n",
       "      <td>-0.128743</td>\n",
       "      <td>-0.128743</td>\n",
       "    </tr>\n",
       "    <tr>\n",
       "      <th>1987-05-29</th>\n",
       "      <td>-0.402479</td>\n",
       "      <td>1.025261</td>\n",
       "      <td>-0.146535</td>\n",
       "      <td>0.050150</td>\n",
       "      <td>0.158749</td>\n",
       "      <td>0.158749</td>\n",
       "    </tr>\n",
       "    <tr>\n",
       "      <th>1987-06-30</th>\n",
       "      <td>-0.433225</td>\n",
       "      <td>0.968983</td>\n",
       "      <td>-0.232286</td>\n",
       "      <td>0.021053</td>\n",
       "      <td>0.101158</td>\n",
       "      <td>0.101158</td>\n",
       "    </tr>\n",
       "  </tbody>\n",
       "</table>\n",
       "</div>"
      ],
      "text/plain": [
       "                        gp       epq     mom12  fut_returns  agg_model  \\\n",
       "id    date                                                               \n",
       "10001 1987-02-27 -0.719739  0.418686  0.072900     0.036139  -0.076051   \n",
       "      1987-03-31 -0.692694  0.410622 -0.243971    -0.040005  -0.175348   \n",
       "      1987-04-30 -0.691655  0.423818 -0.118392    -0.074108  -0.128743   \n",
       "      1987-05-29 -0.402479  1.025261 -0.146535     0.050150   0.158749   \n",
       "      1987-06-30 -0.433225  0.968983 -0.232286     0.021053   0.101158   \n",
       "\n",
       "                  agg_model2  \n",
       "id    date                    \n",
       "10001 1987-02-27   -0.076051  \n",
       "      1987-03-31   -0.175348  \n",
       "      1987-04-30   -0.128743  \n",
       "      1987-05-29    0.158749  \n",
       "      1987-06-30    0.101158  "
      ]
     },
     "execution_count": 13,
     "metadata": {},
     "output_type": "execute_result"
    }
   ],
   "source": [
    "db['agg_model2'] = db[['gp', 'epq', 'mom12']].mean(axis=1)\n",
    "db.head()"
   ]
  },
  {
   "cell_type": "markdown",
   "id": "breathing-salvation",
   "metadata": {},
   "source": [
    "Let's now backtest this `new information signal` and see **how it performs compared to the others**:"
   ]
  },
  {
   "cell_type": "code",
   "execution_count": 14,
   "id": "overhead-meter",
   "metadata": {},
   "outputs": [
    {
     "data": {
      "text/html": [
       "<div>\n",
       "<style scoped>\n",
       "    .dataframe tbody tr th:only-of-type {\n",
       "        vertical-align: middle;\n",
       "    }\n",
       "\n",
       "    .dataframe tbody tr th {\n",
       "        vertical-align: top;\n",
       "    }\n",
       "\n",
       "    .dataframe thead th {\n",
       "        text-align: right;\n",
       "    }\n",
       "</style>\n",
       "<table border=\"1\" class=\"dataframe\">\n",
       "  <thead>\n",
       "    <tr style=\"text-align: right;\">\n",
       "      <th></th>\n",
       "      <th>gp</th>\n",
       "      <th>epq</th>\n",
       "      <th>mom12</th>\n",
       "      <th>agg_model</th>\n",
       "    </tr>\n",
       "  </thead>\n",
       "  <tbody>\n",
       "    <tr>\n",
       "      <th>Mean Return</th>\n",
       "      <td>0.035623</td>\n",
       "      <td>0.024389</td>\n",
       "      <td>0.023291</td>\n",
       "      <td>0.038477</td>\n",
       "    </tr>\n",
       "    <tr>\n",
       "      <th>St. Dev.</th>\n",
       "      <td>0.057629</td>\n",
       "      <td>0.036418</td>\n",
       "      <td>0.053694</td>\n",
       "      <td>0.058656</td>\n",
       "    </tr>\n",
       "    <tr>\n",
       "      <th>RR Ratio</th>\n",
       "      <td>0.618156</td>\n",
       "      <td>0.669698</td>\n",
       "      <td>0.433779</td>\n",
       "      <td>0.655983</td>\n",
       "    </tr>\n",
       "    <tr>\n",
       "      <th>% Positive</th>\n",
       "      <td>0.541667</td>\n",
       "      <td>0.680556</td>\n",
       "      <td>0.611111</td>\n",
       "      <td>0.569444</td>\n",
       "    </tr>\n",
       "    <tr>\n",
       "      <th>Worst Month</th>\n",
       "      <td>-0.040598</td>\n",
       "      <td>-0.036657</td>\n",
       "      <td>-0.049667</td>\n",
       "      <td>-0.040733</td>\n",
       "    </tr>\n",
       "    <tr>\n",
       "      <th>Best Month</th>\n",
       "      <td>0.035610</td>\n",
       "      <td>0.021381</td>\n",
       "      <td>0.040481</td>\n",
       "      <td>0.049019</td>\n",
       "    </tr>\n",
       "    <tr>\n",
       "      <th>Max DrawDown</th>\n",
       "      <td>-0.155854</td>\n",
       "      <td>-0.045930</td>\n",
       "      <td>-0.103113</td>\n",
       "      <td>-0.091681</td>\n",
       "    </tr>\n",
       "  </tbody>\n",
       "</table>\n",
       "</div>"
      ],
      "text/plain": [
       "                    gp       epq     mom12  agg_model\n",
       "Mean Return   0.035623  0.024389  0.023291   0.038477\n",
       "St. Dev.      0.057629  0.036418  0.053694   0.058656\n",
       "RR Ratio      0.618156  0.669698  0.433779   0.655983\n",
       "% Positive    0.541667  0.680556  0.611111   0.569444\n",
       "Worst Month  -0.040598 -0.036657 -0.049667  -0.040733\n",
       "Best Month    0.035610  0.021381  0.040481   0.049019\n",
       "Max DrawDown -0.155854 -0.045930 -0.103113  -0.091681"
      ]
     },
     "execution_count": 14,
     "metadata": {},
     "output_type": "execute_result"
    }
   ],
   "source": [
    "agg_ret, agg_turn, agg_comp, agg_perf = ap.backtesting(db['agg_model'], returns, market_cap, start=First_date, end=Last_date, N=Num_shares)\n",
    "active = active.join(agg_ret['Active'].rename('agg_model'))\n",
    "performance = ap.diagnostics(active)\n",
    "performance"
   ]
  },
  {
   "cell_type": "code",
   "execution_count": 15,
   "id": "organic-impact",
   "metadata": {},
   "outputs": [
    {
     "data": {
      "text/plain": [
       "<AxesSubplot:title={'center':'Active Portfolio Performance'}, xlabel='date', ylabel='Portfolio Value'>"
      ]
     },
     "execution_count": 15,
     "metadata": {},
     "output_type": "execute_result"
    },
    {
     "data": {
      "image/png": "[encoded data removed]",
      "text/plain": [
       "<Figure size 720x432 with 1 Axes>"
      ]
     },
     "metadata": {
      "needs_background": "light"
     },
     "output_type": "display_data"
    }
   ],
   "source": [
    "active.cumsum().apply(np.exp).plot(figsize=(10,6), \n",
    "                                   title = 'Active Portfolio Performance', \n",
    "                                   ylabel='Portfolio Value')"
   ]
  },
  {
   "cell_type": "markdown",
   "id": "promotional-headquarters",
   "metadata": {},
   "source": [
    "Here we see that **the \"average\" factor outperforms** the three \"single-factor\" strategies both on a return and risk-adjusted basis. **This is not always the case**, but here there is a clear benefit due to the strong underperformance of the \"overall best\" factor in specific periods of time."
   ]
  },
  {
   "cell_type": "markdown",
   "id": "scenic-cause",
   "metadata": {},
   "source": [
    "## 4. Optimal Non-Linear Combination\n",
    "#### AKA Two-steps Mean Variance Approach (MVA)\n",
    "#### AKA Max IR process\n",
    "\n",
    "The simple aggregation framework is **intuitive and easy to explain**, and this is the reason why it is chosen by many investment companies. The main drawback is that we may have situations where one of the factors has a much stronger predictive power than the others. In that case, combining all the signals with the same weight seems wasteful\n",
    "\n",
    "A way to remedy this is to apply a 2-steps process where, after performing the backtesting of the individual factors we **use the performance of the portfolios** to find the optimal combination of factors. The process involves:\n",
    "1. Step 1: Backtest the Individual Factors, take their active return and calculate the mean and the covariance matrix\n",
    "1. Step 2: Use the Mean active return of each factor and the cov matrix in a Markowitz Mean-Variance Optimization\n",
    "\n",
    "From the MV optimization we can take the weights of the portfolio with highest Sharpe Ratio (since we are using active returns this is actually the **highest Information Ratio**) and **apply these weights to the information signals**.\n",
    "\n",
    "Weirdly enough Python does not have a main Mean-Variance optimization library. There are a number of possible candidates such as [pyportfolioopt](https://pyportfolioopt.readthedocs.io/en/latest/). To avoid having to use modules that are not in standard Anaconda distribution here we will code our own portfolio optimization function following this [very clear example](https://towardsdatascience.com/efficient-frontier-portfolio-optimisation-in-python-e7844051e7f).\n",
    "\n",
    "As usual we will examine the construction of the function for learning purposes but then we will include it into our `apmodule` and you wil be able to use it from there.\n",
    "___\n",
    "### 4.1 Home-made portfolio optimization\n",
    "A good place to find all the common optimization functionalities (to find the min or the max of a function, etc.) is the [optimize](https://docs.scipy.org/doc/scipy/reference/optimize.html)  submodule of [scipy](https://docs.scipy.org/doc/scipy/index.html). So we can start by importing it:"
   ]
  },
  {
   "cell_type": "code",
   "execution_count": 16,
   "id": "heated-imaging",
   "metadata": {},
   "outputs": [],
   "source": [
    "import scipy.optimize as sco"
   ]
  },
  {
   "attachments": {
    "90ef2728-d22d-4ad8-a690-edcdacc2a973.png": {
     "image/png": "[encoded data removed]"
    }
   },
   "cell_type": "markdown",
   "id": "everyday-intensity",
   "metadata": {},
   "source": [
    "Let's first refresh our memory on the mathematics of portfolio optimization. We want to find the portfolio composition, the vector of weights $w^{*}$, that maximizes the Sharpe ratio of the portfolio. \n",
    "\n",
    "![Frontier.png](attachment:90ef2728-d22d-4ad8-a690-edcdacc2a973.png)\n",
    "\n",
    "From our studies we know that the Sharpe Ratio ($S$) can be written as:\n",
    "\n",
    "$$S = \\frac{\\bar{r_{p}} - r_{f}}{\\sigma_{p}}$$\n",
    "\n",
    "We also know that portfolio mean return and standard deviation are a function of:\n",
    "* The vector of weights $w$\n",
    "* The vector of the mean returns of each asset $\\mu$\n",
    "* The variance-covariance matrix $\\Sigma$\n",
    "\n",
    "So we can rewrite portfolio risk and return and the Sharpe ratio as:\n",
    "\n",
    "$$\\bar{r_{p}} = w^{T}\\mu $$\n",
    "\n",
    "$$\\sigma_{p} = \\sqrt{w^{T} \\Sigma w}$$\n",
    "\n",
    "$$S = \\frac{w^{T}\\mu - r_{f}}{\\sqrt{w^{T} \\Sigma w}}$$\n",
    "\n",
    "Now that we have clear (more or less...) the nature of the problem we can build our function. Following the [example](https://towardsdatascience.com/efficient-frontier-portfolio-optimisation-in-python-e7844051e7f) we will break the function in three parts:\n",
    "1. The first function, `portfolio_performance`, simply **calculates portfolio risk and return** as a function of the weights vector, returns vector and var-cov matrix.\n",
    "1. The second function, `neg_sharpe_ratio`, calls the first function to calculate portfolio risk and return and then use these quantities to **calculate the Sharpe Ratio**. This gets multipled by minus 1 because **most optimizers work by \"minimizing\" functions**, to get the highest Sharpe Ratio we need to minimize $-S$.\n",
    "1. Finally the third function, `max_sharpe_ratio`, calls the optimizer to find portfolio weights that minimize the negative sharpe."
   ]
  },
  {
   "cell_type": "code",
   "execution_count": 17,
   "id": "ultimate-trouble",
   "metadata": {},
   "outputs": [],
   "source": [
    "# PART 1: Calculates portfolio risk and return as a function of the \n",
    "# weights vector, returns vector and var-cov matrix\n",
    "def portfolio_performance(weights, mean_returns, cov_matrix):\n",
    "    returns = np.dot(weights.T, mean_returns)  \n",
    "    std = np.sqrt(np.dot(weights.T, np.dot(cov_matrix, weights)))\n",
    "    return std, returns\n",
    "\n",
    "# PART 2: Calculates the sharpe ratio as a fucntion of weights vector, \n",
    "# returns vector, var-cov matrix and risk-free. \n",
    "# Notice that this function calls the previous one\n",
    "def neg_sharpe_ratio(weights, mean_returns, cov_matrix, risk_free_rate):\n",
    "    p_std, p_ret = portfolio_performance(weights, mean_returns, cov_matrix)\n",
    "    return -(p_ret - risk_free_rate) / p_std\n",
    "\n",
    "# PART 3: Performs the optimization\n",
    "def max_sharpe_ratio(mean_returns, cov_matrix, risk_free_rate):\n",
    "    \n",
    "    #Extract the number of assets from the length of the returns vector\n",
    "    num_assets = len(mean_returns)\n",
    "    \n",
    "    #Creates a tuple with the variables to be uses by the objective function\n",
    "    args = (mean_returns, cov_matrix, risk_free_rate)\n",
    "    \n",
    "    #The Constrating that the sum of the weight has to be equal to one\n",
    "    constraints = ({'type': 'eq', 'fun': lambda x: np.sum(x) - 1})\n",
    "    \n",
    "    # Individual weights between minus 100% and plus 100%. We allow for negative \n",
    "    # weights in case we have a factor that performs really poorly we may add it \n",
    "    # with negative weight\n",
    "    bound = (0.0,1.0)\n",
    "    bounds = tuple(bound for asset in range(num_assets))\n",
    "    \n",
    "    # This runs the actual minimization of the negative Sharpe\n",
    "    result = sco.minimize(neg_sharpe_ratio, num_assets*[1./num_assets,], args=args,\n",
    "                        method='SLSQP', bounds=bounds, constraints=constraints)\n",
    "    \n",
    "    # This put the results in a series\n",
    "    opt_weights = pd.Series(result['x'], index=mean_returns.index)\n",
    "    return opt_weights"
   ]
  },
  {
   "cell_type": "markdown",
   "id": "nominated-article",
   "metadata": {},
   "source": [
    "Let's now try this out by calculating the mean and var-cov matrix of our active returns:"
   ]
  },
  {
   "cell_type": "code",
   "execution_count": 18,
   "id": "celtic-recycling",
   "metadata": {},
   "outputs": [
    {
     "data": {
      "text/plain": [
       "gp       0.035623\n",
       "epq      0.024389\n",
       "mom12    0.023291\n",
       "dtype: float64"
      ]
     },
     "execution_count": 18,
     "metadata": {},
     "output_type": "execute_result"
    }
   ],
   "source": [
    "mean_returns = active[['gp', 'epq', 'mom12']].mean()*12\n",
    "mean_returns"
   ]
  },
  {
   "cell_type": "code",
   "execution_count": 19,
   "id": "valued-magazine",
   "metadata": {},
   "outputs": [
    {
     "data": {
      "text/html": [
       "<div>\n",
       "<style scoped>\n",
       "    .dataframe tbody tr th:only-of-type {\n",
       "        vertical-align: middle;\n",
       "    }\n",
       "\n",
       "    .dataframe tbody tr th {\n",
       "        vertical-align: top;\n",
       "    }\n",
       "\n",
       "    .dataframe thead th {\n",
       "        text-align: right;\n",
       "    }\n",
       "</style>\n",
       "<table border=\"1\" class=\"dataframe\">\n",
       "  <thead>\n",
       "    <tr style=\"text-align: right;\">\n",
       "      <th></th>\n",
       "      <th>gp</th>\n",
       "      <th>epq</th>\n",
       "      <th>mom12</th>\n",
       "    </tr>\n",
       "  </thead>\n",
       "  <tbody>\n",
       "    <tr>\n",
       "      <th>gp</th>\n",
       "      <td>0.003321</td>\n",
       "      <td>-0.000612</td>\n",
       "      <td>0.000880</td>\n",
       "    </tr>\n",
       "    <tr>\n",
       "      <th>epq</th>\n",
       "      <td>-0.000612</td>\n",
       "      <td>0.001326</td>\n",
       "      <td>-0.000121</td>\n",
       "    </tr>\n",
       "    <tr>\n",
       "      <th>mom12</th>\n",
       "      <td>0.000880</td>\n",
       "      <td>-0.000121</td>\n",
       "      <td>0.002883</td>\n",
       "    </tr>\n",
       "  </tbody>\n",
       "</table>\n",
       "</div>"
      ],
      "text/plain": [
       "             gp       epq     mom12\n",
       "gp     0.003321 -0.000612  0.000880\n",
       "epq   -0.000612  0.001326 -0.000121\n",
       "mom12  0.000880 -0.000121  0.002883"
      ]
     },
     "execution_count": 19,
     "metadata": {},
     "output_type": "execute_result"
    }
   ],
   "source": [
    "cov_matrix = active[['gp', 'epq', 'mom12']].cov()*12\n",
    "cov_matrix"
   ]
  },
  {
   "cell_type": "markdown",
   "id": "surface-handle",
   "metadata": {},
   "source": [
    "We can now use the function to **calculate the optimal composition**:"
   ]
  },
  {
   "cell_type": "code",
   "execution_count": 20,
   "id": "protecting-victory",
   "metadata": {},
   "outputs": [
    {
     "data": {
      "text/plain": [
       "gp       0.318561\n",
       "epq      0.572062\n",
       "mom12    0.109376\n",
       "dtype: float64"
      ]
     },
     "execution_count": 20,
     "metadata": {},
     "output_type": "execute_result"
    }
   ],
   "source": [
    "opt_weights = max_sharpe_ratio(mean_returns, cov_matrix, 0)\n",
    "opt_weights"
   ]
  },
  {
   "attachments": {
    "ce8101da-689d-4d6c-ac5a-794b8d70b0d7.png": {
     "image/png": "[encoded data removed]"
    }
   },
   "cell_type": "markdown",
   "id": "rotary-montgomery",
   "metadata": {},
   "source": [
    "Please notice that we are using active return and risk and we are assuming a risk free equal to zero. Under these conditions we are not actually maximizing the Sharpe Ratio but the Information Ratio\n",
    "\n",
    "![Active Frontier.png](attachment:ce8101da-689d-4d6c-ac5a-794b8d70b0d7.png)\n",
    "\n",
    "Now since **there is no bound to lazyness** let's create another function that combines the optimization with the calculation of mean returns and var-cov matrix:"
   ]
  },
  {
   "cell_type": "code",
   "execution_count": 21,
   "id": "impressed-seller",
   "metadata": {},
   "outputs": [],
   "source": [
    "def optimized_alpha_model(active_returns):\n",
    "    \n",
    "    #We calculate the optimization inputs\n",
    "    mean_returns = active_returns.mean()*12\n",
    "    cov_matrix = active_returns.cov()*12\n",
    "    \n",
    "    #We run the optimization\n",
    "    opt_weights = max_sharpe_ratio(mean_returns, cov_matrix, 0)\n",
    "    \n",
    "    #We return the optimal weights\n",
    "    return opt_weights"
   ]
  },
  {
   "cell_type": "markdown",
   "id": "typical-insurance",
   "metadata": {},
   "source": [
    "In this way we can take the active returns of the individual factors and directly calculate the optimal weights. All **these functions are part of the apmodule**. "
   ]
  },
  {
   "cell_type": "code",
   "execution_count": 22,
   "id": "built-regular",
   "metadata": {},
   "outputs": [
    {
     "data": {
      "text/plain": [
       "gp       0.318561\n",
       "epq      0.572062\n",
       "mom12    0.109376\n",
       "dtype: float64"
      ]
     },
     "execution_count": 22,
     "metadata": {},
     "output_type": "execute_result"
    }
   ],
   "source": [
    "opt_weights = optimized_alpha_model(active[['gp', 'epq', 'mom12']])\n",
    "opt_weights"
   ]
  },
  {
   "cell_type": "markdown",
   "id": "circular-return",
   "metadata": {},
   "source": [
    "We can now **apply these weights to the information signals** to create our multifactor signal"
   ]
  },
  {
   "cell_type": "code",
   "execution_count": 23,
   "id": "eight-proxy",
   "metadata": {},
   "outputs": [
    {
     "data": {
      "text/html": [
       "<div>\n",
       "<style scoped>\n",
       "    .dataframe tbody tr th:only-of-type {\n",
       "        vertical-align: middle;\n",
       "    }\n",
       "\n",
       "    .dataframe tbody tr th {\n",
       "        vertical-align: top;\n",
       "    }\n",
       "\n",
       "    .dataframe thead th {\n",
       "        text-align: right;\n",
       "    }\n",
       "</style>\n",
       "<table border=\"1\" class=\"dataframe\">\n",
       "  <thead>\n",
       "    <tr style=\"text-align: right;\">\n",
       "      <th></th>\n",
       "      <th></th>\n",
       "      <th>gp</th>\n",
       "      <th>epq</th>\n",
       "      <th>mom12</th>\n",
       "      <th>fut_returns</th>\n",
       "      <th>agg_model</th>\n",
       "      <th>agg_model2</th>\n",
       "      <th>mva_model</th>\n",
       "    </tr>\n",
       "    <tr>\n",
       "      <th>id</th>\n",
       "      <th>date</th>\n",
       "      <th></th>\n",
       "      <th></th>\n",
       "      <th></th>\n",
       "      <th></th>\n",
       "      <th></th>\n",
       "      <th></th>\n",
       "      <th></th>\n",
       "    </tr>\n",
       "  </thead>\n",
       "  <tbody>\n",
       "    <tr>\n",
       "      <th rowspan=\"5\" valign=\"top\">10001</th>\n",
       "      <th>1987-02-27</th>\n",
       "      <td>-0.719739</td>\n",
       "      <td>0.418686</td>\n",
       "      <td>0.072900</td>\n",
       "      <td>0.036139</td>\n",
       "      <td>-0.076051</td>\n",
       "      <td>-0.076051</td>\n",
       "      <td>0.018207</td>\n",
       "    </tr>\n",
       "    <tr>\n",
       "      <th>1987-03-31</th>\n",
       "      <td>-0.692694</td>\n",
       "      <td>0.410622</td>\n",
       "      <td>-0.243971</td>\n",
       "      <td>-0.040005</td>\n",
       "      <td>-0.175348</td>\n",
       "      <td>-0.175348</td>\n",
       "      <td>-0.012449</td>\n",
       "    </tr>\n",
       "    <tr>\n",
       "      <th>1987-04-30</th>\n",
       "      <td>-0.691655</td>\n",
       "      <td>0.423818</td>\n",
       "      <td>-0.118392</td>\n",
       "      <td>-0.074108</td>\n",
       "      <td>-0.128743</td>\n",
       "      <td>-0.128743</td>\n",
       "      <td>0.009166</td>\n",
       "    </tr>\n",
       "    <tr>\n",
       "      <th>1987-05-29</th>\n",
       "      <td>-0.402479</td>\n",
       "      <td>1.025261</td>\n",
       "      <td>-0.146535</td>\n",
       "      <td>0.050150</td>\n",
       "      <td>0.158749</td>\n",
       "      <td>0.158749</td>\n",
       "      <td>0.442271</td>\n",
       "    </tr>\n",
       "    <tr>\n",
       "      <th>1987-06-30</th>\n",
       "      <td>-0.433225</td>\n",
       "      <td>0.968983</td>\n",
       "      <td>-0.232286</td>\n",
       "      <td>0.021053</td>\n",
       "      <td>0.101158</td>\n",
       "      <td>0.101158</td>\n",
       "      <td>0.390904</td>\n",
       "    </tr>\n",
       "  </tbody>\n",
       "</table>\n",
       "</div>"
      ],
      "text/plain": [
       "                        gp       epq     mom12  fut_returns  agg_model  \\\n",
       "id    date                                                               \n",
       "10001 1987-02-27 -0.719739  0.418686  0.072900     0.036139  -0.076051   \n",
       "      1987-03-31 -0.692694  0.410622 -0.243971    -0.040005  -0.175348   \n",
       "      1987-04-30 -0.691655  0.423818 -0.118392    -0.074108  -0.128743   \n",
       "      1987-05-29 -0.402479  1.025261 -0.146535     0.050150   0.158749   \n",
       "      1987-06-30 -0.433225  0.968983 -0.232286     0.021053   0.101158   \n",
       "\n",
       "                  agg_model2  mva_model  \n",
       "id    date                               \n",
       "10001 1987-02-27   -0.076051   0.018207  \n",
       "      1987-03-31   -0.175348  -0.012449  \n",
       "      1987-04-30   -0.128743   0.009166  \n",
       "      1987-05-29    0.158749   0.442271  \n",
       "      1987-06-30    0.101158   0.390904  "
      ]
     },
     "execution_count": 23,
     "metadata": {},
     "output_type": "execute_result"
    }
   ],
   "source": [
    "db['mva_model'] = db['gp']*opt_weights['gp'] + db['epq']*opt_weights['epq'] + db['mom12']*opt_weights['mom12']\n",
    "db.head()"
   ]
  },
  {
   "cell_type": "markdown",
   "id": "mighty-think",
   "metadata": {},
   "source": [
    "And now we can backtest this new multifactor signal:"
   ]
  },
  {
   "cell_type": "code",
   "execution_count": 24,
   "id": "caring-extraction",
   "metadata": {},
   "outputs": [
    {
     "data": {
      "text/html": [
       "<div>\n",
       "<style scoped>\n",
       "    .dataframe tbody tr th:only-of-type {\n",
       "        vertical-align: middle;\n",
       "    }\n",
       "\n",
       "    .dataframe tbody tr th {\n",
       "        vertical-align: top;\n",
       "    }\n",
       "\n",
       "    .dataframe thead th {\n",
       "        text-align: right;\n",
       "    }\n",
       "</style>\n",
       "<table border=\"1\" class=\"dataframe\">\n",
       "  <thead>\n",
       "    <tr style=\"text-align: right;\">\n",
       "      <th></th>\n",
       "      <th>gp</th>\n",
       "      <th>epq</th>\n",
       "      <th>mom12</th>\n",
       "      <th>agg_model</th>\n",
       "      <th>mva_model</th>\n",
       "    </tr>\n",
       "  </thead>\n",
       "  <tbody>\n",
       "    <tr>\n",
       "      <th>Mean Return</th>\n",
       "      <td>0.035623</td>\n",
       "      <td>0.024389</td>\n",
       "      <td>0.023291</td>\n",
       "      <td>0.038477</td>\n",
       "      <td>0.042169</td>\n",
       "    </tr>\n",
       "    <tr>\n",
       "      <th>St. Dev.</th>\n",
       "      <td>0.057629</td>\n",
       "      <td>0.036418</td>\n",
       "      <td>0.053694</td>\n",
       "      <td>0.058656</td>\n",
       "      <td>0.060079</td>\n",
       "    </tr>\n",
       "    <tr>\n",
       "      <th>RR Ratio</th>\n",
       "      <td>0.618156</td>\n",
       "      <td>0.669698</td>\n",
       "      <td>0.433779</td>\n",
       "      <td>0.655983</td>\n",
       "      <td>0.701893</td>\n",
       "    </tr>\n",
       "    <tr>\n",
       "      <th>% Positive</th>\n",
       "      <td>0.541667</td>\n",
       "      <td>0.680556</td>\n",
       "      <td>0.611111</td>\n",
       "      <td>0.569444</td>\n",
       "      <td>0.541667</td>\n",
       "    </tr>\n",
       "    <tr>\n",
       "      <th>Worst Month</th>\n",
       "      <td>-0.040598</td>\n",
       "      <td>-0.036657</td>\n",
       "      <td>-0.049667</td>\n",
       "      <td>-0.040733</td>\n",
       "      <td>-0.037571</td>\n",
       "    </tr>\n",
       "    <tr>\n",
       "      <th>Best Month</th>\n",
       "      <td>0.035610</td>\n",
       "      <td>0.021381</td>\n",
       "      <td>0.040481</td>\n",
       "      <td>0.049019</td>\n",
       "      <td>0.043214</td>\n",
       "    </tr>\n",
       "    <tr>\n",
       "      <th>Max DrawDown</th>\n",
       "      <td>-0.155854</td>\n",
       "      <td>-0.045930</td>\n",
       "      <td>-0.103113</td>\n",
       "      <td>-0.091681</td>\n",
       "      <td>-0.118426</td>\n",
       "    </tr>\n",
       "  </tbody>\n",
       "</table>\n",
       "</div>"
      ],
      "text/plain": [
       "                    gp       epq     mom12  agg_model  mva_model\n",
       "Mean Return   0.035623  0.024389  0.023291   0.038477   0.042169\n",
       "St. Dev.      0.057629  0.036418  0.053694   0.058656   0.060079\n",
       "RR Ratio      0.618156  0.669698  0.433779   0.655983   0.701893\n",
       "% Positive    0.541667  0.680556  0.611111   0.569444   0.541667\n",
       "Worst Month  -0.040598 -0.036657 -0.049667  -0.040733  -0.037571\n",
       "Best Month    0.035610  0.021381  0.040481   0.049019   0.043214\n",
       "Max DrawDown -0.155854 -0.045930 -0.103113  -0.091681  -0.118426"
      ]
     },
     "execution_count": 24,
     "metadata": {},
     "output_type": "execute_result"
    }
   ],
   "source": [
    "mva_ret, mva_turn, mva_comp, mva_perf = ap.backtesting(db['mva_model'], returns, market_cap, start=First_date, end=Last_date, N=Num_shares)\n",
    "active = active.join(mva_ret['Active'].rename('mva_model'))\n",
    "performance = ap.diagnostics(active)\n",
    "performance"
   ]
  },
  {
   "cell_type": "code",
   "execution_count": 25,
   "id": "instrumental-bangkok",
   "metadata": {},
   "outputs": [
    {
     "data": {
      "text/plain": [
       "<AxesSubplot:title={'center':'Active Portfolio Performance'}, xlabel='date', ylabel='Portfolio Value'>"
      ]
     },
     "execution_count": 25,
     "metadata": {},
     "output_type": "execute_result"
    },
    {
     "data": {
      "image/png": "[encoded data removed]",
      "text/plain": [
       "<Figure size 720x432 with 1 Axes>"
      ]
     },
     "metadata": {
      "needs_background": "light"
     },
     "output_type": "display_data"
    }
   ],
   "source": [
    "active.cumsum().apply(np.exp).plot(figsize=(10,6), \n",
    "                                   title = 'Active Portfolio Performance', \n",
    "                                   ylabel='Portfolio Value')"
   ]
  },
  {
   "cell_type": "markdown",
   "id": "basic-abortion",
   "metadata": {},
   "source": [
    "As you can see the MVA model performs better than the simple aggregation. Again, **this is not always the case**, but in this case it shows that there is value in combining the factors, and even more value in **giving more importance to the best factors**."
   ]
  },
  {
   "cell_type": "markdown",
   "id": "equivalent-croatia",
   "metadata": {},
   "source": [
    "The simple model has a lower in-sample performance. This is to be expected in most cases, but is important to remember that this **may not translate in better out-of sample performance**. As we use the optimal weights in the future, the simple average may well outperform."
   ]
  },
  {
   "cell_type": "markdown",
   "id": "impressed-willow",
   "metadata": {},
   "source": [
    "### Exercise 10.01\n",
    "The possibility of building a succesful optimized alpha model **rests on the assumption** that the performance of the different information signals in the past **is indicative of their performance in the future**. In the example above we put ourselves in the shoes of a portfolio manager that in December 1995 has to build a model for the following year(s) choosing the weight of the diffetent signals based on their performance in the 1990 - 1995 period. The model invests heavily in the value factor due to its good risk-adjusted performance over this period. But **will this over-performance continue** in the future?\n",
    "\n",
    "In this exercise you will have to **test the stability of the optimal weights** on an alpha model in time. You should repeat the process to estimate the weights of the optimized alpha model with the MVA methodology over the following three periods of time:\n",
    "* 1996 - 2000\n",
    "* 2001 - 2005\n",
    "* 2006 - 2010\n",
    "\n",
    "After estimating the optimal composition on the three sub periods **plot each composition as a pie chart** and think about what the results say **about the stability** of the optimal factor mix in time."
   ]
  },
  {
   "cell_type": "code",
   "execution_count": 26,
   "id": "neither-apparatus",
   "metadata": {},
   "outputs": [
    {
     "data": {
      "text/plain": [
       "gp       0.594214\n",
       "epq      0.318370\n",
       "mom12    0.087416\n",
       "dtype: float64"
      ]
     },
     "execution_count": 26,
     "metadata": {},
     "output_type": "execute_result"
    }
   ],
   "source": [
    "First_date = '1996-01-01'\n",
    "Last_date = '2000-12-31'\n",
    "gp_ret, gp_turn, gp_comp, gp_perf = ap.backtesting(db['gp'], returns, market_cap, start=First_date, end=Last_date, N=Num_shares)\n",
    "epq_ret, epq_turn, epq_comp, epq_perf = ap.backtesting(db['epq'], returns, market_cap, start=First_date, end=Last_date, N=Num_shares)\n",
    "mom_ret, mom_turn, mom_comp, mom_perf = ap.backtesting(db['mom12'], returns, market_cap, start=First_date, end=Last_date, N=Num_shares)\n",
    "active00 = gp_ret['Active'].rename('gp').to_frame().join(epq_ret['Active'].rename('epq')).join(mom_ret['Active'].rename('mom12'))\n",
    "opt_weights00 = optimized_alpha_model(active00)\n",
    "opt_weights00"
   ]
  },
  {
   "cell_type": "code",
   "execution_count": 27,
   "id": "unlike-working",
   "metadata": {},
   "outputs": [
    {
     "data": {
      "text/plain": [
       "gp       1.504512e-01\n",
       "epq      8.495488e-01\n",
       "mom12    5.204170e-18\n",
       "dtype: float64"
      ]
     },
     "execution_count": 27,
     "metadata": {},
     "output_type": "execute_result"
    }
   ],
   "source": [
    "First_date = '2001-01-01'\n",
    "Last_date = '2005-12-31'\n",
    "gp_ret, gp_turn, gp_comp, gp_perf = ap.backtesting(db['gp'], returns, market_cap, start=First_date, end=Last_date, N=Num_shares)\n",
    "epq_ret, epq_turn, epq_comp, epq_perf = ap.backtesting(db['epq'], returns, market_cap, start=First_date, end=Last_date, N=Num_shares)\n",
    "mom_ret, mom_turn, mom_comp, mom_perf = ap.backtesting(db['mom12'], returns, market_cap, start=First_date, end=Last_date, N=Num_shares)\n",
    "active05 = gp_ret['Active'].rename('gp').to_frame().join(epq_ret['Active'].rename('epq')).join(mom_ret['Active'].rename('mom12'))\n",
    "opt_weights05 = optimized_alpha_model(active05)\n",
    "opt_weights05"
   ]
  },
  {
   "cell_type": "code",
   "execution_count": 28,
   "id": "nuclear-modem",
   "metadata": {},
   "outputs": [
    {
     "data": {
      "text/plain": [
       "gp       4.096125e-01\n",
       "epq      5.903875e-01\n",
       "mom12    1.856154e-16\n",
       "dtype: float64"
      ]
     },
     "execution_count": 28,
     "metadata": {},
     "output_type": "execute_result"
    }
   ],
   "source": [
    "First_date = '2006-01-01'\n",
    "Last_date = '2010-12-31'\n",
    "gp_ret, gp_turn, gp_comp, gp_perf = ap.backtesting(db['gp'], returns, market_cap, start=First_date, end=Last_date, N=Num_shares)\n",
    "epq_ret, epq_turn, epq_comp, epq_perf = ap.backtesting(db['epq'], returns, market_cap, start=First_date, end=Last_date, N=Num_shares)\n",
    "mom_ret, mom_turn, mom_comp, mom_perf = ap.backtesting(db['mom12'], returns, market_cap, start=First_date, end=Last_date, N=Num_shares)\n",
    "active10 = gp_ret['Active'].rename('gp').to_frame().join(epq_ret['Active'].rename('epq')).join(mom_ret['Active'].rename('mom12'))\n",
    "opt_weights10 = optimized_alpha_model(active10)\n",
    "opt_weights10"
   ]
  },
  {
   "cell_type": "code",
   "execution_count": 29,
   "id": "stainless-stream",
   "metadata": {},
   "outputs": [
    {
     "data": {
      "text/html": [
       "<div>\n",
       "<style scoped>\n",
       "    .dataframe tbody tr th:only-of-type {\n",
       "        vertical-align: middle;\n",
       "    }\n",
       "\n",
       "    .dataframe tbody tr th {\n",
       "        vertical-align: top;\n",
       "    }\n",
       "\n",
       "    .dataframe thead th {\n",
       "        text-align: right;\n",
       "    }\n",
       "</style>\n",
       "<table border=\"1\" class=\"dataframe\">\n",
       "  <thead>\n",
       "    <tr style=\"text-align: right;\">\n",
       "      <th></th>\n",
       "      <th>1996-2000</th>\n",
       "      <th>2001-2005</th>\n",
       "      <th>2006-2010</th>\n",
       "    </tr>\n",
       "  </thead>\n",
       "  <tbody>\n",
       "    <tr>\n",
       "      <th>gp</th>\n",
       "      <td>0.594214</td>\n",
       "      <td>1.504512e-01</td>\n",
       "      <td>4.096125e-01</td>\n",
       "    </tr>\n",
       "    <tr>\n",
       "      <th>epq</th>\n",
       "      <td>0.318370</td>\n",
       "      <td>8.495488e-01</td>\n",
       "      <td>5.903875e-01</td>\n",
       "    </tr>\n",
       "    <tr>\n",
       "      <th>mom12</th>\n",
       "      <td>0.087416</td>\n",
       "      <td>5.204170e-18</td>\n",
       "      <td>1.856154e-16</td>\n",
       "    </tr>\n",
       "  </tbody>\n",
       "</table>\n",
       "</div>"
      ],
      "text/plain": [
       "       1996-2000     2001-2005     2006-2010\n",
       "gp      0.594214  1.504512e-01  4.096125e-01\n",
       "epq     0.318370  8.495488e-01  5.903875e-01\n",
       "mom12   0.087416  5.204170e-18  1.856154e-16"
      ]
     },
     "execution_count": 29,
     "metadata": {},
     "output_type": "execute_result"
    }
   ],
   "source": [
    "optimal = opt_weights00.rename('1996-2000').to_frame().join(opt_weights05.rename('2001-2005')).join(opt_weights10.rename('2006-2010'))\n",
    "optimal"
   ]
  },
  {
   "cell_type": "code",
   "execution_count": 30,
   "id": "nominated-sense",
   "metadata": {},
   "outputs": [
    {
     "data": {
      "text/plain": [
       "array([<AxesSubplot:ylabel='1996-2000'>, <AxesSubplot:ylabel='2001-2005'>,\n",
       "       <AxesSubplot:ylabel='2006-2010'>], dtype=object)"
      ]
     },
     "execution_count": 30,
     "metadata": {},
     "output_type": "execute_result"
    },
    {
     "data": {
      "image/png": "[encoded data removed]",
      "text/plain": [
       "<Figure size 864x432 with 3 Axes>"
      ]
     },
     "metadata": {},
     "output_type": "display_data"
    }
   ],
   "source": [
    "optimal.plot(kind='pie',\n",
    "             subplots=True,\n",
    "             legend=False,\n",
    "             figsize=(12,6))"
   ]
  },
  {
   "cell_type": "markdown",
   "id": "b1caf6d4-c626-4ab2-906f-b62350469c06",
   "metadata": {},
   "source": [
    "___\n",
    "#### Coding issue\n",
    "In the solution above we have repeated the same lines of code multiple times. This should be avoided when possible, within reason. Here is a solution with a more elegant and concise loop:"
   ]
  },
  {
   "cell_type": "code",
   "execution_count": 31,
   "id": "0327ec72-09a3-4e18-b41e-ad453e410ab2",
   "metadata": {},
   "outputs": [
    {
     "data": {
      "text/html": [
       "<div>\n",
       "<style scoped>\n",
       "    .dataframe tbody tr th:only-of-type {\n",
       "        vertical-align: middle;\n",
       "    }\n",
       "\n",
       "    .dataframe tbody tr th {\n",
       "        vertical-align: top;\n",
       "    }\n",
       "\n",
       "    .dataframe thead th {\n",
       "        text-align: right;\n",
       "    }\n",
       "</style>\n",
       "<table border=\"1\" class=\"dataframe\">\n",
       "  <thead>\n",
       "    <tr style=\"text-align: right;\">\n",
       "      <th></th>\n",
       "      <th>1996-2000</th>\n",
       "      <th>2001-2005</th>\n",
       "      <th>2006-2010</th>\n",
       "    </tr>\n",
       "  </thead>\n",
       "  <tbody>\n",
       "    <tr>\n",
       "      <th>gp</th>\n",
       "      <td>0.594214</td>\n",
       "      <td>1.504512e-01</td>\n",
       "      <td>4.096125e-01</td>\n",
       "    </tr>\n",
       "    <tr>\n",
       "      <th>epq</th>\n",
       "      <td>0.318370</td>\n",
       "      <td>8.495488e-01</td>\n",
       "      <td>5.903875e-01</td>\n",
       "    </tr>\n",
       "    <tr>\n",
       "      <th>mom12</th>\n",
       "      <td>0.087416</td>\n",
       "      <td>5.204170e-18</td>\n",
       "      <td>1.856154e-16</td>\n",
       "    </tr>\n",
       "  </tbody>\n",
       "</table>\n",
       "</div>"
      ],
      "text/plain": [
       "       1996-2000     2001-2005     2006-2010\n",
       "gp      0.594214  1.504512e-01  4.096125e-01\n",
       "epq     0.318370  8.495488e-01  5.903875e-01\n",
       "mom12   0.087416  5.204170e-18  1.856154e-16"
      ]
     },
     "execution_count": 31,
     "metadata": {},
     "output_type": "execute_result"
    }
   ],
   "source": [
    "start_dates = ['1996-01-01', '2001-01-01', '2006-01-01']\n",
    "end_dates = ['2000-12-31', '2005-12-31', '2010-12-31']\n",
    "\n",
    "optimized = pd.DataFrame(index=['gp', 'epq', 'mom12'])\n",
    "\n",
    "for n in range(3):\n",
    "    \n",
    "    #We select the appropriate start and end date for each iteration\n",
    "    First_date = start_dates[n]\n",
    "    Last_date = end_dates[n]\n",
    "    \n",
    "    #We run the ususal code\n",
    "    gp_ret, gp_turn, gp_comp, gp_perf = ap.backtesting(db['gp'], returns, market_cap, start=First_date, end=Last_date, N=Num_shares)\n",
    "    epq_ret, epq_turn, epq_comp, epq_perf = ap.backtesting(db['epq'], returns, market_cap, start=First_date, end=Last_date, N=Num_shares)\n",
    "    mom_ret, mom_turn, mom_comp, mom_perf = ap.backtesting(db['mom12'], returns, market_cap, start=First_date, end=Last_date, N=Num_shares)\n",
    "    active_n = gp_ret['Active'].rename('gp').to_frame().join(epq_ret['Active'].rename('epq')).join(mom_ret['Active'].rename('mom12'))\n",
    "    opt_weights_n = optimized_alpha_model(active_n)\n",
    "    \n",
    "    #We build s string with the first and last year of the sample used in each loop\n",
    "    name = First_date[0:4] + '-' + Last_date[0:4]\n",
    "    \n",
    "    #We store the results in our output DataFrame using the period name\n",
    "    optimized = optimized.join(opt_weights_n.rename(name))\n",
    "    \n",
    "optimized"
   ]
  },
  {
   "cell_type": "markdown",
   "id": "chief-owner",
   "metadata": {},
   "source": [
    "___\n",
    "## 5. Advanced Topic: Walkforward Model\n",
    "From the exercise you have seen that the optimal composition of the multifactor model **changes in time** quite a bit. **It is unrealistic** to think that we can use backtesting results from the last 5 years to build a multifactor model that we will use for the next five years. \n",
    "\n",
    "In practice we would either choose a fixed equally weighted multifactor model where we give the same weight to each factor, or we could use an optimized model built with a **walkforward approach** where in each period we use the performance of the factor from the previous $T$ months to calculate the optimal composition. The $T$ parameter is called the _learning period_.\n",
    "\n",
    "Here we build a simple function that does exactly this. This function is included in the `apmodule`."
   ]
  },
  {
   "cell_type": "code",
   "execution_count": 32,
   "id": "79007c2c-e93e-4dda-b099-a01552286da0",
   "metadata": {
    "tags": []
   },
   "outputs": [],
   "source": [
    "def walkforward_alpha_model(active, T):\n",
    "    \n",
    "    #We create an empty DataFrame with the same columns as the input\n",
    "    model = pd.DataFrame(columns=active.columns)\n",
    "    \n",
    "    #We take the number of rows in the input\n",
    "    n_rows = active.shape[0]\n",
    "    \n",
    "    #We start the loop\n",
    "    for n in range(n_rows - T + 1):\n",
    "        \n",
    "        #We take a portion of the input from row n to n+T\n",
    "        active_t = active.iloc[n:n+T,:]\n",
    "        \n",
    "        #We run the factor optimization function\n",
    "        weights = optimized_alpha_model(active_t)\n",
    "        \n",
    "        #We appent the results to the output DataFrame\n",
    "        model = model.append(weights,ignore_index=True)\n",
    "    \n",
    "    #We use a portion of the index of the input as the index of the output\n",
    "    model = model.set_index(active.index[T-1:])\n",
    "        \n",
    "    #We return the output\n",
    "    return model"
   ]
  },
  {
   "cell_type": "markdown",
   "id": "be6c4b12-f2ae-43cf-a4bb-b418508b748d",
   "metadata": {},
   "source": [
    "Now that we have the function we will simply backtest the three factors **over the entire time period** available."
   ]
  },
  {
   "cell_type": "code",
   "execution_count": 33,
   "id": "30369422-6bed-4f00-8415-d77f29d34d21",
   "metadata": {},
   "outputs": [],
   "source": [
    "gp_ret, gp_turn, gp_comp, gp_perf = ap.backtesting(db['gp'], returns, market_cap, N=Num_shares)\n",
    "epq_ret, epq_turn, epq_comp, epq_perf = ap.backtesting(db['epq'], returns, market_cap, N=Num_shares)\n",
    "mom_ret, mom_turn, mom_comp, mom_perf = ap.backtesting(db['mom12'], returns, market_cap, N=Num_shares)\n",
    "\n",
    "active_tot = gp_ret['Active'].rename('gp').to_frame().join(epq_ret['Active'].rename('epq')).join(mom_ret['Active'].rename('mom12'))"
   ]
  },
  {
   "cell_type": "markdown",
   "id": "a7281701-c991-40b6-90da-98c88732b593",
   "metadata": {},
   "source": [
    "We can then pass the DataFrame with the active return to the walkforward function and **estimate, every month, the optimal composition** of the multifactor model using the **previous $T=60$ months** of active returns."
   ]
  },
  {
   "cell_type": "code",
   "execution_count": 34,
   "id": "73215467-9541-4e30-877b-c14bd92df29a",
   "metadata": {},
   "outputs": [
    {
     "data": {
      "text/html": [
       "<div>\n",
       "<style scoped>\n",
       "    .dataframe tbody tr th:only-of-type {\n",
       "        vertical-align: middle;\n",
       "    }\n",
       "\n",
       "    .dataframe tbody tr th {\n",
       "        vertical-align: top;\n",
       "    }\n",
       "\n",
       "    .dataframe thead th {\n",
       "        text-align: right;\n",
       "    }\n",
       "</style>\n",
       "<table border=\"1\" class=\"dataframe\">\n",
       "  <thead>\n",
       "    <tr style=\"text-align: right;\">\n",
       "      <th></th>\n",
       "      <th>gp</th>\n",
       "      <th>epq</th>\n",
       "      <th>mom12</th>\n",
       "    </tr>\n",
       "    <tr>\n",
       "      <th>date</th>\n",
       "      <th></th>\n",
       "      <th></th>\n",
       "      <th></th>\n",
       "    </tr>\n",
       "  </thead>\n",
       "  <tbody>\n",
       "    <tr>\n",
       "      <th>1984-12-31</th>\n",
       "      <td>0.338302</td>\n",
       "      <td>0.591488</td>\n",
       "      <td>0.070210</td>\n",
       "    </tr>\n",
       "    <tr>\n",
       "      <th>1985-01-31</th>\n",
       "      <td>0.357494</td>\n",
       "      <td>0.584938</td>\n",
       "      <td>0.057568</td>\n",
       "    </tr>\n",
       "    <tr>\n",
       "      <th>1985-02-28</th>\n",
       "      <td>0.333919</td>\n",
       "      <td>0.583741</td>\n",
       "      <td>0.082339</td>\n",
       "    </tr>\n",
       "    <tr>\n",
       "      <th>1985-03-29</th>\n",
       "      <td>0.330850</td>\n",
       "      <td>0.583850</td>\n",
       "      <td>0.085300</td>\n",
       "    </tr>\n",
       "    <tr>\n",
       "      <th>1985-04-30</th>\n",
       "      <td>0.330734</td>\n",
       "      <td>0.582941</td>\n",
       "      <td>0.086325</td>\n",
       "    </tr>\n",
       "  </tbody>\n",
       "</table>\n",
       "</div>"
      ],
      "text/plain": [
       "                  gp       epq     mom12\n",
       "date                                    \n",
       "1984-12-31  0.338302  0.591488  0.070210\n",
       "1985-01-31  0.357494  0.584938  0.057568\n",
       "1985-02-28  0.333919  0.583741  0.082339\n",
       "1985-03-29  0.330850  0.583850  0.085300\n",
       "1985-04-30  0.330734  0.582941  0.086325"
      ]
     },
     "execution_count": 34,
     "metadata": {},
     "output_type": "execute_result"
    }
   ],
   "source": [
    "wf_model= walkforward_alpha_model(active_tot,60)\n",
    "wf_model.head()"
   ]
  },
  {
   "cell_type": "markdown",
   "id": "5eff53c4-a583-4787-8b2d-dd8b5c3e1728",
   "metadata": {},
   "source": [
    "We can better **visualize the evolution** of the multifactor model with an area plot."
   ]
  },
  {
   "cell_type": "code",
   "execution_count": 35,
   "id": "02770059-4450-4706-90b0-b924118566ef",
   "metadata": {},
   "outputs": [
    {
     "data": {
      "text/plain": [
       "<matplotlib.legend.Legend at 0x7fa9bbb211c0>"
      ]
     },
     "execution_count": 35,
     "metadata": {},
     "output_type": "execute_result"
    },
    {
     "data": {
      "image/png": "[encoded data removed]",
      "text/plain": [
       "<Figure size 720x432 with 1 Axes>"
      ]
     },
     "metadata": {
      "needs_background": "light"
     },
     "output_type": "display_data"
    }
   ],
   "source": [
    "wf_model.plot(figsize=(10,6),\n",
    "              kind='area',\n",
    "              ylabel='Factor Weight',\n",
    "              xlabel='Year',\n",
    "              title='Walkforward T=60',\n",
    "              ylim=[0,1],\n",
    "              xlim=[wf_model.index.min(), wf_model.index.max()])\n",
    "\n",
    "plt.legend(loc='center left', bbox_to_anchor=(1, 0.5))"
   ]
  },
  {
   "cell_type": "markdown",
   "id": "2c1f28cd-48d0-4a4a-9562-6a436b817cf6",
   "metadata": {},
   "source": [
    "We could now in theory build an investment strategy where **every month we combine our three information signals with different weights** based on their performance over the previous 5 years. Of course we could also use shorter or longer learning periods..."
   ]
  }
 ],
 "metadata": {
  "kernelspec": {
   "display_name": "Python 3",
   "language": "python",
   "name": "python3"
  },
  "language_info": {
   "codemirror_mode": {
    "name": "ipython",
    "version": 3
   },
   "file_extension": ".py",
   "mimetype": "text/x-python",
   "name": "python",
   "nbconvert_exporter": "python",
   "pygments_lexer": "ipython3",
   "version": "3.8.8"
  }
 },
 "nbformat": 4,
 "nbformat_minor": 5
}
